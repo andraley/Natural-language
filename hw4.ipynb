{
  "nbformat": 4,
  "nbformat_minor": 0,
  "metadata": {
    "colab": {
      "name": "hw4.ipynb",
      "provenance": [],
      "collapsed_sections": []
    },
    "kernelspec": {
      "name": "python3",
      "display_name": "Python 3"
    },
    "language_info": {
      "name": "python"
    }
  },
  "cells": [
    {
      "cell_type": "code",
      "execution_count": 1,
      "metadata": {
        "colab": {
          "base_uri": "https://localhost:8080/"
        },
        "id": "3S0apWwO4Cv9",
        "outputId": "bb80ac00-e408-470c-a530-a8c9877b4fc4"
      },
      "outputs": [
        {
          "output_type": "stream",
          "name": "stdout",
          "text": [
            "Looking in indexes: https://pypi.org/simple, https://us-python.pkg.dev/colab-wheels/public/simple/\n",
            "Requirement already satisfied: pymorphy2 in /usr/local/lib/python3.7/dist-packages (0.9.1)\n",
            "Requirement already satisfied: docopt>=0.6 in /usr/local/lib/python3.7/dist-packages (from pymorphy2) (0.6.2)\n",
            "Requirement already satisfied: pymorphy2-dicts-ru<3.0,>=2.4 in /usr/local/lib/python3.7/dist-packages (from pymorphy2) (2.4.417127.4579844)\n",
            "Requirement already satisfied: dawg-python>=0.7.1 in /usr/local/lib/python3.7/dist-packages (from pymorphy2) (0.7.2)\n"
          ]
        }
      ],
      "source": [
        "!pip install pymorphy2"
      ]
    },
    {
      "cell_type": "code",
      "source": [
        "!pip install pyLDAvis"
      ],
      "metadata": {
        "colab": {
          "base_uri": "https://localhost:8080/"
        },
        "id": "T7DK0y6jC84d",
        "outputId": "f60b65c3-b048-457f-db6c-444bec55cd85"
      },
      "execution_count": 2,
      "outputs": [
        {
          "output_type": "stream",
          "name": "stdout",
          "text": [
            "Looking in indexes: https://pypi.org/simple, https://us-python.pkg.dev/colab-wheels/public/simple/\n",
            "Requirement already satisfied: pyLDAvis in /usr/local/lib/python3.7/dist-packages (3.3.1)\n",
            "Requirement already satisfied: sklearn in /usr/local/lib/python3.7/dist-packages (from pyLDAvis) (0.0)\n",
            "Requirement already satisfied: funcy in /usr/local/lib/python3.7/dist-packages (from pyLDAvis) (1.17)\n",
            "Requirement already satisfied: setuptools in /usr/local/lib/python3.7/dist-packages (from pyLDAvis) (57.4.0)\n",
            "Requirement already satisfied: future in /usr/local/lib/python3.7/dist-packages (from pyLDAvis) (0.16.0)\n",
            "Requirement already satisfied: scikit-learn in /usr/local/lib/python3.7/dist-packages (from pyLDAvis) (1.0.2)\n",
            "Requirement already satisfied: joblib in /usr/local/lib/python3.7/dist-packages (from pyLDAvis) (1.1.0)\n",
            "Requirement already satisfied: scipy in /usr/local/lib/python3.7/dist-packages (from pyLDAvis) (1.4.1)\n",
            "Requirement already satisfied: numexpr in /usr/local/lib/python3.7/dist-packages (from pyLDAvis) (2.8.1)\n",
            "Requirement already satisfied: gensim in /usr/local/lib/python3.7/dist-packages (from pyLDAvis) (4.2.0)\n",
            "Requirement already satisfied: numpy>=1.20.0 in /usr/local/lib/python3.7/dist-packages (from pyLDAvis) (1.21.6)\n",
            "Requirement already satisfied: pandas>=1.2.0 in /usr/local/lib/python3.7/dist-packages (from pyLDAvis) (1.3.5)\n",
            "Requirement already satisfied: jinja2 in /usr/local/lib/python3.7/dist-packages (from pyLDAvis) (2.11.3)\n",
            "Requirement already satisfied: pytz>=2017.3 in /usr/local/lib/python3.7/dist-packages (from pandas>=1.2.0->pyLDAvis) (2022.1)\n",
            "Requirement already satisfied: python-dateutil>=2.7.3 in /usr/local/lib/python3.7/dist-packages (from pandas>=1.2.0->pyLDAvis) (2.8.2)\n",
            "Requirement already satisfied: six>=1.5 in /usr/local/lib/python3.7/dist-packages (from python-dateutil>=2.7.3->pandas>=1.2.0->pyLDAvis) (1.15.0)\n",
            "Requirement already satisfied: smart-open>=1.8.1 in /usr/local/lib/python3.7/dist-packages (from gensim->pyLDAvis) (6.0.0)\n",
            "Requirement already satisfied: MarkupSafe>=0.23 in /usr/local/lib/python3.7/dist-packages (from jinja2->pyLDAvis) (2.0.1)\n",
            "Requirement already satisfied: packaging in /usr/local/lib/python3.7/dist-packages (from numexpr->pyLDAvis) (21.3)\n",
            "Requirement already satisfied: pyparsing!=3.0.5,>=2.0.2 in /usr/local/lib/python3.7/dist-packages (from packaging->numexpr->pyLDAvis) (3.0.9)\n",
            "Requirement already satisfied: threadpoolctl>=2.0.0 in /usr/local/lib/python3.7/dist-packages (from scikit-learn->pyLDAvis) (3.1.0)\n"
          ]
        }
      ]
    },
    {
      "cell_type": "code",
      "source": [
        "!pip install -U gensim"
      ],
      "metadata": {
        "colab": {
          "base_uri": "https://localhost:8080/"
        },
        "id": "GIH8Mqiq5Uyl",
        "outputId": "262b3bd3-e6ee-4a33-9e58-cbc19bf7397a"
      },
      "execution_count": 3,
      "outputs": [
        {
          "output_type": "stream",
          "name": "stdout",
          "text": [
            "Looking in indexes: https://pypi.org/simple, https://us-python.pkg.dev/colab-wheels/public/simple/\n",
            "Requirement already satisfied: gensim in /usr/local/lib/python3.7/dist-packages (4.2.0)\n",
            "Requirement already satisfied: numpy>=1.17.0 in /usr/local/lib/python3.7/dist-packages (from gensim) (1.21.6)\n",
            "Requirement already satisfied: smart-open>=1.8.1 in /usr/local/lib/python3.7/dist-packages (from gensim) (6.0.0)\n",
            "Requirement already satisfied: scipy>=0.18.1 in /usr/local/lib/python3.7/dist-packages (from gensim) (1.4.1)\n"
          ]
        }
      ]
    },
    {
      "cell_type": "code",
      "source": [
        "!pip install stop_words"
      ],
      "metadata": {
        "colab": {
          "base_uri": "https://localhost:8080/"
        },
        "id": "yMO_MSii84RP",
        "outputId": "a3362ea3-a0ca-4fe9-8b12-a4697a4b61c2"
      },
      "execution_count": 4,
      "outputs": [
        {
          "output_type": "stream",
          "name": "stdout",
          "text": [
            "Looking in indexes: https://pypi.org/simple, https://us-python.pkg.dev/colab-wheels/public/simple/\n",
            "Requirement already satisfied: stop_words in /usr/local/lib/python3.7/dist-packages (2018.7.23)\n"
          ]
        }
      ]
    },
    {
      "cell_type": "code",
      "source": [
        "!pip install annoy"
      ],
      "metadata": {
        "colab": {
          "base_uri": "https://localhost:8080/"
        },
        "id": "i2REqwg086jk",
        "outputId": "3c2bd497-4954-4fe1-b18c-e7eabc83d8c8"
      },
      "execution_count": 5,
      "outputs": [
        {
          "output_type": "stream",
          "name": "stdout",
          "text": [
            "Looking in indexes: https://pypi.org/simple, https://us-python.pkg.dev/colab-wheels/public/simple/\n",
            "Requirement already satisfied: annoy in /usr/local/lib/python3.7/dist-packages (1.17.0)\n"
          ]
        }
      ]
    },
    {
      "cell_type": "markdown",
      "source": [
        "### Урок 4. Тематическое моделирование. EM-алгоритм"
      ],
      "metadata": {
        "id": "LY84Rcxw7KAD"
      }
    },
    {
      "cell_type": "markdown",
      "source": [
        "Задача тематическое моделирование\n",
        "\n",
        "продолжаем исследование датасета с твитами\n",
        "\n",
        "Скачиваем датасет (источник): положительные, отрицательные.\n",
        "\n",
        "или можно через ноутбук\n",
        "\n",
        "!wget https://www.dropbox.com/s/fnpq3z4bcnoktiv/positive.csv\n",
        "!wget https://www.dropbox.com/s/r6u59ljhhjdg6j0/negative.csv\n",
        "\n",
        "как альтернатива можно скачать данные из Роспотребнадзора\n",
        "https://zpp.rospotrebnadzor.ru/Forum/Appeals\n",
        "для этого берём ноутбук parse_rospotrebnadzor.ipynb\n",
        "устанавливаем количество скачанных страниц больше не 50-сят хотябы 500 и для анализа берём только вопросы так как ответы есть не всегда\n",
        "\n",
        "что надо сделать\n",
        "1. объединить в одну выборку (это только для твитов), для роспотребнадзора сформировать датасет из вопросов"
      ],
      "metadata": {
        "id": "l34G7O9C7P54"
      }
    },
    {
      "cell_type": "code",
      "source": [
        "!wget https://www.dropbox.com/s/fnpq3z4bcnoktiv/positive.csv\n",
        "!wget https://www.dropbox.com/s/r6u59ljhhjdg6j0/negative.csv"
      ],
      "metadata": {
        "colab": {
          "base_uri": "https://localhost:8080/"
        },
        "id": "ohwJOUf77O3j",
        "outputId": "f5e96dd4-a4b4-4a40-ad0d-057d34e9f16e"
      },
      "execution_count": 6,
      "outputs": [
        {
          "output_type": "stream",
          "name": "stdout",
          "text": [
            "--2022-06-11 07:52:27--  https://www.dropbox.com/s/fnpq3z4bcnoktiv/positive.csv\n",
            "Resolving www.dropbox.com (www.dropbox.com)... 162.125.2.18, 2620:100:6022:18::a27d:4212\n",
            "Connecting to www.dropbox.com (www.dropbox.com)|162.125.2.18|:443... connected.\n",
            "HTTP request sent, awaiting response... 301 Moved Permanently\n",
            "Location: /s/raw/fnpq3z4bcnoktiv/positive.csv [following]\n",
            "--2022-06-11 07:52:27--  https://www.dropbox.com/s/raw/fnpq3z4bcnoktiv/positive.csv\n",
            "Reusing existing connection to www.dropbox.com:443.\n",
            "HTTP request sent, awaiting response... 302 Found\n",
            "Location: https://ucd82863b731d3fe8aa4c170adc1.dl.dropboxusercontent.com/cd/0/inline/Bm-FIFq-2ulUWi-YaU5jW_Vip2e7tmNPkKJ2yAJNTiCWWRc4xzB1qHI3yJv4uce76MFbkg-0tyLtrd1aXjNQ8zMp_dcKkOHIhd9WuKLxu1lKTseo_90jKZszeJJyCKDCRwuwkFDw0CSGWw37VDdiid8k1uLhPha5Orz06ekil8XIdg/file# [following]\n",
            "--2022-06-11 07:52:28--  https://ucd82863b731d3fe8aa4c170adc1.dl.dropboxusercontent.com/cd/0/inline/Bm-FIFq-2ulUWi-YaU5jW_Vip2e7tmNPkKJ2yAJNTiCWWRc4xzB1qHI3yJv4uce76MFbkg-0tyLtrd1aXjNQ8zMp_dcKkOHIhd9WuKLxu1lKTseo_90jKZszeJJyCKDCRwuwkFDw0CSGWw37VDdiid8k1uLhPha5Orz06ekil8XIdg/file\n",
            "Resolving ucd82863b731d3fe8aa4c170adc1.dl.dropboxusercontent.com (ucd82863b731d3fe8aa4c170adc1.dl.dropboxusercontent.com)... 162.125.3.15, 2620:100:6017:15::a27d:20f\n",
            "Connecting to ucd82863b731d3fe8aa4c170adc1.dl.dropboxusercontent.com (ucd82863b731d3fe8aa4c170adc1.dl.dropboxusercontent.com)|162.125.3.15|:443... connected.\n",
            "HTTP request sent, awaiting response... 200 OK\n",
            "Length: 26233379 (25M) [text/plain]\n",
            "Saving to: ‘positive.csv.4’\n",
            "\n",
            "positive.csv.4      100%[===================>]  25.02M  32.4MB/s    in 0.8s    \n",
            "\n",
            "2022-06-11 07:52:29 (32.4 MB/s) - ‘positive.csv.4’ saved [26233379/26233379]\n",
            "\n",
            "--2022-06-11 07:52:29--  https://www.dropbox.com/s/r6u59ljhhjdg6j0/negative.csv\n",
            "Resolving www.dropbox.com (www.dropbox.com)... 162.125.2.18, 2620:100:6022:18::a27d:4212\n",
            "Connecting to www.dropbox.com (www.dropbox.com)|162.125.2.18|:443... connected.\n",
            "HTTP request sent, awaiting response... 301 Moved Permanently\n",
            "Location: /s/raw/r6u59ljhhjdg6j0/negative.csv [following]\n",
            "--2022-06-11 07:52:29--  https://www.dropbox.com/s/raw/r6u59ljhhjdg6j0/negative.csv\n",
            "Reusing existing connection to www.dropbox.com:443.\n",
            "HTTP request sent, awaiting response... 302 Found\n",
            "Location: https://ucb69b642681d117eff51d31dcbb.dl.dropboxusercontent.com/cd/0/inline/Bm8BEKnKjAbPEwlTGo3UNMmWsThXNqBjGcJit-_FSQejZhKZrL3PWrK-KxN9TYl3IoU2pMnZSgncV9UCPcu0zaa1IEhKAHlEeg7kc254udVu9WznrHwXpt30SQ8wsBube0O0bhESV9g9_e89A04lU3gaKmIjzh3HiUQBUcdzZuVncg/file# [following]\n",
            "--2022-06-11 07:52:29--  https://ucb69b642681d117eff51d31dcbb.dl.dropboxusercontent.com/cd/0/inline/Bm8BEKnKjAbPEwlTGo3UNMmWsThXNqBjGcJit-_FSQejZhKZrL3PWrK-KxN9TYl3IoU2pMnZSgncV9UCPcu0zaa1IEhKAHlEeg7kc254udVu9WznrHwXpt30SQ8wsBube0O0bhESV9g9_e89A04lU3gaKmIjzh3HiUQBUcdzZuVncg/file\n",
            "Resolving ucb69b642681d117eff51d31dcbb.dl.dropboxusercontent.com (ucb69b642681d117eff51d31dcbb.dl.dropboxusercontent.com)... 162.125.2.15, 2620:100:6022:15::a27d:420f\n",
            "Connecting to ucb69b642681d117eff51d31dcbb.dl.dropboxusercontent.com (ucb69b642681d117eff51d31dcbb.dl.dropboxusercontent.com)|162.125.2.15|:443... connected.\n",
            "HTTP request sent, awaiting response... 200 OK\n",
            "Length: 24450101 (23M) [text/plain]\n",
            "Saving to: ‘negative.csv.4’\n",
            "\n",
            "negative.csv.4      100%[===================>]  23.32M  63.8MB/s    in 0.4s    \n",
            "\n",
            "2022-06-11 07:52:30 (63.8 MB/s) - ‘negative.csv.4’ saved [24450101/24450101]\n",
            "\n"
          ]
        }
      ]
    },
    {
      "cell_type": "code",
      "source": [
        "import nltk\n",
        "nltk.download('stopwords')"
      ],
      "metadata": {
        "colab": {
          "base_uri": "https://localhost:8080/"
        },
        "id": "X_RLuJoN3xqE",
        "outputId": "cd097aa7-2d4a-4334-d11d-49438cc7fef3"
      },
      "execution_count": 7,
      "outputs": [
        {
          "output_type": "stream",
          "name": "stdout",
          "text": [
            "[nltk_data] Downloading package stopwords to /root/nltk_data...\n",
            "[nltk_data]   Package stopwords is already up-to-date!\n"
          ]
        },
        {
          "output_type": "execute_result",
          "data": {
            "text/plain": [
              "True"
            ]
          },
          "metadata": {},
          "execution_count": 7
        }
      ]
    },
    {
      "cell_type": "code",
      "source": [
        "import warnings\n",
        "warnings.filterwarnings(\"ignore\", category=DeprecationWarning) "
      ],
      "metadata": {
        "id": "QeiQHDvqIIi-"
      },
      "execution_count": 8,
      "outputs": []
    },
    {
      "cell_type": "code",
      "source": [
        "import string\n",
        "import pymorphy2\n",
        "from stop_words import get_stop_words\n",
        "import annoy\n",
        "import re\n",
        "from gensim.models import Word2Vec, FastText\n",
        "import pickle\n",
        "import numpy as np\n",
        "from tqdm.notebook import tqdm\n",
        "import pandas as pd\n",
        "from gensim.models import *\n",
        "from gensim import corpora\n",
        "import pyLDAvis\n",
        "import pyLDAvis.gensim_models as gensimvis\n",
        "\n",
        "from sklearn.metrics import *\n",
        "from sklearn.model_selection import train_test_split"
      ],
      "metadata": {
        "colab": {
          "base_uri": "https://localhost:8080/"
        },
        "id": "duMbGQnC7W9c",
        "outputId": "ac434ad1-4fa6-49c6-8129-f3a61aa375e2"
      },
      "execution_count": 9,
      "outputs": [
        {
          "output_type": "stream",
          "name": "stderr",
          "text": [
            "/usr/local/lib/python3.7/dist-packages/past/types/oldstr.py:5: DeprecationWarning: Using or importing the ABCs from 'collections' instead of from 'collections.abc' is deprecated since Python 3.3,and in 3.9 it will stop working\n",
            "  from collections import Iterable\n",
            "/usr/local/lib/python3.7/dist-packages/past/builtins/misc.py:4: DeprecationWarning: Using or importing the ABCs from 'collections' instead of from 'collections.abc' is deprecated since Python 3.3,and in 3.9 it will stop working\n",
            "  from collections import Mapping\n"
          ]
        }
      ]
    },
    {
      "cell_type": "code",
      "source": [
        "positive = pd.read_csv('positive.csv', sep=';', usecols=[3], names=['text'])\n",
        "\n",
        "negative = pd.read_csv('negative.csv', sep=';', usecols=[3], names=['text'])\n",
        "\n",
        "df = positive.append(negative)\n",
        "\n",
        "#df = df.reset_index().drop('index', axis=1)"
      ],
      "metadata": {
        "id": "a0Y33CO78nFt"
      },
      "execution_count": 10,
      "outputs": []
    },
    {
      "cell_type": "code",
      "source": [
        "df.head()"
      ],
      "metadata": {
        "colab": {
          "base_uri": "https://localhost:8080/",
          "height": 206
        },
        "id": "o5NZ_naU91tp",
        "outputId": "cdd16fe5-d5eb-45e7-ac3a-3ed335560826"
      },
      "execution_count": 11,
      "outputs": [
        {
          "output_type": "execute_result",
          "data": {
            "text/plain": [
              "                                                text\n",
              "0  @first_timee хоть я и школота, но поверь, у на...\n",
              "1  Да, все-таки он немного похож на него. Но мой ...\n",
              "2  RT @KatiaCheh: Ну ты идиотка) я испугалась за ...\n",
              "3  RT @digger2912: \"Кто то в углу сидит и погибае...\n",
              "4  @irina_dyshkant Вот что значит страшилка :D\\nН..."
            ],
            "text/html": [
              "\n",
              "  <div id=\"df-b190e7d8-3569-49e0-9d41-a619d15f21c8\">\n",
              "    <div class=\"colab-df-container\">\n",
              "      <div>\n",
              "<style scoped>\n",
              "    .dataframe tbody tr th:only-of-type {\n",
              "        vertical-align: middle;\n",
              "    }\n",
              "\n",
              "    .dataframe tbody tr th {\n",
              "        vertical-align: top;\n",
              "    }\n",
              "\n",
              "    .dataframe thead th {\n",
              "        text-align: right;\n",
              "    }\n",
              "</style>\n",
              "<table border=\"1\" class=\"dataframe\">\n",
              "  <thead>\n",
              "    <tr style=\"text-align: right;\">\n",
              "      <th></th>\n",
              "      <th>text</th>\n",
              "    </tr>\n",
              "  </thead>\n",
              "  <tbody>\n",
              "    <tr>\n",
              "      <th>0</th>\n",
              "      <td>@first_timee хоть я и школота, но поверь, у на...</td>\n",
              "    </tr>\n",
              "    <tr>\n",
              "      <th>1</th>\n",
              "      <td>Да, все-таки он немного похож на него. Но мой ...</td>\n",
              "    </tr>\n",
              "    <tr>\n",
              "      <th>2</th>\n",
              "      <td>RT @KatiaCheh: Ну ты идиотка) я испугалась за ...</td>\n",
              "    </tr>\n",
              "    <tr>\n",
              "      <th>3</th>\n",
              "      <td>RT @digger2912: \"Кто то в углу сидит и погибае...</td>\n",
              "    </tr>\n",
              "    <tr>\n",
              "      <th>4</th>\n",
              "      <td>@irina_dyshkant Вот что значит страшилка :D\\nН...</td>\n",
              "    </tr>\n",
              "  </tbody>\n",
              "</table>\n",
              "</div>\n",
              "      <button class=\"colab-df-convert\" onclick=\"convertToInteractive('df-b190e7d8-3569-49e0-9d41-a619d15f21c8')\"\n",
              "              title=\"Convert this dataframe to an interactive table.\"\n",
              "              style=\"display:none;\">\n",
              "        \n",
              "  <svg xmlns=\"http://www.w3.org/2000/svg\" height=\"24px\"viewBox=\"0 0 24 24\"\n",
              "       width=\"24px\">\n",
              "    <path d=\"M0 0h24v24H0V0z\" fill=\"none\"/>\n",
              "    <path d=\"M18.56 5.44l.94 2.06.94-2.06 2.06-.94-2.06-.94-.94-2.06-.94 2.06-2.06.94zm-11 1L8.5 8.5l.94-2.06 2.06-.94-2.06-.94L8.5 2.5l-.94 2.06-2.06.94zm10 10l.94 2.06.94-2.06 2.06-.94-2.06-.94-.94-2.06-.94 2.06-2.06.94z\"/><path d=\"M17.41 7.96l-1.37-1.37c-.4-.4-.92-.59-1.43-.59-.52 0-1.04.2-1.43.59L10.3 9.45l-7.72 7.72c-.78.78-.78 2.05 0 2.83L4 21.41c.39.39.9.59 1.41.59.51 0 1.02-.2 1.41-.59l7.78-7.78 2.81-2.81c.8-.78.8-2.07 0-2.86zM5.41 20L4 18.59l7.72-7.72 1.47 1.35L5.41 20z\"/>\n",
              "  </svg>\n",
              "      </button>\n",
              "      \n",
              "  <style>\n",
              "    .colab-df-container {\n",
              "      display:flex;\n",
              "      flex-wrap:wrap;\n",
              "      gap: 12px;\n",
              "    }\n",
              "\n",
              "    .colab-df-convert {\n",
              "      background-color: #E8F0FE;\n",
              "      border: none;\n",
              "      border-radius: 50%;\n",
              "      cursor: pointer;\n",
              "      display: none;\n",
              "      fill: #1967D2;\n",
              "      height: 32px;\n",
              "      padding: 0 0 0 0;\n",
              "      width: 32px;\n",
              "    }\n",
              "\n",
              "    .colab-df-convert:hover {\n",
              "      background-color: #E2EBFA;\n",
              "      box-shadow: 0px 1px 2px rgba(60, 64, 67, 0.3), 0px 1px 3px 1px rgba(60, 64, 67, 0.15);\n",
              "      fill: #174EA6;\n",
              "    }\n",
              "\n",
              "    [theme=dark] .colab-df-convert {\n",
              "      background-color: #3B4455;\n",
              "      fill: #D2E3FC;\n",
              "    }\n",
              "\n",
              "    [theme=dark] .colab-df-convert:hover {\n",
              "      background-color: #434B5C;\n",
              "      box-shadow: 0px 1px 3px 1px rgba(0, 0, 0, 0.15);\n",
              "      filter: drop-shadow(0px 1px 2px rgba(0, 0, 0, 0.3));\n",
              "      fill: #FFFFFF;\n",
              "    }\n",
              "  </style>\n",
              "\n",
              "      <script>\n",
              "        const buttonEl =\n",
              "          document.querySelector('#df-b190e7d8-3569-49e0-9d41-a619d15f21c8 button.colab-df-convert');\n",
              "        buttonEl.style.display =\n",
              "          google.colab.kernel.accessAllowed ? 'block' : 'none';\n",
              "\n",
              "        async function convertToInteractive(key) {\n",
              "          const element = document.querySelector('#df-b190e7d8-3569-49e0-9d41-a619d15f21c8');\n",
              "          const dataTable =\n",
              "            await google.colab.kernel.invokeFunction('convertToInteractive',\n",
              "                                                     [key], {});\n",
              "          if (!dataTable) return;\n",
              "\n",
              "          const docLinkHtml = 'Like what you see? Visit the ' +\n",
              "            '<a target=\"_blank\" href=https://colab.research.google.com/notebooks/data_table.ipynb>data table notebook</a>'\n",
              "            + ' to learn more about interactive tables.';\n",
              "          element.innerHTML = '';\n",
              "          dataTable['output_type'] = 'display_data';\n",
              "          await google.colab.output.renderOutput(dataTable, element);\n",
              "          const docLink = document.createElement('div');\n",
              "          docLink.innerHTML = docLinkHtml;\n",
              "          element.appendChild(docLink);\n",
              "        }\n",
              "      </script>\n",
              "    </div>\n",
              "  </div>\n",
              "  "
            ]
          },
          "metadata": {},
          "execution_count": 11
        }
      ]
    },
    {
      "cell_type": "markdown",
      "source": [
        "2. провести исследование и выявить тематики о которых говорят в твитах (для твитов), а для роспотребнадзора так же выявить тематики о которых люди пишут проанализировать"
      ],
      "metadata": {
        "id": "Tyotclfk9_KE"
      }
    },
    {
      "cell_type": "code",
      "source": [
        "#df = df.sample(10000)"
      ],
      "metadata": {
        "id": "VXXJ8w55yybq"
      },
      "execution_count": 12,
      "outputs": []
    },
    {
      "cell_type": "code",
      "source": [
        "morph = pymorphy2.MorphAnalyzer()"
      ],
      "metadata": {
        "colab": {
          "base_uri": "https://localhost:8080/"
        },
        "id": "N0eY-A13-Amu",
        "outputId": "86444d23-3513-4213-c91f-7194a77ce444"
      },
      "execution_count": 13,
      "outputs": [
        {
          "output_type": "stream",
          "name": "stderr",
          "text": [
            "/usr/local/lib/python3.7/dist-packages/pymorphy2/units/base.py:70: DeprecationWarning: inspect.getargspec() is deprecated since Python 3.0, use inspect.signature() or inspect.getfullargspec()\n",
            "  args, varargs, kw, default = inspect.getargspec(cls.__init__)\n",
            "/usr/local/lib/python3.7/dist-packages/pymorphy2/units/base.py:70: DeprecationWarning: inspect.getargspec() is deprecated since Python 3.0, use inspect.signature() or inspect.getfullargspec()\n",
            "  args, varargs, kw, default = inspect.getargspec(cls.__init__)\n",
            "/usr/local/lib/python3.7/dist-packages/pymorphy2/units/base.py:70: DeprecationWarning: inspect.getargspec() is deprecated since Python 3.0, use inspect.signature() or inspect.getfullargspec()\n",
            "  args, varargs, kw, default = inspect.getargspec(cls.__init__)\n",
            "/usr/local/lib/python3.7/dist-packages/pymorphy2/units/base.py:70: DeprecationWarning: inspect.getargspec() is deprecated since Python 3.0, use inspect.signature() or inspect.getfullargspec()\n",
            "  args, varargs, kw, default = inspect.getargspec(cls.__init__)\n",
            "/usr/local/lib/python3.7/dist-packages/pymorphy2/units/base.py:70: DeprecationWarning: inspect.getargspec() is deprecated since Python 3.0, use inspect.signature() or inspect.getfullargspec()\n",
            "  args, varargs, kw, default = inspect.getargspec(cls.__init__)\n",
            "/usr/local/lib/python3.7/dist-packages/pymorphy2/units/base.py:70: DeprecationWarning: inspect.getargspec() is deprecated since Python 3.0, use inspect.signature() or inspect.getfullargspec()\n",
            "  args, varargs, kw, default = inspect.getargspec(cls.__init__)\n",
            "/usr/local/lib/python3.7/dist-packages/pymorphy2/units/base.py:70: DeprecationWarning: inspect.getargspec() is deprecated since Python 3.0, use inspect.signature() or inspect.getfullargspec()\n",
            "  args, varargs, kw, default = inspect.getargspec(cls.__init__)\n",
            "/usr/local/lib/python3.7/dist-packages/pymorphy2/units/base.py:70: DeprecationWarning: inspect.getargspec() is deprecated since Python 3.0, use inspect.signature() or inspect.getfullargspec()\n",
            "  args, varargs, kw, default = inspect.getargspec(cls.__init__)\n",
            "/usr/local/lib/python3.7/dist-packages/pymorphy2/units/base.py:70: DeprecationWarning: inspect.getargspec() is deprecated since Python 3.0, use inspect.signature() or inspect.getfullargspec()\n",
            "  args, varargs, kw, default = inspect.getargspec(cls.__init__)\n",
            "/usr/local/lib/python3.7/dist-packages/pymorphy2/units/base.py:70: DeprecationWarning: inspect.getargspec() is deprecated since Python 3.0, use inspect.signature() or inspect.getfullargspec()\n",
            "  args, varargs, kw, default = inspect.getargspec(cls.__init__)\n",
            "/usr/local/lib/python3.7/dist-packages/pymorphy2/units/base.py:70: DeprecationWarning: inspect.getargspec() is deprecated since Python 3.0, use inspect.signature() or inspect.getfullargspec()\n",
            "  args, varargs, kw, default = inspect.getargspec(cls.__init__)\n",
            "/usr/local/lib/python3.7/dist-packages/pymorphy2/units/base.py:70: DeprecationWarning: inspect.getargspec() is deprecated since Python 3.0, use inspect.signature() or inspect.getfullargspec()\n",
            "  args, varargs, kw, default = inspect.getargspec(cls.__init__)\n"
          ]
        }
      ]
    },
    {
      "cell_type": "code",
      "source": [
        "stopwords = get_stop_words(\"ru\") + ['http']"
      ],
      "metadata": {
        "id": "XMU7Zkb038jy"
      },
      "execution_count": 14,
      "outputs": []
    },
    {
      "cell_type": "code",
      "source": [
        "words_regex = re.compile('\\w+')\n",
        "\n",
        "def find_words(text, regex = words_regex):\n",
        "    tokens =  regex.findall(text.lower())\n",
        "    return [w for w in tokens if w.isalpha() and len(w) >= 3]\n",
        "\n",
        "def lemmatize(words, lemmer = morph, stopwords = stopwords):\n",
        "    lemmas = [lemmer.parse(w)[0].normal_form for w in words]\n",
        "    return [w for w in lemmas if not w in stopwords \n",
        "            and w.isalpha()]\n",
        "\n",
        "def preprocess(text):\n",
        "    return (lemmatize(find_words(text)))"
      ],
      "metadata": {
        "colab": {
          "base_uri": "https://localhost:8080/"
        },
        "id": "J56lcuDr57dA",
        "outputId": "4d599627-d2a5-4edd-e488-a91d887a8e0b"
      },
      "execution_count": 15,
      "outputs": [
        {
          "output_type": "stream",
          "name": "stderr",
          "text": [
            "<input>:1: DeprecationWarning: invalid escape sequence \\w\n",
            "<input>:1: DeprecationWarning: invalid escape sequence \\w\n",
            "<input>:1: DeprecationWarning: invalid escape sequence \\w\n",
            "<input>:1: DeprecationWarning: invalid escape sequence \\w\n",
            "<input>:1: DeprecationWarning: invalid escape sequence \\w\n",
            "<input>:1: DeprecationWarning: invalid escape sequence \\w\n",
            "<input>:1: DeprecationWarning: invalid escape sequence \\w\n",
            "<input>:1: DeprecationWarning: invalid escape sequence \\w\n",
            "<input>:1: DeprecationWarning: invalid escape sequence \\w\n",
            "<ipython-input-15-78e5866c10d0>:1: DeprecationWarning: invalid escape sequence \\w\n",
            "  words_regex = re.compile('\\w+')\n"
          ]
        }
      ]
    },
    {
      "cell_type": "code",
      "source": [
        "preprocessed_text = list(map(preprocess, df['text']))"
      ],
      "metadata": {
        "id": "L-otQ4QF6frj"
      },
      "execution_count": 16,
      "outputs": []
    },
    {
      "cell_type": "code",
      "source": [
        "df['prepared_text'] = preprocessed_text"
      ],
      "metadata": {
        "id": "7ulsQs1fAxQw"
      },
      "execution_count": 17,
      "outputs": []
    },
    {
      "cell_type": "code",
      "source": [
        "dictionary = corpora.Dictionary(df['prepared_text'])\n",
        "\n",
        "dictionary.filter_extremes(no_below = 10, no_above = 0.90, keep_n=None)  \n",
        "dictionary.save('lenta.dict')"
      ],
      "metadata": {
        "id": "enNbLEfb9x9Z"
      },
      "execution_count": 18,
      "outputs": []
    },
    {
      "cell_type": "code",
      "source": [
        "corpus = [dictionary.doc2bow(text) for text in df['prepared_text']]\n",
        "corpora.MmCorpus.serialize('lenta.model', corpus) "
      ],
      "metadata": {
        "id": "mEig0M9a-Kpy"
      },
      "execution_count": 19,
      "outputs": []
    },
    {
      "cell_type": "code",
      "source": [
        "lda = ldamodel.LdaModel(corpus, id2word=dictionary, num_topics=10, chunksize=50, update_every=1, passes=2)"
      ],
      "metadata": {
        "id": "1BiqhM3d-0f3"
      },
      "execution_count": 20,
      "outputs": []
    },
    {
      "cell_type": "markdown",
      "source": [
        "3. сделать визуализацию кластеров тематик"
      ],
      "metadata": {
        "id": "qBaaon2qDkBA"
      }
    },
    {
      "cell_type": "code",
      "source": [
        "lda.show_topics(num_topics=10, num_words=10, formatted=True)"
      ],
      "metadata": {
        "colab": {
          "base_uri": "https://localhost:8080/"
        },
        "id": "HLJPRwlABP6k",
        "outputId": "8e1aa6a8-8e1d-4a76-e3ff-75d676255ff3"
      },
      "execution_count": 21,
      "outputs": [
        {
          "output_type": "execute_result",
          "data": {
            "text/plain": [
              "[(0,\n",
              "  '0.045*\"знать\" + 0.033*\"делать\" + 0.033*\"любить\" + 0.031*\"большой\" + 0.030*\"спать\" + 0.027*\"хороший\" + 0.017*\"сделать\" + 0.016*\"бля\" + 0.014*\"посмотреть\" + 0.013*\"нибыть\"'),\n",
              " (1,\n",
              "  '0.060*\"пойти\" + 0.036*\"работа\" + 0.035*\"скоро\" + 0.035*\"плохой\" + 0.019*\"температура\" + 0.018*\"уехать\" + 0.017*\"пол\" + 0.016*\"зима\" + 0.016*\"целый\" + 0.015*\"учиться\"'),\n",
              " (2,\n",
              "  '0.063*\"завтра\" + 0.053*\"блин\" + 0.040*\"идти\" + 0.036*\"школа\" + 0.036*\"писать\" + 0.027*\"хотеться\" + 0.024*\"урок\" + 0.021*\"последний\" + 0.019*\"любимый\" + 0.018*\"улица\"'),\n",
              " (3,\n",
              "  '0.038*\"самый\" + 0.029*\"утро\" + 0.028*\"понимать\" + 0.027*\"неделя\" + 0.020*\"пиздец\" + 0.017*\"казаться\" + 0.017*\"рука\" + 0.016*\"устать\" + 0.015*\"твит\" + 0.015*\"обидно\"'),\n",
              " (4,\n",
              "  '0.071*\"свой\" + 0.053*\"скучать\" + 0.038*\"стать\" + 0.022*\"amp\" + 0.021*\"вечер\" + 0.020*\"сильно\" + 0.019*\"ходить\" + 0.019*\"парень\" + 0.019*\"давать\" + 0.016*\"играть\"'),\n",
              " (5,\n",
              "  '0.039*\"понять\" + 0.030*\"понедельник\" + 0.030*\"учёба\" + 0.023*\"уснуть\" + 0.020*\"поход\" + 0.019*\"помочь\" + 0.018*\"сей\" + 0.018*\"начаться\" + 0.016*\"точно\" + 0.016*\"каникулы\"'),\n",
              " (6,\n",
              "  '0.041*\"болеть\" + 0.029*\"плохо\" + 0.026*\"друг\" + 0.021*\"вчера\" + 0.020*\"прийти\" + 0.020*\"забыть\" + 0.020*\"читать\" + 0.019*\"остаться\" + 0.016*\"пройти\" + 0.015*\"простить\"'),\n",
              " (7,\n",
              "  '0.040*\"смотреть\" + 0.033*\"думать\" + 0.033*\"жаль\" + 0.030*\"мама\" + 0.023*\"голова\" + 0.019*\"выходной\" + 0.017*\"найти\" + 0.017*\"фильм\" + 0.015*\"работать\" + 0.014*\"город\"'),\n",
              " (8,\n",
              "  '0.077*\"вообще\" + 0.031*\"ждать\" + 0.029*\"настроение\" + 0.027*\"новый\" + 0.024*\"видеть\" + 0.021*\"бог\" + 0.020*\"бояться\" + 0.020*\"вроде\" + 0.017*\"снег\" + 0.016*\"больно\"'),\n",
              " (9,\n",
              "  '0.036*\"дом\" + 0.032*\"сидеть\" + 0.030*\"час\" + 0.030*\"говорить\" + 0.026*\"никто\" + 0.024*\"ночь\" + 0.017*\"написать\" + 0.017*\"жалко\" + 0.017*\"нравиться\" + 0.016*\"телефон\"')]"
            ]
          },
          "metadata": {},
          "execution_count": 21
        }
      ]
    },
    {
      "cell_type": "code",
      "source": [
        "vis_data = gensimvis.prepare(lda, corpus, dictionary)\n",
        "pyLDAvis.display(vis_data)"
      ],
      "metadata": {
        "colab": {
          "base_uri": "https://localhost:8080/",
          "height": 917
        },
        "id": "pIt_wjAkC3Zz",
        "outputId": "b21ea032-9c0a-43a9-fc3c-7f01da95ca9a"
      },
      "execution_count": 22,
      "outputs": [
        {
          "output_type": "stream",
          "name": "stderr",
          "text": [
            "/usr/local/lib/python3.7/dist-packages/pyLDAvis/_prepare.py:247: FutureWarning: In a future version of pandas all arguments of DataFrame.drop except for the argument 'labels' will be keyword-only\n",
            "  by='saliency', ascending=False).head(R).drop('saliency', 1)\n"
          ]
        },
        {
          "output_type": "execute_result",
          "data": {
            "text/plain": [
              "<IPython.core.display.HTML object>"
            ],
            "text/html": [
              "\n",
              "<link rel=\"stylesheet\" type=\"text/css\" href=\"https://cdn.jsdelivr.net/gh/bmabey/pyLDAvis@3.3.1/pyLDAvis/js/ldavis.v1.0.0.css\">\n",
              "\n",
              "\n",
              "<div id=\"ldavis_el10431401917790741282516886038\"></div>\n",
              "<script type=\"text/javascript\">\n",
              "\n",
              "var ldavis_el10431401917790741282516886038_data = {\"mdsDat\": {\"x\": [-0.4587804730014029, 0.05718119350466703, 0.04640732309023461, 0.055124701999002906, 0.048426845547508895, 0.06994424075936669, 0.04431415822675461, 0.04476390835791434, 0.04574473419232934, 0.046873367323624064], \"y\": [0.0034245575126824073, 0.07878537252550409, -0.4535623853212363, 0.06987259541166124, 0.06778429260182611, 0.015611050698700125, 0.06079858764191661, 0.05571693618562662, 0.05380019242462987, 0.047768800318689505], \"topics\": [1, 2, 3, 4, 5, 6, 7, 8, 9, 10], \"cluster\": [1, 1, 1, 1, 1, 1, 1, 1, 1, 1], \"Freq\": [14.89817305531982, 11.615976382074779, 11.388924033077622, 10.934069489175144, 10.501107455549313, 9.674217135677413, 9.020615268968701, 8.268064910905693, 7.515743402801537, 6.183108866449979]}, \"tinfo\": {\"Term\": [\"\\u0432\\u043e\\u043e\\u0431\\u0449\\u0435\", \"\\u0437\\u0430\\u0432\\u0442\\u0440\\u0430\", \"\\u0441\\u0432\\u043e\\u0439\", \"\\u0431\\u043b\\u0438\\u043d\", \"\\u0437\\u043d\\u0430\\u0442\\u044c\", \"\\u043f\\u043e\\u0439\\u0442\\u0438\", \"\\u0441\\u043a\\u0443\\u0447\\u0430\\u0442\\u044c\", \"\\u0438\\u0434\\u0442\\u0438\", \"\\u0441\\u043c\\u043e\\u0442\\u0440\\u0435\\u0442\\u044c\", \"\\u0431\\u043e\\u043b\\u0435\\u0442\\u044c\", \"\\u0434\\u0435\\u043b\\u0430\\u0442\\u044c\", \"\\u043b\\u044e\\u0431\\u0438\\u0442\\u044c\", \"\\u0434\\u043e\\u043c\", \"\\u0448\\u043a\\u043e\\u043b\\u0430\", \"\\u043f\\u0438\\u0441\\u0430\\u0442\\u044c\", \"\\u0431\\u043e\\u043b\\u044c\\u0448\\u043e\\u0439\", \"\\u0441\\u043f\\u0430\\u0442\\u044c\", \"\\u0441\\u0430\\u043c\\u044b\\u0439\", \"\\u0434\\u0443\\u043c\\u0430\\u0442\\u044c\", \"\\u0441\\u0438\\u0434\\u0435\\u0442\\u044c\", \"\\u0436\\u0430\\u043b\\u044c\", \"\\u0441\\u0442\\u0430\\u0442\\u044c\", \"\\u0445\\u043e\\u0440\\u043e\\u0448\\u0438\\u0439\", \"\\u0447\\u0430\\u0441\", \"\\u0433\\u043e\\u0432\\u043e\\u0440\\u0438\\u0442\\u044c\", \"\\u043c\\u0430\\u043c\\u0430\", \"\\u0440\\u0430\\u0431\\u043e\\u0442\\u0430\", \"\\u0441\\u043a\\u043e\\u0440\\u043e\", \"\\u043f\\u043b\\u043e\\u0445\\u043e\\u0439\", \"\\u043f\\u043b\\u043e\\u0445\\u043e\", \"\\u0437\\u043d\\u0430\\u0442\\u044c\", \"\\u0434\\u0435\\u043b\\u0430\\u0442\\u044c\", \"\\u043b\\u044e\\u0431\\u0438\\u0442\\u044c\", \"\\u0431\\u043e\\u043b\\u044c\\u0448\\u043e\\u0439\", \"\\u0441\\u043f\\u0430\\u0442\\u044c\", \"\\u0445\\u043e\\u0440\\u043e\\u0448\\u0438\\u0439\", \"\\u0441\\u0434\\u0435\\u043b\\u0430\\u0442\\u044c\", \"\\u0431\\u043b\\u044f\", \"\\u043f\\u043e\\u0441\\u043c\\u043e\\u0442\\u0440\\u0435\\u0442\\u044c\", \"\\u043d\\u0438\\u0431\\u044b\\u0442\\u044c\", \"\\u0440\\u0430\\u0432\\u043d\\u043e\", \"\\u0443\\u0436\\u0430\\u0441\\u043d\\u043e\", \"\\u043d\\u0435\\u043d\\u0430\\u0432\\u0438\\u0434\\u0435\\u0442\\u044c\", \"\\u0437\\u0430\\u043a\\u043e\\u043d\\u0447\\u0438\\u0442\\u044c\\u0441\\u044f\", \"\\u043c\\u0438\\u043d\\u0443\\u0442\\u0430\", \"\\u0436\\u0438\\u0442\\u044c\", \"\\u0434\\u0430\\u0442\\u044c\", \"\\u043a\\u043e\\u043d\\u0435\\u0446\", \"\\u0441\\u0443\\u043a\\u0430\", \"\\u0431\\u043e\\u043b\\u044c\", \"\\u0441\\u043c\\u043e\\u0447\\u044c\", \"\\u043d\\u0430\\u0432\\u0435\\u0440\\u043d\\u043e\\u0435\", \"\\u043d\\u043e\\u0440\\u043c\\u0430\\u043b\\u044c\\u043d\\u043e\", \"\\u043b\\u0435\\u043d\\u0442\\u0430\", \"\\u0442\\u0430\\u043a\\u0438\", \"\\u0433\\u043b\\u0430\\u0437\", \"\\u043f\\u043e\\u043b\\u0443\\u0447\\u0430\\u0442\\u044c\\u0441\\u044f\", \"\\u0441\\u0440\\u0430\\u0437\\u0443\", \"\\u0433\\u0440\\u0443\\u0441\\u0442\\u043d\\u043e\", \"\\u043a\\u043b\\u0430\\u0441\\u0441\", \"\\u0434\\u043e\\u043c\", \"\\u0441\\u0438\\u0434\\u0435\\u0442\\u044c\", \"\\u0447\\u0430\\u0441\", \"\\u0433\\u043e\\u0432\\u043e\\u0440\\u0438\\u0442\\u044c\", \"\\u043d\\u0438\\u043a\\u0442\\u043e\", \"\\u043d\\u043e\\u0447\\u044c\", \"\\u043d\\u0430\\u043f\\u0438\\u0441\\u0430\\u0442\\u044c\", \"\\u0436\\u0430\\u043b\\u043a\\u043e\", \"\\u043d\\u0440\\u0430\\u0432\\u0438\\u0442\\u044c\\u0441\\u044f\", \"\\u0442\\u0435\\u043b\\u0435\\u0444\\u043e\\u043d\", \"\\u0443\\u0447\\u0438\\u0442\\u044c\", \"\\u0431\\u043b\\u044f\\u0434\\u044c\", \"\\u0441\\u043a\\u0443\\u0447\\u043d\\u043e\", \"\\u043c\\u0430\\u043b\\u0435\\u043d\\u044c\\u043a\\u0438\\u0439\", \"\\u043f\\u043b\\u0430\\u043a\\u0430\\u0442\\u044c\", \"\\u0433\\u0443\\u043b\\u044f\\u0442\\u044c\", \"\\u043f\\u0435\\u0441\\u043d\\u044f\", \"\\u043f\\u043e\\u043c\\u043d\\u0438\\u0442\\u044c\", \"\\u043f\\u0440\\u0430\\u0432\\u0434\\u0430\", \"\\u0434\\u043e\\u043b\\u0436\\u043d\\u044b\\u0439\", \"\\u0445\\u0432\\u0430\\u0442\\u0430\\u0442\\u044c\", \"\\u0441\\u043b\\u0435\\u0437\\u0430\", \"\\u0441\\u0435\\u0440\\u0434\\u0446\\u0435\", \"\\u0443\\u043c\\u0435\\u0440\\u0435\\u0442\\u044c\", \"\\u0432\\u0437\\u044f\\u0442\\u044c\", \"\\u0443\\u043a\\u0440\\u0430\\u0438\\u043d\\u0430\", \"\\u0432\\u0435\\u0440\\u0438\\u0442\\u044c\", \"\\u0431\\u044b\\u0432\\u0430\\u0442\\u044c\", \"\\u0444\\u043e\\u0442\\u043e\", \"\\u0430\\u0445\\u0438\", \"\\u0437\\u0430\\u0432\\u0442\\u0440\\u0430\", \"\\u0431\\u043b\\u0438\\u043d\", \"\\u0438\\u0434\\u0442\\u0438\", \"\\u0448\\u043a\\u043e\\u043b\\u0430\", \"\\u043f\\u0438\\u0441\\u0430\\u0442\\u044c\", \"\\u0445\\u043e\\u0442\\u0435\\u0442\\u044c\\u0441\\u044f\", \"\\u0443\\u0440\\u043e\\u043a\", \"\\u043f\\u043e\\u0441\\u043b\\u0435\\u0434\\u043d\\u0438\\u0439\", \"\\u043b\\u044e\\u0431\\u0438\\u043c\\u044b\\u0439\", \"\\u0443\\u043b\\u0438\\u0446\\u0430\", \"\\u0445\\u043e\\u043b\\u043e\\u0434\\u043d\\u043e\", \"\\u0434\\u0435\\u043b\\u043e\", \"\\u044d\\u043a\\u0437\\u0430\\u043c\\u0435\\u043d\", \"\\u0437\\u0430\\u0431\\u043e\\u043b\\u0435\\u0442\\u044c\", \"\\u0434\\u043e\\u043c\\u043e\\u0439\", \"\\u0432\\u0441\\u0442\\u0430\\u0432\\u0430\\u0442\\u044c\", \"\\u043f\\u0440\\u0438\\u0439\\u0442\\u0438\\u0441\\u044c\", \"\\u0440\\u0430\\u043d\\u043d\\u0438\\u0439\", \"\\u0443\\u0439\\u0442\\u0438\", \"\\u043d\\u0430\\u0434\\u0435\\u044f\\u0442\\u044c\\u0441\\u044f\", \"\\u043d\\u0443\\u0436\\u043d\\u044b\\u0439\", \"\\u043c\\u043e\\u043c\\u0435\\u043d\\u0442\", \"\\u043a\\u0430\\u0442\\u043e\\u043a\", \"\\u0441\\u043e\\u043d\", \"\\u043d\\u0430\\u0447\\u0430\\u043b\\u043e\", \"\\u0440\\u043e\\u0434\\u0438\\u0442\\u0435\\u043b\\u044c\", \"\\u0435\\u0445\\u0430\\u0442\\u044c\", \"\\u043a\\u0440\\u0443\\u0442\\u043e\", \"\\u0431\\u043e\\u043b\\u044c\\u043d\\u0438\\u0446\\u0430\", \"\\u0440\\u043e\\u0441\\u0441\\u0438\\u044f\", \"\\u0441\\u043c\\u043e\\u0442\\u0440\\u0435\\u0442\\u044c\", \"\\u0434\\u0443\\u043c\\u0430\\u0442\\u044c\", \"\\u0436\\u0430\\u043b\\u044c\", \"\\u043c\\u0430\\u043c\\u0430\", \"\\u0433\\u043e\\u043b\\u043e\\u0432\\u0430\", \"\\u0432\\u044b\\u0445\\u043e\\u0434\\u043d\\u043e\\u0439\", \"\\u043d\\u0430\\u0439\\u0442\\u0438\", \"\\u0444\\u0438\\u043b\\u044c\\u043c\", \"\\u0440\\u0430\\u0431\\u043e\\u0442\\u0430\\u0442\\u044c\", \"\\u0433\\u043e\\u0440\\u043e\\u0434\", \"\\u0441\\u043b\\u043e\\u0432\\u043e\", \"\\u043f\\u0430\\u043f\\u0430\", \"\\u043f\\u043e\\u043b\\u0443\\u0447\\u0438\\u0442\\u044c\\u0441\\u044f\", \"\\u0443\\u0436\\u0430\\u0441\", \"\\u043c\\u0435\\u0441\\u044f\\u0446\", \"\\u0441\\u0442\\u043e\\u043b\\u044c\\u043a\\u043e\", \"\\u0447\\u0443\\u0432\\u0441\\u0442\\u0432\\u043e\\u0432\\u0430\\u0442\\u044c\", \"\\u0432\\u043e\\u0434\\u0430\", \"\\u043c\\u0435\\u0441\\u0442\\u043e\", \"\\u0441\\u0435\\u0440\\u0438\\u0430\\u043b\", \"\\u0438\\u0431\\u043e\", \"\\u0432\\u044b\\u0445\\u043e\\u0434\\u0438\\u0442\\u044c\", \"\\u043a\\u043d\\u0438\\u0433\\u0430\", \"\\u043f\\u0440\\u043e\\u0431\\u043b\\u0435\\u043c\\u0430\", \"\\u0441\\u0435\\u0441\\u0441\\u0438\\u044f\", \"\\u0438\\u043d\\u0442\\u0435\\u0440\\u043d\\u0435\\u0442\", \"\\u0434\\u0435\\u0432\\u0443\\u0448\\u043a\\u0430\", \"\\u043d\\u0430\\u0434\\u043e\\u0435\\u0441\\u0442\\u044c\", \"\\u043b\\u0438\\u0446\\u043e\", \"\\u0440\\u0435\\u0448\\u0438\\u0442\\u044c\", \"\\u0431\\u043e\\u043b\\u0435\\u0442\\u044c\", \"\\u043f\\u043b\\u043e\\u0445\\u043e\", \"\\u0434\\u0440\\u0443\\u0433\", \"\\u0432\\u0447\\u0435\\u0440\\u0430\", \"\\u043f\\u0440\\u0438\\u0439\\u0442\\u0438\", \"\\u0437\\u0430\\u0431\\u044b\\u0442\\u044c\", \"\\u0447\\u0438\\u0442\\u0430\\u0442\\u044c\", \"\\u043e\\u0441\\u0442\\u0430\\u0442\\u044c\\u0441\\u044f\", \"\\u043f\\u0440\\u043e\\u0439\\u0442\\u0438\", \"\\u043f\\u0440\\u043e\\u0441\\u0442\\u0438\\u0442\\u044c\", \"\\u0442\\u0432\\u0438\\u0442\\u0442\\u0435\\u0440\", \"\\u043a\\u0443\\u043f\\u0438\\u0442\\u044c\", \"\\u0432\\u044b\\u0439\\u0442\\u0438\", \"\\u043b\\u0435\\u0442\\u043e\", \"\\u043d\\u0435\\u0442\\u0443\", \"\\u043d\\u0430\\u0447\\u0438\\u043d\\u0430\\u0442\\u044c\", \"\\u0434\\u0443\\u0448\\u0430\", \"\\u043a\\u0438\\u0435\\u0432\", \"\\u0444\\u043e\\u0442\\u043a\\u0430\", \"\\u0432\\u043e\\u043f\\u0440\\u043e\\u0441\", \"\\u043f\\u0440\\u0438\\u0435\\u0445\\u0430\\u0442\\u044c\", \"\\u0441\\u0445\\u043e\\u0434\\u0438\\u0442\\u044c\", \"\\u043c\\u043e\\u0440\\u043e\\u0437\", \"\\u043a\\u0430\\u043f\\u0435\\u0446\", \"\\u0441\\u043e\\u0441\\u043a\\u0443\\u0447\\u0438\\u0442\\u044c\\u0441\\u044f\", \"\\u0431\\u0438\\u043b\\u0435\\u0442\", \"\\u043b\\u044e\\u0431\\u043e\\u0432\\u044c\", \"\\u0430\\u0430\\u0430\", \"\\u0441\\u0442\\u0440\\u0430\\u043d\\u0430\", \"\\u0443\\u0442\\u0440\\u043e\\u043c\", \"\\u0441\\u0430\\u043c\\u044b\\u0439\", \"\\u0443\\u0442\\u0440\\u043e\", \"\\u043f\\u043e\\u043d\\u0438\\u043c\\u0430\\u0442\\u044c\", \"\\u043d\\u0435\\u0434\\u0435\\u043b\\u044f\", \"\\u043f\\u0438\\u0437\\u0434\\u0435\\u0446\", \"\\u043a\\u0430\\u0437\\u0430\\u0442\\u044c\\u0441\\u044f\", \"\\u0440\\u0443\\u043a\\u0430\", \"\\u0443\\u0441\\u0442\\u0430\\u0442\\u044c\", \"\\u0442\\u0432\\u0438\\u0442\", \"\\u043e\\u0431\\u0438\\u0434\\u043d\\u043e\", \"\\u0443\\u0436\\u0430\\u0441\\u043d\\u044b\\u0439\", \"\\u0447\\u0443\\u0432\\u0441\\u0442\\u0432\\u043e\", \"\\u043f\\u0430\\u0440\\u0430\", \"\\u0434\\u0435\\u043d\\u044c\\u0433\\u0430\", \"\\u043f\\u044b\\u0442\\u0430\\u0442\\u044c\\u0441\\u044f\", \"\\u043f\\u0435\\u0447\\u0430\\u043b\\u044c\\u043d\\u043e\", \"\\u043d\\u043e\\u0433\\u0430\", \"\\u043f\\u0440\\u043e\\u0441\\u043d\\u0443\\u0442\\u044c\\u0441\\u044f\", \"\\u0440\\u0435\\u0431\\u0451\\u043d\\u043e\\u043a\", \"\\u0435\\u0434\\u0430\", \"\\u043f\\u043e\\u0435\\u0445\\u0430\\u0442\\u044c\", \"\\u043f\\u0440\\u044f\\u043c\", \"\\u0432\\u044b\\u0441\\u043f\\u0430\\u0442\\u044c\\u0441\\u044f\", \"\\u0431\\u0440\\u0430\\u0442\", \"\\u043b\\u0435\\u0436\\u0430\\u0442\\u044c\", \"\\u0441\\u0442\\u0440\\u0430\\u0448\\u043d\\u043e\", \"\\u0441\\u043a\\u043e\\u0440\\u0435\\u0435\", \"\\u043c\\u0438\\u0440\", \"\\u0442\\u0432\\u0438\", \"\\u043f\\u043e\\u0434\\u0443\\u043c\\u0430\\u0442\\u044c\", \"\\u0432\\u043e\\u043e\\u0431\\u0449\\u0435\", \"\\u0436\\u0434\\u0430\\u0442\\u044c\", \"\\u043d\\u0430\\u0441\\u0442\\u0440\\u043e\\u0435\\u043d\\u0438\\u0435\", \"\\u043d\\u043e\\u0432\\u044b\\u0439\", \"\\u0432\\u0438\\u0434\\u0435\\u0442\\u044c\", \"\\u0431\\u043e\\u0433\", \"\\u0431\\u043e\\u044f\\u0442\\u044c\\u0441\\u044f\", \"\\u0432\\u0440\\u043e\\u0434\\u0435\", \"\\u0441\\u043d\\u0435\\u0433\", \"\\u0431\\u043e\\u043b\\u044c\\u043d\\u043e\", \"\\u0443\\u0432\\u0438\\u0434\\u0435\\u0442\\u044c\", \"\\u043f\\u043e\\u0433\\u043e\\u0434\\u0430\", \"\\u043c\\u044b\\u0441\\u043b\\u044c\", \"\\u043d\\u043e\\u0440\\u043c\\u0430\\u043b\\u044c\\u043d\\u044b\\u0439\", \"\\u0441\\u0435\\u0437\\u043e\\u043d\", \"\\u0440\\u0435\\u0431\\u044f\\u0442\\u0430\", \"\\u0442\\u0435\\u043c\\u0430\", \"\\u043a\\u043e\\u0440\\u043e\\u0447\\u0435\", \"https\", \"\\u0438\\u0433\\u0440\\u0430\", \"\\u043e\\u043a\\u043d\\u043e\", \"\\u0434\\u043e\\u0441\\u0442\\u0430\\u0442\\u044c\", \"\\u0434\\u043e\\u0436\\u0434\\u044c\", \"\\u043f\\u0443\\u0441\\u0442\\u044c\", \"\\u043f\\u0435\\u0440\\u0435\\u0436\\u0438\\u0432\\u0430\\u0442\\u044c\", \"\\u043d\\u0435\\u0443\\u0436\\u0435\\u043b\\u0438\", \"\\u043d\\u0430\\u0432\\u0435\\u0440\\u043d\\u043e\", \"\\u043c\\u0443\\u0436\\u0438\\u043a\", \"\\u0443\\u043c\\u0438\\u0440\\u0430\\u0442\\u044c\", \"\\u0432\\u0438\\u0434\", \"\\u0441\\u0432\\u043e\\u0439\", \"\\u0441\\u043a\\u0443\\u0447\\u0430\\u0442\\u044c\", \"\\u0441\\u0442\\u0430\\u0442\\u044c\", \"amp\", \"\\u0432\\u0435\\u0447\\u0435\\u0440\", \"\\u0441\\u0438\\u043b\\u044c\\u043d\\u043e\", \"\\u0445\\u043e\\u0434\\u0438\\u0442\\u044c\", \"\\u043f\\u0430\\u0440\\u0435\\u043d\\u044c\", \"\\u0434\\u0430\\u0432\\u0430\\u0442\\u044c\", \"\\u0438\\u0433\\u0440\\u0430\\u0442\\u044c\", \"\\u0431\\u0435\\u0441\\u0438\\u0442\\u044c\", \"\\u043c\\u0443\\u0437\\u044b\\u043a\\u0430\", \"\\u0443\\u0431\\u0438\\u0442\\u044c\", \"\\u0440\\u043e\\u0434\\u043d\\u044b\\u0439\", \"\\u0433\\u043e\\u0432\\u043d\\u043e\", \"\\u0441\\u0438\\u043b\\u0430\", \"\\u043a\\u0443\\u0447\\u0430\", \"\\u0437\\u0430\\u0431\\u0440\\u0430\\u0442\\u044c\", \"\\u0430\\u043b\\u0433\\u0435\\u0431\\u0440\\u0430\", \"\\u043c\\u043e\\u0441\\u043a\\u0432\\u0430\", \"\\u043f\\u043e\\u043b\\u043d\\u044b\\u0439\", \"\\u0437\\u043b\\u043e\\u0439\", \"\\u0443\\u043d\\u0438\\u0432\\u0435\\u0440\", \"\\u043a\\u043e\\u043d\\u0446\\u0435\\u0440\\u0442\", \"\\u0432\\u0438\\u0434\\u0438\\u043c\\u043e\", \"\\u044f\\u0437\\u044b\\u043a\", \"\\u043d\\u0430\\u0440\\u043e\\u0434\", \"\\u0441\\u043f\\u0440\\u0430\\u0448\\u0438\\u0432\\u0430\\u0442\\u044c\", \"\\u0432\\u0435\\u0449\\u044c\", \"\\u043f\\u0438\\u043f\\u0435\\u0446\", \"\\u043f\\u043e\\u0439\\u0442\\u0438\", \"\\u0440\\u0430\\u0431\\u043e\\u0442\\u0430\", \"\\u0441\\u043a\\u043e\\u0440\\u043e\", \"\\u043f\\u043b\\u043e\\u0445\\u043e\\u0439\", \"\\u0442\\u0435\\u043c\\u043f\\u0435\\u0440\\u0430\\u0442\\u0443\\u0440\\u0430\", \"\\u0443\\u0435\\u0445\\u0430\\u0442\\u044c\", \"\\u043f\\u043e\\u043b\", \"\\u0437\\u0438\\u043c\\u0430\", \"\\u0446\\u0435\\u043b\\u044b\\u0439\", \"\\u0443\\u0447\\u0438\\u0442\\u044c\\u0441\\u044f\", \"\\u0438\\u0441\\u0442\\u043e\\u0440\\u0438\\u044f\", \"\\u0447\\u0435\\u0440\\u0442\\u0430\", \"\\u043d\\u0438\\u043a\\u0430\\u043a\", \"\\u0430\\u0433\\u0430\", \"\\u043b\\u0435\\u043d\\u044c\", \"\\u0441\\u043e\\u0431\\u0438\\u0440\\u0430\\u0442\\u044c\\u0441\\u044f\", \"\\u0441\\u0442\\u043e\\u0438\\u0442\\u044c\", \"\\u0440\\u0443\\u0441\\u0441\\u043a\\u0438\\u0439\", \"\\u043f\\u0437\\u0434\\u0446\\u0430\", \"\\u0441\\u043f\\u0430\\u0441\\u0442\\u044c\", \"\\u0437\\u0430\\u0439\\u0442\\u0438\", \"\\u0441\\u0443\\u0431\\u0431\\u043e\\u0442\\u0430\", \"\\u043f\\u043e\\u043b\\u0443\\u0447\\u0438\\u0442\\u044c\", \"\\u0431\\u043e\\u043b\\u044c\\u0448\\u0438\\u0439\", \"\\u043f\\u043e\\u043d\\u0440\\u0430\\u0432\\u0438\\u0442\\u044c\\u0441\\u044f\", \"\\u043d\\u0430\\u043f\\u043e\\u043c\\u043d\\u0438\\u0442\\u044c\", \"\\u0437\\u0432\\u0430\\u0442\\u044c\", \"\\u043b\\u043e\\u0445\", \"\\u0437\\u0430\\u0445\\u043e\\u0434\\u0438\\u0442\\u044c\", \"\\u043b\\u044b\\u0436\\u0430\", \"\\u043f\\u043e\\u043d\\u044f\\u0442\\u044c\", \"\\u043f\\u043e\\u043d\\u0435\\u0434\\u0435\\u043b\\u044c\\u043d\\u0438\\u043a\", \"\\u0443\\u0447\\u0451\\u0431\\u0430\", \"\\u0443\\u0441\\u043d\\u0443\\u0442\\u044c\", \"\\u043f\\u043e\\u0445\\u043e\\u0434\", \"\\u043f\\u043e\\u043c\\u043e\\u0447\\u044c\", \"\\u0441\\u0435\\u0439\", \"\\u043d\\u0430\\u0447\\u0430\\u0442\\u044c\\u0441\\u044f\", \"\\u0442\\u043e\\u0447\\u043d\\u043e\", \"\\u043a\\u0430\\u043d\\u0438\\u043a\\u0443\\u043b\\u044b\", \"\\u0433\\u043e\\u0442\\u043e\\u0432\\u044b\\u0439\", \"\\u043d\\u043e\\u0432\\u043e\\u0441\\u0442\\u044c\", \"\\u0442\\u044f\\u0436\\u0435\\u043b\\u043e\", \"\\u0436\\u0435\\u043b\\u0430\\u043d\\u0438\\u0435\", \"\\u0445\\u0443\\u0439\", \"\\u043f\\u043e\\u0442\\u0435\\u0440\\u044f\\u0442\\u044c\", \"\\u043d\\u0430\\u0441\\u0442\\u043e\\u044f\\u0449\\u0438\\u0439\", \"\\u0430\\u0430\\u0430\\u0430\", \"\\u0436\\u0438\\u0432\\u043e\\u0442\", \"\\u0448\\u043e\\u043a\", \"\\u043b\\u043e\\u0436\\u0438\\u0442\\u044c\\u0441\\u044f\", \"\\u043f\\u0440\\u0430\\u0432\\u0438\\u043b\\u044c\\u043d\\u043e\", \"\\u043a\\u0438\\u043d\\u043e\", \"\\u0434\\u0438\\u043a\\u043e\", \"\\u0438\\u0442\\u043e\\u0433\", \"\\u043d\\u0438\\u043a\\u0430\\u043a\\u043e\\u0439\", \"\\u0432\\u044b\\u0443\\u0447\\u0438\\u0442\\u044c\", \"\\u0440\\u0430\\u0441\\u0441\\u0442\\u0430\\u0442\\u044c\\u0441\\u044f\", \"\\u043f\\u043e\\u043f\\u0440\\u043e\\u0431\\u043e\\u0432\\u0430\\u0442\\u044c\", \"\\u043d\\u0438\\u0444\\u0438\\u0433\\u0430\"], \"Freq\": [7523.0, 7710.0, 6312.0, 6460.0, 7180.0, 4905.0, 4769.0, 4877.0, 4766.0, 4625.0, 5384.0, 5278.0, 4475.0, 4431.0, 4397.0, 4965.0, 4874.0, 3947.0, 3902.0, 3979.0, 3842.0, 3399.0, 4287.0, 3757.0, 3719.0, 3501.0, 2928.0, 2848.0, 2846.0, 3248.0, 7179.065854906946, 5383.318862322173, 5277.488862068072, 4964.180453587742, 4873.225727798444, 4286.10422372458, 2794.5467961471127, 2642.067892025125, 2309.903966039456, 2136.755154037847, 1963.597952484512, 1798.348053246839, 1661.35161739586, 1653.2556999797748, 1653.093901482192, 1592.7854590827283, 1524.4973544839606, 1450.397987180346, 1381.342987665721, 1358.9595138459601, 1357.9896217410057, 1315.4856058662872, 1305.1137229175379, 1238.3942397714927, 1181.5583976263988, 1173.9791867086126, 1165.5632678195302, 1124.2535645584503, 1084.4049167118849, 1071.5206626478923, 4474.4069126581735, 3978.5966351312873, 3756.618717831695, 3718.116156184953, 3307.9912549719584, 3032.8291498799813, 2151.7458560593036, 2133.5870825900593, 2078.6411931067796, 2054.724007626016, 1980.4017357074472, 1901.0101035128441, 1778.6467100696336, 1596.0886494292884, 1536.69552029096, 1486.490759963743, 1385.7174984881012, 1358.481090407651, 1281.5807440944568, 1254.8400701325688, 1218.9311183747427, 1207.6442897521395, 1189.0456164971963, 1164.6638846946787, 1061.5629856647033, 1051.7422171085648, 1008.6657956878953, 966.2127797787167, 924.2444596105784, 919.6880626666994, 7709.03977006996, 6459.061838025668, 4876.680506450386, 4430.777305958557, 4396.2887806191675, 3293.715784377273, 2955.253323660917, 2593.8911252917696, 2306.8096316953456, 2230.1660465238683, 2218.278806611643, 2133.323681984022, 1903.151736758473, 1841.880617182377, 1788.3059231315544, 1750.0171137541736, 1699.6099529560038, 1506.5682819142623, 1364.850086427885, 1226.022388148959, 1181.0528757286886, 1174.9326581778262, 1143.9608529045736, 1133.3242263092534, 1060.4064839069042, 1056.0160523943694, 1032.5695722530334, 1003.0332236935254, 940.1180973258383, 894.1672199318903, 4765.918450760758, 3901.872638047454, 3841.3216924892276, 3500.915972718161, 2759.18657087522, 2186.249686270392, 2051.753773120462, 2044.8134403387946, 1732.1950001519308, 1695.6847507436796, 1614.5471126158982, 1614.3952701588867, 1605.2098460450554, 1512.9729751092043, 1482.4472536464139, 1470.3502146852818, 1304.846444537445, 1249.3301594473999, 1220.4792130064775, 1173.8617095353836, 1170.675986617605, 1157.9611324747582, 1157.066130592011, 1143.5551205974475, 1132.1645173975746, 1108.0347608636896, 1059.533465346268, 1058.6920096449578, 989.610618623456, 888.2707319166631, 4624.66504220805, 3247.58310388846, 2928.890450289683, 2371.9377622786633, 2308.9876210061475, 2264.6420345651914, 2213.68500112562, 2151.436237124543, 1842.1212574142662, 1723.7628396845685, 1635.6434761861008, 1614.0098627831426, 1368.6500994537162, 1354.2436709099209, 1206.9103042360143, 1198.0685366487116, 1148.57244186472, 1136.7022492898234, 1127.6043026509533, 1127.0331268513125, 1118.8785864971514, 1117.695368742488, 1100.1690679486676, 1084.3607296404, 917.3345223536254, 852.755912307924, 851.8768147793587, 836.4258177367567, 816.1312837043373, 812.5632565100202, 3946.00409197267, 3002.84035957618, 2955.9672488214105, 2842.785787592948, 2095.6687198119, 1794.3848559431826, 1778.7739754950169, 1622.4188523912192, 1586.4134320926464, 1568.6244023752438, 1536.7998807432182, 1506.6008479963946, 1478.6726744899372, 1381.375845922398, 1331.0246033756216, 1295.7666024980201, 1221.0361397047698, 1217.9646476602134, 1213.723725853911, 1186.352687714355, 1180.6268498542056, 1122.1055532619484, 986.794620782116, 853.5912106680157, 831.5960861848819, 782.2642155504636, 740.6211923800041, 734.0654884036769, 724.5103298787234, 683.8024808451631, 7522.266196832391, 3032.9157478059797, 2778.474773383925, 2660.827156122253, 2292.2361502127137, 2060.1700006623855, 1992.6692620866454, 1992.344158413875, 1636.8503675982652, 1521.0365382408147, 1446.5967774396488, 1368.634667107972, 1154.1661144922996, 1113.3576211033487, 1108.8612304907479, 1053.823827414819, 864.7592603986906, 831.388057782746, 754.3284185560897, 745.8696908670029, 720.2023749209042, 684.2250364035831, 666.7343862407452, 664.6188085598885, 653.063023909985, 647.1043017380276, 641.4385719943763, 634.4197705613049, 604.2333412152086, 592.8594295742071, 6311.057512070803, 4768.609120272466, 3398.6844834558624, 1972.114057656416, 1861.9361556532942, 1813.5239402505003, 1734.3123563316926, 1723.1819416865503, 1654.9923549641483, 1450.281255324368, 1426.4959303745477, 1344.4862783424105, 1313.6540686513574, 1068.5487394245895, 1053.4213459216533, 971.0622471586573, 905.010662502407, 789.3437945881338, 785.0483351774532, 774.5217824419534, 745.1672593432281, 692.8321447964629, 622.1630909297182, 614.218187121151, 596.1821047874437, 594.6918221494996, 572.3372500114767, 570.4175794026736, 546.8847157895779, 535.4539914628123, 4904.165341273488, 2927.298009406317, 2847.278893825728, 2845.402468026848, 1501.8187159634087, 1470.4810145052827, 1359.9111052085505, 1331.536022218126, 1283.2506315847131, 1234.8393296664228, 1212.8392423486791, 1186.8412827935765, 1174.938660791579, 1120.3033660500587, 1051.1713442992607, 1044.4415146034714, 1040.0300850126619, 944.4730180700014, 934.0436941396716, 907.0381419975434, 862.7331653140907, 807.3795111711546, 757.1492975522988, 701.479051349128, 688.8708424590066, 662.6485703627778, 651.3574418817541, 583.4119412695704, 578.6454887131479, 546.7238037626768, 2620.7339118086775, 2008.2074530886207, 1996.0577141216572, 1554.3824207574105, 1313.5194167304203, 1280.6187234433155, 1232.036430813626, 1211.5025959997108, 1050.1540774407406, 1038.4704117322742, 994.253079210143, 973.7495864119888, 949.2691755562071, 901.9087086472651, 806.5553800705535, 788.7281401093098, 770.6983920633645, 691.8852548285148, 685.3124156642299, 651.0062901552649, 608.8307017183153, 606.5748225874743, 586.6794136297817, 583.2765068211459, 547.6118299917225, 525.4106143649589, 515.7681953315795, 509.99146102345696, 500.8296955819679, 499.4331856536769], \"Total\": [7523.0, 7710.0, 6312.0, 6460.0, 7180.0, 4905.0, 4769.0, 4877.0, 4766.0, 4625.0, 5384.0, 5278.0, 4475.0, 4431.0, 4397.0, 4965.0, 4874.0, 3947.0, 3902.0, 3979.0, 3842.0, 3399.0, 4287.0, 3757.0, 3719.0, 3501.0, 2928.0, 2848.0, 2846.0, 3248.0, 7180.146952256967, 5384.399981301532, 5278.569952125648, 4965.261588437964, 4874.306864578078, 4287.185345887987, 2795.6278898739715, 2643.149022857894, 2310.9850934629294, 2137.836308796253, 1964.6790712096736, 1799.4291793371547, 1662.4327158998922, 1654.3368277501693, 1654.1750877796037, 1593.8665528899908, 1525.5784385981362, 1451.479195721247, 1382.4240666140086, 1360.0406222809568, 1359.0707396354865, 1316.5667014453002, 1306.1948991480165, 1239.4753791989106, 1182.6395337401902, 1175.0603481915655, 1166.644392681228, 1125.3347092523036, 1085.4860282250304, 1072.6017832168911, 4475.479325192184, 3979.6690509108657, 3757.691153606321, 3719.1885862910617, 3309.063650704836, 3033.9015929094617, 2152.818263617716, 2134.6595220863114, 2079.713603158592, 2055.7964315194563, 1981.4742139507666, 1902.082530088086, 1779.719078941676, 1597.16108199899, 1537.767958804588, 1487.5632035055435, 1386.7899255281552, 1359.553485912354, 1282.6531131477361, 1255.9125241318634, 1220.003511022926, 1208.716716326276, 1190.11806986484, 1165.7362727139525, 1062.6354297703692, 1052.814773180262, 1009.7382017514814, 967.2852013812421, 925.316910311592, 920.7604736256677, 7710.123800250786, 6460.145874433199, 4877.764532099718, 4431.8613163688005, 4397.372851690642, 3294.799822362791, 2956.3373337669823, 2594.97516116297, 2307.8936789627246, 2231.2500913968934, 2219.362848163688, 2134.407722308267, 1904.2357527902764, 1842.9646602169357, 1789.3899509592493, 1751.1011456714048, 1700.6939870730098, 1507.6523492882025, 1365.934228739247, 1227.1064499305062, 1182.1369230128519, 1176.0167228064556, 1145.0449626052155, 1134.408263947996, 1061.4906242441157, 1057.1001567534365, 1033.6535787506502, 1004.117333281629, 941.2021298355202, 895.2513741365636, 4766.990289216505, 3902.9444647449513, 3842.393514439289, 3501.987819873799, 2760.258433612224, 2187.321554941493, 2052.8256034916767, 2045.8852427796674, 1733.2668111447485, 1696.7566001032149, 1615.6189701231658, 1615.4671130503127, 1606.2816721372662, 1514.0448127956233, 1483.519091822601, 1471.4220305310669, 1305.9182492947382, 1250.4020670087293, 1221.5510518212373, 1174.9335523395189, 1171.747849539907, 1159.0329652829184, 1158.1379923159584, 1144.6269411262592, 1133.2364358366876, 1109.1066362874822, 1060.6052897932093, 1059.7638607023293, 990.6824978859678, 889.3426221572162, 4625.737442615486, 3248.65550145268, 2929.962832176998, 2373.010216260142, 2310.0600724656415, 2265.714454680114, 2214.757405027286, 2152.5086666269417, 1843.1936775865174, 1724.8352474736935, 1636.715877575941, 1615.082272633967, 1369.7225070760799, 1355.316102657586, 1207.9827175084463, 1199.1409416824313, 1149.6449294873566, 1137.7749750955581, 1128.6767279987282, 1128.1055651547151, 1119.9510040019697, 1118.767806820704, 1101.2414840998438, 1085.4331175379311, 918.4068902849853, 853.8283620986405, 852.949234229497, 837.4982248418586, 817.2038123409114, 813.635735360848, 3947.0790601525773, 3003.915333507078, 2957.0421993666123, 2843.860741489096, 2096.7436870892097, 1795.4598444322623, 1779.8489217668257, 1623.4938369236647, 1587.4884136282958, 1569.6993576176249, 1537.874822418348, 1507.6757667245797, 1479.7476328429136, 1382.4508032982, 1332.099570286683, 1296.841620616898, 1222.1110794933338, 1219.0396039371094, 1214.7987321310895, 1187.4276615483798, 1181.7018121963902, 1123.180528052638, 987.869554035849, 854.6661659314267, 832.6710926000675, 783.3391785974293, 741.696136248087, 735.1405293669177, 725.5853293838286, 684.8774665093949, 7523.328501119717, 3033.9780501734126, 2779.537044985394, 2661.889435659319, 2293.298421228903, 2061.232311910368, 1993.7315436664971, 1993.4064690138132, 1637.912653326765, 1522.0988241758291, 1447.6590787910468, 1369.6969353233123, 1155.2284356081827, 1114.4199749131915, 1109.9235528160652, 1054.8862219978353, 865.8215457517002, 832.4503675189624, 755.3906604139318, 746.9319563141304, 721.2646617444058, 685.287344360522, 667.796668781931, 665.681193639228, 654.1252961654751, 648.1666594069125, 642.5008789346545, 635.482022373757, 605.2955947211894, 593.9217466593367, 6312.112794780927, 4769.6643753995095, 3399.739764443398, 1973.16924949955, 1862.991448404578, 1814.5792106479612, 1735.367622520852, 1724.237213487038, 1656.0476276592633, 1451.336527722402, 1427.5512169885594, 1345.5415806686658, 1314.7093560414733, 1069.6040067648587, 1054.4766404173663, 972.1175369943849, 906.0659636213335, 790.3990796593877, 786.1036057231835, 775.5770663935131, 746.222488471984, 693.8873719693133, 623.2183713206003, 615.2734531538648, 597.2373648385184, 595.7471325579922, 573.3926291643661, 571.4729906976561, 547.9399621341535, 536.5093315979652, 4905.223413914534, 2928.3560796915244, 2848.3369871096966, 2846.460533625492, 1502.8767789169694, 1471.5391011640866, 1360.9692392354398, 1332.5940961593717, 1284.3087255251853, 1235.897376353311, 1213.897312437127, 1187.8993641947766, 1175.9967017922022, 1121.3614559613043, 1052.2293921662183, 1045.4995770158748, 1041.0881707357537, 945.5311117211396, 935.1017711556632, 908.0962434153744, 863.7912237868352, 808.4375504325136, 758.2073460260118, 702.5371223553417, 689.9288865550375, 663.7066449161772, 652.4155123091793, 584.470009326977, 579.7035319275391, 547.7818758245999, 2621.776182191025, 2009.24973301319, 1997.0999853816174, 1555.4246998498377, 1314.5616863170358, 1281.6610042889952, 1233.0787085683978, 1212.5448916349078, 1051.1963296051968, 1039.5126780688631, 995.2954012533337, 974.7918539447257, 950.3114561551553, 902.9510165183704, 807.5976787993555, 789.7704086268667, 771.7406611496057, 692.9275517156314, 686.3547234903638, 652.0485863751179, 609.8729624585987, 607.6171082806744, 587.7217228431687, 584.318854981907, 548.6541898226262, 526.4528927850869, 516.8104884560195, 511.0338613965346, 501.8719732573314, 500.4754616546631], \"Category\": [\"Default\", \"Default\", \"Default\", \"Default\", \"Default\", \"Default\", \"Default\", \"Default\", \"Default\", \"Default\", \"Default\", \"Default\", \"Default\", \"Default\", \"Default\", \"Default\", \"Default\", \"Default\", \"Default\", \"Default\", \"Default\", \"Default\", \"Default\", \"Default\", \"Default\", \"Default\", \"Default\", \"Default\", \"Default\", \"Default\", \"Topic1\", \"Topic1\", \"Topic1\", \"Topic1\", \"Topic1\", \"Topic1\", \"Topic1\", \"Topic1\", \"Topic1\", \"Topic1\", \"Topic1\", \"Topic1\", \"Topic1\", \"Topic1\", \"Topic1\", \"Topic1\", \"Topic1\", \"Topic1\", \"Topic1\", \"Topic1\", \"Topic1\", \"Topic1\", \"Topic1\", \"Topic1\", \"Topic1\", \"Topic1\", \"Topic1\", \"Topic1\", \"Topic1\", \"Topic1\", \"Topic2\", \"Topic2\", \"Topic2\", \"Topic2\", \"Topic2\", \"Topic2\", \"Topic2\", \"Topic2\", \"Topic2\", \"Topic2\", \"Topic2\", \"Topic2\", \"Topic2\", \"Topic2\", \"Topic2\", \"Topic2\", \"Topic2\", \"Topic2\", \"Topic2\", \"Topic2\", \"Topic2\", \"Topic2\", \"Topic2\", \"Topic2\", \"Topic2\", \"Topic2\", \"Topic2\", \"Topic2\", \"Topic2\", \"Topic2\", \"Topic3\", \"Topic3\", \"Topic3\", \"Topic3\", \"Topic3\", \"Topic3\", \"Topic3\", \"Topic3\", \"Topic3\", \"Topic3\", \"Topic3\", \"Topic3\", \"Topic3\", \"Topic3\", \"Topic3\", \"Topic3\", \"Topic3\", \"Topic3\", \"Topic3\", \"Topic3\", \"Topic3\", \"Topic3\", \"Topic3\", \"Topic3\", \"Topic3\", \"Topic3\", \"Topic3\", \"Topic3\", \"Topic3\", \"Topic3\", \"Topic4\", \"Topic4\", \"Topic4\", \"Topic4\", \"Topic4\", \"Topic4\", \"Topic4\", \"Topic4\", \"Topic4\", \"Topic4\", \"Topic4\", \"Topic4\", \"Topic4\", \"Topic4\", \"Topic4\", \"Topic4\", \"Topic4\", \"Topic4\", \"Topic4\", \"Topic4\", \"Topic4\", \"Topic4\", \"Topic4\", \"Topic4\", \"Topic4\", \"Topic4\", \"Topic4\", \"Topic4\", \"Topic4\", \"Topic4\", \"Topic5\", \"Topic5\", \"Topic5\", \"Topic5\", \"Topic5\", \"Topic5\", \"Topic5\", \"Topic5\", \"Topic5\", \"Topic5\", \"Topic5\", \"Topic5\", \"Topic5\", \"Topic5\", \"Topic5\", \"Topic5\", \"Topic5\", \"Topic5\", \"Topic5\", \"Topic5\", \"Topic5\", \"Topic5\", \"Topic5\", \"Topic5\", \"Topic5\", \"Topic5\", \"Topic5\", \"Topic5\", \"Topic5\", \"Topic5\", \"Topic6\", \"Topic6\", \"Topic6\", \"Topic6\", \"Topic6\", \"Topic6\", \"Topic6\", \"Topic6\", \"Topic6\", \"Topic6\", \"Topic6\", \"Topic6\", \"Topic6\", \"Topic6\", \"Topic6\", \"Topic6\", \"Topic6\", \"Topic6\", \"Topic6\", \"Topic6\", \"Topic6\", \"Topic6\", \"Topic6\", \"Topic6\", \"Topic6\", \"Topic6\", \"Topic6\", \"Topic6\", \"Topic6\", \"Topic6\", \"Topic7\", \"Topic7\", \"Topic7\", \"Topic7\", \"Topic7\", \"Topic7\", \"Topic7\", \"Topic7\", \"Topic7\", \"Topic7\", \"Topic7\", \"Topic7\", \"Topic7\", \"Topic7\", \"Topic7\", \"Topic7\", \"Topic7\", \"Topic7\", \"Topic7\", \"Topic7\", \"Topic7\", \"Topic7\", \"Topic7\", \"Topic7\", \"Topic7\", \"Topic7\", \"Topic7\", \"Topic7\", \"Topic7\", \"Topic7\", \"Topic8\", \"Topic8\", \"Topic8\", \"Topic8\", \"Topic8\", \"Topic8\", \"Topic8\", \"Topic8\", \"Topic8\", \"Topic8\", \"Topic8\", \"Topic8\", \"Topic8\", \"Topic8\", \"Topic8\", \"Topic8\", \"Topic8\", \"Topic8\", \"Topic8\", \"Topic8\", \"Topic8\", \"Topic8\", \"Topic8\", \"Topic8\", \"Topic8\", \"Topic8\", \"Topic8\", \"Topic8\", \"Topic8\", \"Topic8\", \"Topic9\", \"Topic9\", \"Topic9\", \"Topic9\", \"Topic9\", \"Topic9\", \"Topic9\", \"Topic9\", \"Topic9\", \"Topic9\", \"Topic9\", \"Topic9\", \"Topic9\", \"Topic9\", \"Topic9\", \"Topic9\", \"Topic9\", \"Topic9\", \"Topic9\", \"Topic9\", \"Topic9\", \"Topic9\", \"Topic9\", \"Topic9\", \"Topic9\", \"Topic9\", \"Topic9\", \"Topic9\", \"Topic9\", \"Topic9\", \"Topic10\", \"Topic10\", \"Topic10\", \"Topic10\", \"Topic10\", \"Topic10\", \"Topic10\", \"Topic10\", \"Topic10\", \"Topic10\", \"Topic10\", \"Topic10\", \"Topic10\", \"Topic10\", \"Topic10\", \"Topic10\", \"Topic10\", \"Topic10\", \"Topic10\", \"Topic10\", \"Topic10\", \"Topic10\", \"Topic10\", \"Topic10\", \"Topic10\", \"Topic10\", \"Topic10\", \"Topic10\", \"Topic10\", \"Topic10\"], \"logprob\": [30.0, 29.0, 28.0, 27.0, 26.0, 25.0, 24.0, 23.0, 22.0, 21.0, 20.0, 19.0, 18.0, 17.0, 16.0, 15.0, 14.0, 13.0, 12.0, 11.0, 10.0, 9.0, 8.0, 7.0, 6.0, 5.0, 4.0, 3.0, 2.0, 1.0, -3.1094, -3.3972, -3.4171, -3.4783, -3.4968, -3.6252, -4.0529, -4.109, -4.2433, -4.3213, -4.4058, -4.4937, -4.5729, -4.5778, -4.5779, -4.6151, -4.6589, -4.7087, -4.7575, -4.7738, -4.7745, -4.8063, -4.8143, -4.8667, -4.9137, -4.9201, -4.9273, -4.9634, -4.9995, -5.0115, -3.3333, -3.4508, -3.5082, -3.5185, -3.6353, -3.7222, -4.0654, -4.0739, -4.1, -4.1115, -4.1484, -4.1893, -4.2558, -4.3641, -4.402, -4.4353, -4.5055, -4.5253, -4.5836, -4.6047, -4.6337, -4.643, -4.6585, -4.6793, -4.7719, -4.7812, -4.8231, -4.8661, -4.9105, -4.9154, -2.7695, -2.9465, -3.2275, -3.3234, -3.3312, -3.6199, -3.7284, -3.8588, -3.9761, -4.0099, -4.0152, -4.0543, -4.1684, -4.2012, -4.2307, -4.2523, -4.2815, -4.4021, -4.5009, -4.6082, -4.6455, -4.6507, -4.6774, -4.6868, -4.7533, -4.7574, -4.7799, -4.8089, -4.8737, -4.9238, -3.2097, -3.4097, -3.4254, -3.5182, -3.7562, -3.989, -4.0525, -4.0559, -4.2218, -4.2431, -4.2921, -4.2922, -4.2979, -4.3571, -4.3775, -4.3857, -4.5051, -4.5486, -4.5719, -4.6109, -4.6136, -4.6245, -4.6253, -4.637, -4.6471, -4.6686, -4.7134, -4.7142, -4.7816, -4.8897, -3.1994, -3.5529, -3.6562, -3.8671, -3.894, -3.9134, -3.9361, -3.9646, -4.1199, -4.1863, -4.2387, -4.2521, -4.417, -4.4275, -4.5427, -4.5501, -4.5923, -4.6027, -4.6107, -4.6112, -4.6185, -4.6195, -4.6353, -4.6498, -4.8171, -4.8901, -4.8911, -4.9094, -4.934, -4.9383, -3.2761, -3.5492, -3.5649, -3.604, -3.9089, -4.0641, -4.0728, -4.1648, -4.1873, -4.1986, -4.2191, -4.2389, -4.2576, -4.3257, -4.3628, -4.3897, -4.4491, -4.4516, -4.4551, -4.4779, -4.4827, -4.5336, -4.6621, -4.8071, -4.8332, -4.8943, -4.949, -4.9579, -4.971, -5.0289, -2.5609, -3.4693, -3.5569, -3.6002, -3.7493, -3.856, -3.8893, -3.8895, -4.086, -4.1594, -4.2096, -4.265, -4.4354, -4.4714, -4.4755, -4.5264, -4.7241, -4.7635, -4.8607, -4.872, -4.907, -4.9583, -4.9842, -4.9874, -5.0049, -5.0141, -5.0229, -5.0339, -5.0826, -5.1016, -2.6494, -2.9296, -3.2683, -3.8126, -3.8701, -3.8964, -3.9411, -3.9475, -3.9879, -4.1199, -4.1365, -4.1957, -4.2189, -4.4254, -4.4397, -4.5211, -4.5915, -4.7283, -4.7337, -4.7472, -4.7858, -4.8587, -4.9663, -4.9791, -5.0089, -5.0114, -5.0497, -5.0531, -5.0952, -5.1163, -2.8062, -3.3222, -3.3499, -3.3506, -3.9896, -4.0107, -4.0889, -4.11, -4.1469, -4.1854, -4.2033, -4.225, -4.2351, -4.2827, -4.3464, -4.3528, -4.3571, -4.4534, -4.4645, -4.4939, -4.544, -4.6103, -4.6745, -4.7509, -4.769, -4.8078, -4.825, -4.9352, -4.9434, -5.0001, -3.2377, -3.5039, -3.5099, -3.76, -3.9284, -3.9538, -3.9925, -4.0093, -4.1522, -4.1634, -4.2069, -4.2277, -4.2532, -4.3044, -4.4161, -4.4385, -4.4616, -4.5695, -4.579, -4.6304, -4.6973, -4.7011, -4.7344, -4.7402, -4.8033, -4.8447, -4.8632, -4.8745, -4.8926, -4.8954], \"loglift\": [30.0, 29.0, 28.0, 27.0, 26.0, 25.0, 24.0, 23.0, 22.0, 21.0, 20.0, 19.0, 18.0, 17.0, 16.0, 15.0, 14.0, 13.0, 12.0, 11.0, 10.0, 9.0, 8.0, 7.0, 6.0, 5.0, 4.0, 3.0, 2.0, 1.0, 1.9038, 1.9037, 1.9037, 1.9037, 1.9037, 1.9037, 1.9035, 1.9035, 1.9035, 1.9034, 1.9034, 1.9033, 1.9033, 1.9033, 1.9033, 1.9033, 1.9032, 1.9032, 1.9031, 1.9031, 1.9031, 1.9031, 1.9031, 1.9031, 1.903, 1.903, 1.903, 1.903, 1.9029, 1.9029, 2.1525, 2.1525, 2.1525, 2.1525, 2.1525, 2.1524, 2.1523, 2.1523, 2.1523, 2.1523, 2.1522, 2.1522, 2.1522, 2.1521, 2.1521, 2.1521, 2.152, 2.152, 2.152, 2.1519, 2.1519, 2.1519, 2.1519, 2.1519, 2.1518, 2.1518, 2.1517, 2.1517, 2.1516, 2.1516, 2.1724, 2.1724, 2.1723, 2.1723, 2.1723, 2.1722, 2.1722, 2.1721, 2.1721, 2.172, 2.172, 2.172, 2.172, 2.1719, 2.1719, 2.1719, 2.1719, 2.1718, 2.1717, 2.1716, 2.1716, 2.1716, 2.1716, 2.1716, 2.1715, 2.1715, 2.1715, 2.1714, 2.1714, 2.1713, 2.2131, 2.213, 2.213, 2.213, 2.2129, 2.2128, 2.2128, 2.2128, 2.2127, 2.2127, 2.2126, 2.2126, 2.2126, 2.2126, 2.2126, 2.2126, 2.2125, 2.2124, 2.2124, 2.2124, 2.2124, 2.2124, 2.2124, 2.2123, 2.2123, 2.2123, 2.2123, 2.2123, 2.2122, 2.2121, 2.2535, 2.2534, 2.2533, 2.2532, 2.2532, 2.2532, 2.2532, 2.2532, 2.2531, 2.2531, 2.253, 2.253, 2.2529, 2.2529, 2.2528, 2.2528, 2.2528, 2.2527, 2.2527, 2.2527, 2.2527, 2.2527, 2.2527, 2.2527, 2.2525, 2.2524, 2.2524, 2.2524, 2.2524, 2.2524, 2.3354, 2.3353, 2.3353, 2.3353, 2.3352, 2.3351, 2.3351, 2.335, 2.335, 2.335, 2.335, 2.335, 2.335, 2.3349, 2.3349, 2.3349, 2.3348, 2.3348, 2.3348, 2.3348, 2.3348, 2.3347, 2.3346, 2.3344, 2.3344, 2.3343, 2.3343, 2.3342, 2.3342, 2.3341, 2.4055, 2.4053, 2.4053, 2.4053, 2.4052, 2.4051, 2.4051, 2.4051, 2.405, 2.405, 2.4049, 2.4049, 2.4047, 2.4047, 2.4047, 2.4046, 2.4044, 2.4044, 2.4043, 2.4042, 2.4042, 2.4041, 2.4041, 2.4041, 2.404, 2.404, 2.404, 2.404, 2.4039, 2.4039, 2.4926, 2.4925, 2.4925, 2.4922, 2.4922, 2.4922, 2.4922, 2.4922, 2.4921, 2.492, 2.492, 2.492, 2.492, 2.4918, 2.4918, 2.4917, 2.4916, 2.4914, 2.4914, 2.4914, 2.4914, 2.4912, 2.4911, 2.4911, 2.491, 2.491, 2.4909, 2.4909, 2.4908, 2.4908, 2.588, 2.5878, 2.5878, 2.5878, 2.5875, 2.5875, 2.5874, 2.5874, 2.5873, 2.5873, 2.5873, 2.5873, 2.5873, 2.5872, 2.5872, 2.5872, 2.5872, 2.5871, 2.587, 2.587, 2.5869, 2.5869, 2.5868, 2.5867, 2.5866, 2.5866, 2.5865, 2.5864, 2.5863, 2.5862, 2.783, 2.7828, 2.7828, 2.7827, 2.7826, 2.7825, 2.7825, 2.7825, 2.7824, 2.7823, 2.7823, 2.7823, 2.7823, 2.7822, 2.7821, 2.782, 2.782, 2.7818, 2.7818, 2.7817, 2.7816, 2.7816, 2.7816, 2.7816, 2.7814, 2.7814, 2.7813, 2.7813, 2.7813, 2.7813]}, \"token.table\": {\"Topic\": [8, 7, 5, 10, 9, 8, 2, 8, 5, 3, 1, 2, 7, 5, 1, 3, 7, 9, 1, 7, 6, 2, 2, 8, 8, 2, 7, 7, 8, 4, 7, 5, 7, 3, 5, 5, 6, 10, 4, 4, 1, 8, 2, 4, 4, 10, 1, 2, 8, 1, 4, 1, 3, 6, 10, 7, 2, 2, 3, 7, 5, 4, 5, 6, 3, 2, 4, 7, 10, 10, 1, 3, 8, 5, 3, 9, 1, 9, 9, 9, 8, 1, 4, 7, 8, 3, 4, 9, 10, 6, 10, 5, 3, 5, 10, 1, 4, 1, 8, 7, 3, 5, 8, 6, 1, 9, 5, 4, 10, 9, 9, 3, 1, 5, 2, 4, 4, 4, 1, 6, 3, 5, 8, 7, 8, 7, 7, 1, 3, 4, 4, 2, 9, 8, 10, 7, 3, 10, 5, 6, 1, 5, 7, 1, 9, 10, 2, 10, 10, 7, 6, 1, 7, 2, 2, 3, 6, 7, 5, 4, 6, 8, 7, 2, 6, 9, 6, 8, 3, 2, 5, 9, 7, 6, 6, 9, 9, 8, 1, 9, 4, 2, 10, 10, 6, 9, 10, 10, 3, 1, 10, 10, 2, 10, 5, 5, 3, 4, 5, 6, 5, 6, 7, 6, 9, 4, 1, 3, 10, 7, 6, 4, 3, 8, 3, 6, 9, 6, 8, 1, 7, 10, 2, 4, 4, 2, 8, 8, 6, 9, 8, 2, 2, 4, 4, 1, 7, 9, 3, 5, 9, 1, 8, 1, 8, 9, 4, 5, 6, 9, 1, 5, 1, 6, 6, 5, 2, 7, 9, 10, 10, 8, 7, 9, 4, 1, 6, 3, 2, 3, 2, 7, 8, 3, 10, 6, 6, 5, 2, 9, 10, 4, 5, 2, 2, 8, 3, 1, 3, 10, 9, 2, 9, 5, 6, 4, 3, 10, 3, 8], \"Freq\": [0.9994074256428603, 0.9981590182579572, 0.9982110710238921, 0.9986614015948206, 0.9987858901747813, 0.998596106524447, 0.999174080939125, 0.9989133720947457, 0.9990298259750889, 0.9998226240621385, 0.9995652826049696, 0.9994308711262724, 0.9994021479756322, 0.9998405783673124, 0.9992348594123523, 0.9987227718707667, 0.9992780861804922, 0.9978120410915963, 0.9997459170246132, 0.9996330781499541, 0.9992205542257535, 0.9986713314962258, 0.9992689176756897, 0.9994678191328108, 0.9982845526898743, 0.9994020246713339, 0.9984480334917499, 0.9994338193333744, 0.9979281858246546, 0.9988787070609348, 0.9998234157767378, 0.9990199807634461, 0.9992944394253376, 0.9993711695785668, 0.9995742891230641, 0.9994725157304875, 0.9991197683618283, 0.9984317492115131, 0.9991087697124591, 0.9993958113115525, 0.9990976223534414, 0.9985996461554788, 0.9996804178482793, 0.9995440884821146, 0.9995540903726741, 0.9986984755965893, 0.9986310019784775, 0.9989491515373198, 0.9993673927960972, 0.9989653507429046, 0.999429297780207, 0.9997399930713926, 0.9993404623242534, 0.9989505570145869, 0.9977429190061857, 0.998807018933796, 0.9992734174440261, 0.9996694599427917, 0.9992232263523643, 0.9981214531814778, 0.999671384166917, 0.9997580122511395, 0.9994390185431912, 0.9987976854551981, 0.9993677003939364, 0.9996910410866522, 0.9996373316699468, 0.9996776343937767, 0.9989467684282174, 0.9980262050452942, 0.9994563202995762, 0.9994765715058138, 0.9982299072767259, 0.9996846669364543, 0.9998542435530349, 0.9990840103892622, 0.999191925291304, 0.9987863935808708, 0.9978303515436516, 0.9995541807058249, 0.9987211584975313, 0.9998402606151945, 0.9993617658097681, 0.9987522875326833, 0.9990791055714008, 0.9998432617862779, 0.9990022273320928, 0.9992608003758361, 0.9988076463558262, 0.9991869244880138, 0.9985448199903889, 0.9986796813965084, 0.9990874047401266, 0.9993188678670902, 0.9987719990343776, 0.9994389500126634, 0.9990173948842809, 0.99898090463466, 0.9979302647508402, 0.99825771292133, 0.9988872482880289, 0.9993298962831151, 0.9988235253677634, 0.999194048399144, 0.9988096744609287, 0.9988316310346669, 0.9990289330621799, 0.9993110831296362, 0.9985686159047295, 0.9974848849324712, 0.9985726511607875, 0.9996127729059312, 0.9997025800283245, 0.9988871152099051, 0.9992730338773739, 0.9997179259538845, 0.9987302603367049, 0.9989760213865972, 0.9992896230947469, 0.9984485559952736, 0.9991354520843638, 0.9988726504424608, 0.9992559522212325, 0.9976678767902496, 0.9988543046972211, 0.998936629699964, 0.9976640048537473, 0.9988100098205581, 0.9990983260412584, 0.9992792161247854, 0.9995978209301987, 0.9996199104998574, 0.9989353053467372, 0.9975712468323918, 0.9990402719632495, 0.9994470140312873, 0.9985957254731505, 0.9995506214749929, 0.9990485341274141, 0.9996973334606232, 0.9991381811208422, 0.9991864804899915, 0.9982000626073856, 0.9996088059722759, 0.9991524620854095, 0.9972402226201083, 0.9996785644468913, 0.9970518801265802, 0.9991876686889398, 0.9996658630342027, 0.9990908522866887, 0.9990852060831076, 0.9987258170661361, 0.9997028272401555, 0.9996568743131227, 0.9990382476084461, 0.9995544639715682, 0.9982466051485912, 0.9992991124029684, 0.9990918335393764, 0.9994947565204229, 0.9992824574963581, 0.9982796932452059, 0.9994303927987835, 0.9993510228207377, 0.9988217633741603, 0.9996453133047263, 0.9971867561120143, 0.9996878018451143, 0.9995006016348624, 0.9997982237721461, 0.9994868948266667, 0.9994911755255202, 0.9987187978108447, 0.9994061004314737, 0.9997505895631453, 0.9992878316368236, 0.9983617640973441, 0.9994476528706857, 0.9984076307986992, 0.9992020875544444, 0.9988573557947876, 0.9994842596546332, 0.9993780101135981, 0.9996475534347006, 0.9986536488424544, 0.9997039479585262, 0.9982625583738579, 0.9996242117544845, 0.9995737343933044, 0.9990245157093108, 0.9995727196959395, 0.9994908107725764, 0.9989843796820985, 0.9991508521367707, 0.9995411061044356, 0.9995919388918378, 0.9994522747073886, 0.9993523862407773, 0.9991471942882316, 0.9995157523161028, 0.9989489418458093, 0.9989766968847295, 0.9991745584855595, 0.9995369143455849, 0.9992691193666186, 0.9996543602364251, 0.9995673078820124, 0.9979769219329042, 0.9991598885459354, 0.9993424983826841, 0.9984903206888258, 0.99895926914171, 0.99943529870771, 0.9986022091976451, 0.9995230371766706, 0.9983806860481275, 0.9997266180544822, 0.999823704864424, 0.9997754029153001, 0.9991679131290421, 0.9991251908244769, 0.9990605387035532, 0.9992054424374383, 0.9989089339191828, 0.9998318827766061, 0.9988504095936381, 0.999680801673158, 0.9990614266219473, 0.999530607819318, 0.9998607081448044, 0.99959595930044, 0.9994070435887954, 0.999616883600272, 0.9997922611214995, 0.9992121531247345, 0.9994427948737613, 0.9985656837660757, 0.9987585915999105, 0.9984681187610116, 0.9987928114191383, 0.9997318870940246, 0.9974224666403606, 0.9988139446501295, 0.9997824055678805, 0.9989547756219489, 0.999033567187686, 0.9985269129650006, 0.9982904230580844, 0.9982218163521172, 0.9989698771539065, 0.9993137031508925, 0.9994592318944661, 0.9991933004153686, 0.9990624097690931, 0.9995626134103365, 0.9996125922259396, 0.999051137320697, 0.9994165995980048, 0.9988619351385616, 0.9986199722768141, 0.9994604464947225, 0.9995447278985069, 0.9989540874837312, 0.9993099195038394, 0.9992057596077879, 0.9994311484877734, 0.9993160514469945, 0.9992261001640387, 0.9994397349711207, 0.9993684054179438, 0.9978595669083199, 0.9980450330467335, 0.9995476383051056, 0.9990840444735285, 0.9990798628921835, 0.9996952865159454, 0.9992186486738245, 0.9992560014455968, 0.9992739070650357, 0.9994492086577191, 0.9995673057505099, 0.9994004235385201, 0.9985768007728849, 0.9991774523484079, 0.999211911929724, 0.9993859281888874, 0.9997235141958293, 0.9997572470541723, 0.9992599300183179, 0.998980988372052, 0.9998160696081534, 0.9992428952974596, 0.9996580189660652, 0.9995517824591372, 0.999296855453828, 0.9998056535827013, 0.9983918585255322, 0.9993510505259311, 0.9987458897959203], \"Term\": [\"amp\", \"https\", \"\\u0430\\u0430\\u0430\", \"\\u0430\\u0430\\u0430\\u0430\", \"\\u0430\\u0433\\u0430\", \"\\u0430\\u043b\\u0433\\u0435\\u0431\\u0440\\u0430\", \"\\u0430\\u0445\\u0438\", \"\\u0431\\u0435\\u0441\\u0438\\u0442\\u044c\", \"\\u0431\\u0438\\u043b\\u0435\\u0442\", \"\\u0431\\u043b\\u0438\\u043d\", \"\\u0431\\u043b\\u044f\", \"\\u0431\\u043b\\u044f\\u0434\\u044c\", \"\\u0431\\u043e\\u0433\", \"\\u0431\\u043e\\u043b\\u0435\\u0442\\u044c\", \"\\u0431\\u043e\\u043b\\u044c\", \"\\u0431\\u043e\\u043b\\u044c\\u043d\\u0438\\u0446\\u0430\", \"\\u0431\\u043e\\u043b\\u044c\\u043d\\u043e\", \"\\u0431\\u043e\\u043b\\u044c\\u0448\\u0438\\u0439\", \"\\u0431\\u043e\\u043b\\u044c\\u0448\\u043e\\u0439\", \"\\u0431\\u043e\\u044f\\u0442\\u044c\\u0441\\u044f\", \"\\u0431\\u0440\\u0430\\u0442\", \"\\u0431\\u044b\\u0432\\u0430\\u0442\\u044c\", \"\\u0432\\u0435\\u0440\\u0438\\u0442\\u044c\", \"\\u0432\\u0435\\u0447\\u0435\\u0440\", \"\\u0432\\u0435\\u0449\\u044c\", \"\\u0432\\u0437\\u044f\\u0442\\u044c\", \"\\u0432\\u0438\\u0434\", \"\\u0432\\u0438\\u0434\\u0435\\u0442\\u044c\", \"\\u0432\\u0438\\u0434\\u0438\\u043c\\u043e\", \"\\u0432\\u043e\\u0434\\u0430\", \"\\u0432\\u043e\\u043e\\u0431\\u0449\\u0435\", \"\\u0432\\u043e\\u043f\\u0440\\u043e\\u0441\", \"\\u0432\\u0440\\u043e\\u0434\\u0435\", \"\\u0432\\u0441\\u0442\\u0430\\u0432\\u0430\\u0442\\u044c\", \"\\u0432\\u0447\\u0435\\u0440\\u0430\", \"\\u0432\\u044b\\u0439\\u0442\\u0438\", \"\\u0432\\u044b\\u0441\\u043f\\u0430\\u0442\\u044c\\u0441\\u044f\", \"\\u0432\\u044b\\u0443\\u0447\\u0438\\u0442\\u044c\", \"\\u0432\\u044b\\u0445\\u043e\\u0434\\u0438\\u0442\\u044c\", \"\\u0432\\u044b\\u0445\\u043e\\u0434\\u043d\\u043e\\u0439\", \"\\u0433\\u043b\\u0430\\u0437\", \"\\u0433\\u043e\\u0432\\u043d\\u043e\", \"\\u0433\\u043e\\u0432\\u043e\\u0440\\u0438\\u0442\\u044c\", \"\\u0433\\u043e\\u043b\\u043e\\u0432\\u0430\", \"\\u0433\\u043e\\u0440\\u043e\\u0434\", \"\\u0433\\u043e\\u0442\\u043e\\u0432\\u044b\\u0439\", \"\\u0433\\u0440\\u0443\\u0441\\u0442\\u043d\\u043e\", \"\\u0433\\u0443\\u043b\\u044f\\u0442\\u044c\", \"\\u0434\\u0430\\u0432\\u0430\\u0442\\u044c\", \"\\u0434\\u0430\\u0442\\u044c\", \"\\u0434\\u0435\\u0432\\u0443\\u0448\\u043a\\u0430\", \"\\u0434\\u0435\\u043b\\u0430\\u0442\\u044c\", \"\\u0434\\u0435\\u043b\\u043e\", \"\\u0434\\u0435\\u043d\\u044c\\u0433\\u0430\", \"\\u0434\\u0438\\u043a\\u043e\", \"\\u0434\\u043e\\u0436\\u0434\\u044c\", \"\\u0434\\u043e\\u043b\\u0436\\u043d\\u044b\\u0439\", \"\\u0434\\u043e\\u043c\", \"\\u0434\\u043e\\u043c\\u043e\\u0439\", \"\\u0434\\u043e\\u0441\\u0442\\u0430\\u0442\\u044c\", \"\\u0434\\u0440\\u0443\\u0433\", \"\\u0434\\u0443\\u043c\\u0430\\u0442\\u044c\", \"\\u0434\\u0443\\u0448\\u0430\", \"\\u0435\\u0434\\u0430\", \"\\u0435\\u0445\\u0430\\u0442\\u044c\", \"\\u0436\\u0430\\u043b\\u043a\\u043e\", \"\\u0436\\u0430\\u043b\\u044c\", \"\\u0436\\u0434\\u0430\\u0442\\u044c\", \"\\u0436\\u0435\\u043b\\u0430\\u043d\\u0438\\u0435\", \"\\u0436\\u0438\\u0432\\u043e\\u0442\", \"\\u0436\\u0438\\u0442\\u044c\", \"\\u0437\\u0430\\u0431\\u043e\\u043b\\u0435\\u0442\\u044c\", \"\\u0437\\u0430\\u0431\\u0440\\u0430\\u0442\\u044c\", \"\\u0437\\u0430\\u0431\\u044b\\u0442\\u044c\", \"\\u0437\\u0430\\u0432\\u0442\\u0440\\u0430\", \"\\u0437\\u0430\\u0439\\u0442\\u0438\", \"\\u0437\\u0430\\u043a\\u043e\\u043d\\u0447\\u0438\\u0442\\u044c\\u0441\\u044f\", \"\\u0437\\u0430\\u0445\\u043e\\u0434\\u0438\\u0442\\u044c\", \"\\u0437\\u0432\\u0430\\u0442\\u044c\", \"\\u0437\\u0438\\u043c\\u0430\", \"\\u0437\\u043b\\u043e\\u0439\", \"\\u0437\\u043d\\u0430\\u0442\\u044c\", \"\\u0438\\u0431\\u043e\", \"\\u0438\\u0433\\u0440\\u0430\", \"\\u0438\\u0433\\u0440\\u0430\\u0442\\u044c\", \"\\u0438\\u0434\\u0442\\u0438\", \"\\u0438\\u043d\\u0442\\u0435\\u0440\\u043d\\u0435\\u0442\", \"\\u0438\\u0441\\u0442\\u043e\\u0440\\u0438\\u044f\", \"\\u0438\\u0442\\u043e\\u0433\", \"\\u043a\\u0430\\u0437\\u0430\\u0442\\u044c\\u0441\\u044f\", \"\\u043a\\u0430\\u043d\\u0438\\u043a\\u0443\\u043b\\u044b\", \"\\u043a\\u0430\\u043f\\u0435\\u0446\", \"\\u043a\\u0430\\u0442\\u043e\\u043a\", \"\\u043a\\u0438\\u0435\\u0432\", \"\\u043a\\u0438\\u043d\\u043e\", \"\\u043a\\u043b\\u0430\\u0441\\u0441\", \"\\u043a\\u043d\\u0438\\u0433\\u0430\", \"\\u043a\\u043e\\u043d\\u0435\\u0446\", \"\\u043a\\u043e\\u043d\\u0446\\u0435\\u0440\\u0442\", \"\\u043a\\u043e\\u0440\\u043e\\u0447\\u0435\", \"\\u043a\\u0440\\u0443\\u0442\\u043e\", \"\\u043a\\u0443\\u043f\\u0438\\u0442\\u044c\", \"\\u043a\\u0443\\u0447\\u0430\", \"\\u043b\\u0435\\u0436\\u0430\\u0442\\u044c\", \"\\u043b\\u0435\\u043d\\u0442\\u0430\", \"\\u043b\\u0435\\u043d\\u044c\", \"\\u043b\\u0435\\u0442\\u043e\", \"\\u043b\\u0438\\u0446\\u043e\", \"\\u043b\\u043e\\u0436\\u0438\\u0442\\u044c\\u0441\\u044f\", \"\\u043b\\u043e\\u0445\", \"\\u043b\\u044b\\u0436\\u0430\", \"\\u043b\\u044e\\u0431\\u0438\\u043c\\u044b\\u0439\", \"\\u043b\\u044e\\u0431\\u0438\\u0442\\u044c\", \"\\u043b\\u044e\\u0431\\u043e\\u0432\\u044c\", \"\\u043c\\u0430\\u043b\\u0435\\u043d\\u044c\\u043a\\u0438\\u0439\", \"\\u043c\\u0430\\u043c\\u0430\", \"\\u043c\\u0435\\u0441\\u0442\\u043e\", \"\\u043c\\u0435\\u0441\\u044f\\u0446\", \"\\u043c\\u0438\\u043d\\u0443\\u0442\\u0430\", \"\\u043c\\u0438\\u0440\", \"\\u043c\\u043e\\u043c\\u0435\\u043d\\u0442\", \"\\u043c\\u043e\\u0440\\u043e\\u0437\", \"\\u043c\\u043e\\u0441\\u043a\\u0432\\u0430\", \"\\u043c\\u0443\\u0436\\u0438\\u043a\", \"\\u043c\\u0443\\u0437\\u044b\\u043a\\u0430\", \"\\u043c\\u044b\\u0441\\u043b\\u044c\", \"\\u043d\\u0430\\u0432\\u0435\\u0440\\u043d\\u043e\", \"\\u043d\\u0430\\u0432\\u0435\\u0440\\u043d\\u043e\\u0435\", \"\\u043d\\u0430\\u0434\\u0435\\u044f\\u0442\\u044c\\u0441\\u044f\", \"\\u043d\\u0430\\u0434\\u043e\\u0435\\u0441\\u0442\\u044c\", \"\\u043d\\u0430\\u0439\\u0442\\u0438\", \"\\u043d\\u0430\\u043f\\u0438\\u0441\\u0430\\u0442\\u044c\", \"\\u043d\\u0430\\u043f\\u043e\\u043c\\u043d\\u0438\\u0442\\u044c\", \"\\u043d\\u0430\\u0440\\u043e\\u0434\", \"\\u043d\\u0430\\u0441\\u0442\\u043e\\u044f\\u0449\\u0438\\u0439\", \"\\u043d\\u0430\\u0441\\u0442\\u0440\\u043e\\u0435\\u043d\\u0438\\u0435\", \"\\u043d\\u0430\\u0447\\u0430\\u043b\\u043e\", \"\\u043d\\u0430\\u0447\\u0430\\u0442\\u044c\\u0441\\u044f\", \"\\u043d\\u0430\\u0447\\u0438\\u043d\\u0430\\u0442\\u044c\", \"\\u043d\\u0435\\u0434\\u0435\\u043b\\u044f\", \"\\u043d\\u0435\\u043d\\u0430\\u0432\\u0438\\u0434\\u0435\\u0442\\u044c\", \"\\u043d\\u0435\\u0442\\u0443\", \"\\u043d\\u0435\\u0443\\u0436\\u0435\\u043b\\u0438\", \"\\u043d\\u0438\\u0431\\u044b\\u0442\\u044c\", \"\\u043d\\u0438\\u043a\\u0430\\u043a\", \"\\u043d\\u0438\\u043a\\u0430\\u043a\\u043e\\u0439\", \"\\u043d\\u0438\\u043a\\u0442\\u043e\", \"\\u043d\\u0438\\u0444\\u0438\\u0433\\u0430\", \"\\u043d\\u043e\\u0432\\u043e\\u0441\\u0442\\u044c\", \"\\u043d\\u043e\\u0432\\u044b\\u0439\", \"\\u043d\\u043e\\u0433\\u0430\", \"\\u043d\\u043e\\u0440\\u043c\\u0430\\u043b\\u044c\\u043d\\u043e\", \"\\u043d\\u043e\\u0440\\u043c\\u0430\\u043b\\u044c\\u043d\\u044b\\u0439\", \"\\u043d\\u043e\\u0447\\u044c\", \"\\u043d\\u0440\\u0430\\u0432\\u0438\\u0442\\u044c\\u0441\\u044f\", \"\\u043d\\u0443\\u0436\\u043d\\u044b\\u0439\", \"\\u043e\\u0431\\u0438\\u0434\\u043d\\u043e\", \"\\u043e\\u043a\\u043d\\u043e\", \"\\u043e\\u0441\\u0442\\u0430\\u0442\\u044c\\u0441\\u044f\", \"\\u043f\\u0430\\u043f\\u0430\", \"\\u043f\\u0430\\u0440\\u0430\", \"\\u043f\\u0430\\u0440\\u0435\\u043d\\u044c\", \"\\u043f\\u0435\\u0440\\u0435\\u0436\\u0438\\u0432\\u0430\\u0442\\u044c\", \"\\u043f\\u0435\\u0441\\u043d\\u044f\", \"\\u043f\\u0435\\u0447\\u0430\\u043b\\u044c\\u043d\\u043e\", \"\\u043f\\u0437\\u0434\\u0446\\u0430\", \"\\u043f\\u0438\\u0437\\u0434\\u0435\\u0446\", \"\\u043f\\u0438\\u043f\\u0435\\u0446\", \"\\u043f\\u0438\\u0441\\u0430\\u0442\\u044c\", \"\\u043f\\u043b\\u0430\\u043a\\u0430\\u0442\\u044c\", \"\\u043f\\u043b\\u043e\\u0445\\u043e\", \"\\u043f\\u043b\\u043e\\u0445\\u043e\\u0439\", \"\\u043f\\u043e\\u0433\\u043e\\u0434\\u0430\", \"\\u043f\\u043e\\u0434\\u0443\\u043c\\u0430\\u0442\\u044c\", \"\\u043f\\u043e\\u0435\\u0445\\u0430\\u0442\\u044c\", \"\\u043f\\u043e\\u0439\\u0442\\u0438\", \"\\u043f\\u043e\\u043b\", \"\\u043f\\u043e\\u043b\\u043d\\u044b\\u0439\", \"\\u043f\\u043e\\u043b\\u0443\\u0447\\u0430\\u0442\\u044c\\u0441\\u044f\", \"\\u043f\\u043e\\u043b\\u0443\\u0447\\u0438\\u0442\\u044c\", \"\\u043f\\u043e\\u043b\\u0443\\u0447\\u0438\\u0442\\u044c\\u0441\\u044f\", \"\\u043f\\u043e\\u043c\\u043d\\u0438\\u0442\\u044c\", \"\\u043f\\u043e\\u043c\\u043e\\u0447\\u044c\", \"\\u043f\\u043e\\u043d\\u0435\\u0434\\u0435\\u043b\\u044c\\u043d\\u0438\\u043a\", \"\\u043f\\u043e\\u043d\\u0438\\u043c\\u0430\\u0442\\u044c\", \"\\u043f\\u043e\\u043d\\u0440\\u0430\\u0432\\u0438\\u0442\\u044c\\u0441\\u044f\", \"\\u043f\\u043e\\u043d\\u044f\\u0442\\u044c\", \"\\u043f\\u043e\\u043f\\u0440\\u043e\\u0431\\u043e\\u0432\\u0430\\u0442\\u044c\", \"\\u043f\\u043e\\u0441\\u043b\\u0435\\u0434\\u043d\\u0438\\u0439\", \"\\u043f\\u043e\\u0441\\u043c\\u043e\\u0442\\u0440\\u0435\\u0442\\u044c\", \"\\u043f\\u043e\\u0442\\u0435\\u0440\\u044f\\u0442\\u044c\", \"\\u043f\\u043e\\u0445\\u043e\\u0434\", \"\\u043f\\u0440\\u0430\\u0432\\u0434\\u0430\", \"\\u043f\\u0440\\u0430\\u0432\\u0438\\u043b\\u044c\\u043d\\u043e\", \"\\u043f\\u0440\\u0438\\u0435\\u0445\\u0430\\u0442\\u044c\", \"\\u043f\\u0440\\u0438\\u0439\\u0442\\u0438\", \"\\u043f\\u0440\\u0438\\u0439\\u0442\\u0438\\u0441\\u044c\", \"\\u043f\\u0440\\u043e\\u0431\\u043b\\u0435\\u043c\\u0430\", \"\\u043f\\u0440\\u043e\\u0439\\u0442\\u0438\", \"\\u043f\\u0440\\u043e\\u0441\\u043d\\u0443\\u0442\\u044c\\u0441\\u044f\", \"\\u043f\\u0440\\u043e\\u0441\\u0442\\u0438\\u0442\\u044c\", \"\\u043f\\u0440\\u044f\\u043c\", \"\\u043f\\u0443\\u0441\\u0442\\u044c\", \"\\u043f\\u044b\\u0442\\u0430\\u0442\\u044c\\u0441\\u044f\", \"\\u0440\\u0430\\u0431\\u043e\\u0442\\u0430\", \"\\u0440\\u0430\\u0431\\u043e\\u0442\\u0430\\u0442\\u044c\", \"\\u0440\\u0430\\u0432\\u043d\\u043e\", \"\\u0440\\u0430\\u043d\\u043d\\u0438\\u0439\", \"\\u0440\\u0430\\u0441\\u0441\\u0442\\u0430\\u0442\\u044c\\u0441\\u044f\", \"\\u0440\\u0435\\u0431\\u044f\\u0442\\u0430\", \"\\u0440\\u0435\\u0431\\u0451\\u043d\\u043e\\u043a\", \"\\u0440\\u0435\\u0448\\u0438\\u0442\\u044c\", \"\\u0440\\u043e\\u0434\\u0438\\u0442\\u0435\\u043b\\u044c\", \"\\u0440\\u043e\\u0434\\u043d\\u044b\\u0439\", \"\\u0440\\u043e\\u0441\\u0441\\u0438\\u044f\", \"\\u0440\\u0443\\u043a\\u0430\", \"\\u0440\\u0443\\u0441\\u0441\\u043a\\u0438\\u0439\", \"\\u0441\\u0430\\u043c\\u044b\\u0439\", \"\\u0441\\u0432\\u043e\\u0439\", \"\\u0441\\u0434\\u0435\\u043b\\u0430\\u0442\\u044c\", \"\\u0441\\u0435\\u0437\\u043e\\u043d\", \"\\u0441\\u0435\\u0439\", \"\\u0441\\u0435\\u0440\\u0434\\u0446\\u0435\", \"\\u0441\\u0435\\u0440\\u0438\\u0430\\u043b\", \"\\u0441\\u0435\\u0441\\u0441\\u0438\\u044f\", \"\\u0441\\u0438\\u0434\\u0435\\u0442\\u044c\", \"\\u0441\\u0438\\u043b\\u0430\", \"\\u0441\\u0438\\u043b\\u044c\\u043d\\u043e\", \"\\u0441\\u043a\\u043e\\u0440\\u0435\\u0435\", \"\\u0441\\u043a\\u043e\\u0440\\u043e\", \"\\u0441\\u043a\\u0443\\u0447\\u0430\\u0442\\u044c\", \"\\u0441\\u043a\\u0443\\u0447\\u043d\\u043e\", \"\\u0441\\u043b\\u0435\\u0437\\u0430\", \"\\u0441\\u043b\\u043e\\u0432\\u043e\", \"\\u0441\\u043c\\u043e\\u0442\\u0440\\u0435\\u0442\\u044c\", \"\\u0441\\u043c\\u043e\\u0447\\u044c\", \"\\u0441\\u043d\\u0435\\u0433\", \"\\u0441\\u043e\\u0431\\u0438\\u0440\\u0430\\u0442\\u044c\\u0441\\u044f\", \"\\u0441\\u043e\\u043d\", \"\\u0441\\u043e\\u0441\\u043a\\u0443\\u0447\\u0438\\u0442\\u044c\\u0441\\u044f\", \"\\u0441\\u043f\\u0430\\u0441\\u0442\\u044c\", \"\\u0441\\u043f\\u0430\\u0442\\u044c\", \"\\u0441\\u043f\\u0440\\u0430\\u0448\\u0438\\u0432\\u0430\\u0442\\u044c\", \"\\u0441\\u0440\\u0430\\u0437\\u0443\", \"\\u0441\\u0442\\u0430\\u0442\\u044c\", \"\\u0441\\u0442\\u043e\\u0438\\u0442\\u044c\", \"\\u0441\\u0442\\u043e\\u043b\\u044c\\u043a\\u043e\", \"\\u0441\\u0442\\u0440\\u0430\\u043d\\u0430\", \"\\u0441\\u0442\\u0440\\u0430\\u0448\\u043d\\u043e\", \"\\u0441\\u0443\\u0431\\u0431\\u043e\\u0442\\u0430\", \"\\u0441\\u0443\\u043a\\u0430\", \"\\u0441\\u0445\\u043e\\u0434\\u0438\\u0442\\u044c\", \"\\u0442\\u0430\\u043a\\u0438\", \"\\u0442\\u0432\\u0438\", \"\\u0442\\u0432\\u0438\\u0442\", \"\\u0442\\u0432\\u0438\\u0442\\u0442\\u0435\\u0440\", \"\\u0442\\u0435\\u043b\\u0435\\u0444\\u043e\\u043d\", \"\\u0442\\u0435\\u043c\\u0430\", \"\\u0442\\u0435\\u043c\\u043f\\u0435\\u0440\\u0430\\u0442\\u0443\\u0440\\u0430\", \"\\u0442\\u043e\\u0447\\u043d\\u043e\", \"\\u0442\\u044f\\u0436\\u0435\\u043b\\u043e\", \"\\u0443\\u0431\\u0438\\u0442\\u044c\", \"\\u0443\\u0432\\u0438\\u0434\\u0435\\u0442\\u044c\", \"\\u0443\\u0435\\u0445\\u0430\\u0442\\u044c\", \"\\u0443\\u0436\\u0430\\u0441\", \"\\u0443\\u0436\\u0430\\u0441\\u043d\\u043e\", \"\\u0443\\u0436\\u0430\\u0441\\u043d\\u044b\\u0439\", \"\\u0443\\u0439\\u0442\\u0438\", \"\\u0443\\u043a\\u0440\\u0430\\u0438\\u043d\\u0430\", \"\\u0443\\u043b\\u0438\\u0446\\u0430\", \"\\u0443\\u043c\\u0435\\u0440\\u0435\\u0442\\u044c\", \"\\u0443\\u043c\\u0438\\u0440\\u0430\\u0442\\u044c\", \"\\u0443\\u043d\\u0438\\u0432\\u0435\\u0440\", \"\\u0443\\u0440\\u043e\\u043a\", \"\\u0443\\u0441\\u043d\\u0443\\u0442\\u044c\", \"\\u0443\\u0441\\u0442\\u0430\\u0442\\u044c\", \"\\u0443\\u0442\\u0440\\u043e\", \"\\u0443\\u0442\\u0440\\u043e\\u043c\", \"\\u0443\\u0447\\u0438\\u0442\\u044c\", \"\\u0443\\u0447\\u0438\\u0442\\u044c\\u0441\\u044f\", \"\\u0443\\u0447\\u0451\\u0431\\u0430\", \"\\u0444\\u0438\\u043b\\u044c\\u043c\", \"\\u0444\\u043e\\u0442\\u043a\\u0430\", \"\\u0444\\u043e\\u0442\\u043e\", \"\\u0445\\u0432\\u0430\\u0442\\u0430\\u0442\\u044c\", \"\\u0445\\u043e\\u0434\\u0438\\u0442\\u044c\", \"\\u0445\\u043e\\u043b\\u043e\\u0434\\u043d\\u043e\", \"\\u0445\\u043e\\u0440\\u043e\\u0448\\u0438\\u0439\", \"\\u0445\\u043e\\u0442\\u0435\\u0442\\u044c\\u0441\\u044f\", \"\\u0445\\u0443\\u0439\", \"\\u0446\\u0435\\u043b\\u044b\\u0439\", \"\\u0447\\u0430\\u0441\", \"\\u0447\\u0435\\u0440\\u0442\\u0430\", \"\\u0447\\u0438\\u0442\\u0430\\u0442\\u044c\", \"\\u0447\\u0443\\u0432\\u0441\\u0442\\u0432\\u043e\", \"\\u0447\\u0443\\u0432\\u0441\\u0442\\u0432\\u043e\\u0432\\u0430\\u0442\\u044c\", \"\\u0448\\u043a\\u043e\\u043b\\u0430\", \"\\u0448\\u043e\\u043a\", \"\\u044d\\u043a\\u0437\\u0430\\u043c\\u0435\\u043d\", \"\\u044f\\u0437\\u044b\\u043a\"]}, \"R\": 30, \"lambda.step\": 0.01, \"plot.opts\": {\"xlab\": \"PC1\", \"ylab\": \"PC2\"}, \"topic.order\": [1, 10, 3, 8, 7, 4, 9, 5, 2, 6]};\n",
              "\n",
              "function LDAvis_load_lib(url, callback){\n",
              "  var s = document.createElement('script');\n",
              "  s.src = url;\n",
              "  s.async = true;\n",
              "  s.onreadystatechange = s.onload = callback;\n",
              "  s.onerror = function(){console.warn(\"failed to load library \" + url);};\n",
              "  document.getElementsByTagName(\"head\")[0].appendChild(s);\n",
              "}\n",
              "\n",
              "if(typeof(LDAvis) !== \"undefined\"){\n",
              "   // already loaded: just create the visualization\n",
              "   !function(LDAvis){\n",
              "       new LDAvis(\"#\" + \"ldavis_el10431401917790741282516886038\", ldavis_el10431401917790741282516886038_data);\n",
              "   }(LDAvis);\n",
              "}else if(typeof define === \"function\" && define.amd){\n",
              "   // require.js is available: use it to load d3/LDAvis\n",
              "   require.config({paths: {d3: \"https://d3js.org/d3.v5\"}});\n",
              "   require([\"d3\"], function(d3){\n",
              "      window.d3 = d3;\n",
              "      LDAvis_load_lib(\"https://cdn.jsdelivr.net/gh/bmabey/pyLDAvis@3.3.1/pyLDAvis/js/ldavis.v3.0.0.js\", function(){\n",
              "        new LDAvis(\"#\" + \"ldavis_el10431401917790741282516886038\", ldavis_el10431401917790741282516886038_data);\n",
              "      });\n",
              "    });\n",
              "}else{\n",
              "    // require.js not available: dynamically load d3 & LDAvis\n",
              "    LDAvis_load_lib(\"https://d3js.org/d3.v5.js\", function(){\n",
              "         LDAvis_load_lib(\"https://cdn.jsdelivr.net/gh/bmabey/pyLDAvis@3.3.1/pyLDAvis/js/ldavis.v3.0.0.js\", function(){\n",
              "                 new LDAvis(\"#\" + \"ldavis_el10431401917790741282516886038\", ldavis_el10431401917790741282516886038_data);\n",
              "            })\n",
              "         });\n",
              "}\n",
              "</script>"
            ]
          },
          "metadata": {},
          "execution_count": 22
        }
      ]
    },
    {
      "cell_type": "markdown",
      "source": [
        "4. проинтерпритировать получившиеся тематики"
      ],
      "metadata": {
        "id": "XxhrNCAgzWLA"
      }
    },
    {
      "cell_type": "markdown",
      "source": [
        "Тема 1: Выбор\n",
        "\n",
        "Тема 2: Работа\n",
        "\n",
        "Тема 3: Школа\n",
        "\n",
        "Тема 4: Усталось \n",
        "\n",
        "Тема 5: Романтика\n",
        "\n",
        "Тема 6: Учеба\n",
        "\n",
        "Тема 7: Болезнь\n",
        "\n",
        "Тема 8: Отдых\n",
        "\n",
        "Тема 9: Страх\n",
        "\n",
        "Тема 10: Ожинание"
      ],
      "metadata": {
        "id": "pcpTO4O-zaSB"
      }
    },
    {
      "cell_type": "code",
      "source": [
        ""
      ],
      "metadata": {
        "id": "wcJ7mGRxzZck"
      },
      "execution_count": null,
      "outputs": []
    }
  ]
}