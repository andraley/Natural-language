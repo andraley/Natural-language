{
  "nbformat": 4,
  "nbformat_minor": 0,
  "metadata": {
    "colab": {
      "name": "hw3.ipynb",
      "provenance": [],
      "collapsed_sections": []
    },
    "kernelspec": {
      "name": "python3",
      "display_name": "Python 3"
    },
    "language_info": {
      "name": "python"
    },
    "widgets": {
      "application/vnd.jupyter.widget-state+json": {
        "b79640b3f73946bf98c87a92ee41a0bd": {
          "model_module": "@jupyter-widgets/controls",
          "model_name": "HBoxModel",
          "model_module_version": "1.5.0",
          "state": {
            "_dom_classes": [],
            "_model_module": "@jupyter-widgets/controls",
            "_model_module_version": "1.5.0",
            "_model_name": "HBoxModel",
            "_view_count": null,
            "_view_module": "@jupyter-widgets/controls",
            "_view_module_version": "1.5.0",
            "_view_name": "HBoxView",
            "box_style": "",
            "children": [
              "IPY_MODEL_779578a6bff14a0b9cd923b1221fd46d",
              "IPY_MODEL_6ab720ab3dbb4164b5bd35824d528836",
              "IPY_MODEL_a5d24b35c54b4065b77d60db9ff3a8d7"
            ],
            "layout": "IPY_MODEL_cca0a7732c204136a00eb46df63627b1"
          }
        },
        "779578a6bff14a0b9cd923b1221fd46d": {
          "model_module": "@jupyter-widgets/controls",
          "model_name": "HTMLModel",
          "model_module_version": "1.5.0",
          "state": {
            "_dom_classes": [],
            "_model_module": "@jupyter-widgets/controls",
            "_model_module_version": "1.5.0",
            "_model_name": "HTMLModel",
            "_view_count": null,
            "_view_module": "@jupyter-widgets/controls",
            "_view_module_version": "1.5.0",
            "_view_name": "HTMLView",
            "description": "",
            "description_tooltip": null,
            "layout": "IPY_MODEL_9be9733c557a442aa25422b59d0c8384",
            "placeholder": "​",
            "style": "IPY_MODEL_6de927ea09f147c98967de3c0db76787",
            "value": "100%"
          }
        },
        "6ab720ab3dbb4164b5bd35824d528836": {
          "model_module": "@jupyter-widgets/controls",
          "model_name": "FloatProgressModel",
          "model_module_version": "1.5.0",
          "state": {
            "_dom_classes": [],
            "_model_module": "@jupyter-widgets/controls",
            "_model_module_version": "1.5.0",
            "_model_name": "FloatProgressModel",
            "_view_count": null,
            "_view_module": "@jupyter-widgets/controls",
            "_view_module_version": "1.5.0",
            "_view_name": "ProgressView",
            "bar_style": "success",
            "description": "",
            "description_tooltip": null,
            "layout": "IPY_MODEL_ca6ca905b9f7417ea376a67d3ad014dd",
            "max": 226834,
            "min": 0,
            "orientation": "horizontal",
            "style": "IPY_MODEL_3ac8f989fcac4d6583bc219f61ab3395",
            "value": 226834
          }
        },
        "a5d24b35c54b4065b77d60db9ff3a8d7": {
          "model_module": "@jupyter-widgets/controls",
          "model_name": "HTMLModel",
          "model_module_version": "1.5.0",
          "state": {
            "_dom_classes": [],
            "_model_module": "@jupyter-widgets/controls",
            "_model_module_version": "1.5.0",
            "_model_name": "HTMLModel",
            "_view_count": null,
            "_view_module": "@jupyter-widgets/controls",
            "_view_module_version": "1.5.0",
            "_view_name": "HTMLView",
            "description": "",
            "description_tooltip": null,
            "layout": "IPY_MODEL_0826fe3998244bc0a4754e5690813856",
            "placeholder": "​",
            "style": "IPY_MODEL_0535f787644f487187c679d1e8b30997",
            "value": " 226834/226834 [11:23&lt;00:00, 337.16it/s]"
          }
        },
        "cca0a7732c204136a00eb46df63627b1": {
          "model_module": "@jupyter-widgets/base",
          "model_name": "LayoutModel",
          "model_module_version": "1.2.0",
          "state": {
            "_model_module": "@jupyter-widgets/base",
            "_model_module_version": "1.2.0",
            "_model_name": "LayoutModel",
            "_view_count": null,
            "_view_module": "@jupyter-widgets/base",
            "_view_module_version": "1.2.0",
            "_view_name": "LayoutView",
            "align_content": null,
            "align_items": null,
            "align_self": null,
            "border": null,
            "bottom": null,
            "display": null,
            "flex": null,
            "flex_flow": null,
            "grid_area": null,
            "grid_auto_columns": null,
            "grid_auto_flow": null,
            "grid_auto_rows": null,
            "grid_column": null,
            "grid_gap": null,
            "grid_row": null,
            "grid_template_areas": null,
            "grid_template_columns": null,
            "grid_template_rows": null,
            "height": null,
            "justify_content": null,
            "justify_items": null,
            "left": null,
            "margin": null,
            "max_height": null,
            "max_width": null,
            "min_height": null,
            "min_width": null,
            "object_fit": null,
            "object_position": null,
            "order": null,
            "overflow": null,
            "overflow_x": null,
            "overflow_y": null,
            "padding": null,
            "right": null,
            "top": null,
            "visibility": null,
            "width": null
          }
        },
        "9be9733c557a442aa25422b59d0c8384": {
          "model_module": "@jupyter-widgets/base",
          "model_name": "LayoutModel",
          "model_module_version": "1.2.0",
          "state": {
            "_model_module": "@jupyter-widgets/base",
            "_model_module_version": "1.2.0",
            "_model_name": "LayoutModel",
            "_view_count": null,
            "_view_module": "@jupyter-widgets/base",
            "_view_module_version": "1.2.0",
            "_view_name": "LayoutView",
            "align_content": null,
            "align_items": null,
            "align_self": null,
            "border": null,
            "bottom": null,
            "display": null,
            "flex": null,
            "flex_flow": null,
            "grid_area": null,
            "grid_auto_columns": null,
            "grid_auto_flow": null,
            "grid_auto_rows": null,
            "grid_column": null,
            "grid_gap": null,
            "grid_row": null,
            "grid_template_areas": null,
            "grid_template_columns": null,
            "grid_template_rows": null,
            "height": null,
            "justify_content": null,
            "justify_items": null,
            "left": null,
            "margin": null,
            "max_height": null,
            "max_width": null,
            "min_height": null,
            "min_width": null,
            "object_fit": null,
            "object_position": null,
            "order": null,
            "overflow": null,
            "overflow_x": null,
            "overflow_y": null,
            "padding": null,
            "right": null,
            "top": null,
            "visibility": null,
            "width": null
          }
        },
        "6de927ea09f147c98967de3c0db76787": {
          "model_module": "@jupyter-widgets/controls",
          "model_name": "DescriptionStyleModel",
          "model_module_version": "1.5.0",
          "state": {
            "_model_module": "@jupyter-widgets/controls",
            "_model_module_version": "1.5.0",
            "_model_name": "DescriptionStyleModel",
            "_view_count": null,
            "_view_module": "@jupyter-widgets/base",
            "_view_module_version": "1.2.0",
            "_view_name": "StyleView",
            "description_width": ""
          }
        },
        "ca6ca905b9f7417ea376a67d3ad014dd": {
          "model_module": "@jupyter-widgets/base",
          "model_name": "LayoutModel",
          "model_module_version": "1.2.0",
          "state": {
            "_model_module": "@jupyter-widgets/base",
            "_model_module_version": "1.2.0",
            "_model_name": "LayoutModel",
            "_view_count": null,
            "_view_module": "@jupyter-widgets/base",
            "_view_module_version": "1.2.0",
            "_view_name": "LayoutView",
            "align_content": null,
            "align_items": null,
            "align_self": null,
            "border": null,
            "bottom": null,
            "display": null,
            "flex": null,
            "flex_flow": null,
            "grid_area": null,
            "grid_auto_columns": null,
            "grid_auto_flow": null,
            "grid_auto_rows": null,
            "grid_column": null,
            "grid_gap": null,
            "grid_row": null,
            "grid_template_areas": null,
            "grid_template_columns": null,
            "grid_template_rows": null,
            "height": null,
            "justify_content": null,
            "justify_items": null,
            "left": null,
            "margin": null,
            "max_height": null,
            "max_width": null,
            "min_height": null,
            "min_width": null,
            "object_fit": null,
            "object_position": null,
            "order": null,
            "overflow": null,
            "overflow_x": null,
            "overflow_y": null,
            "padding": null,
            "right": null,
            "top": null,
            "visibility": null,
            "width": null
          }
        },
        "3ac8f989fcac4d6583bc219f61ab3395": {
          "model_module": "@jupyter-widgets/controls",
          "model_name": "ProgressStyleModel",
          "model_module_version": "1.5.0",
          "state": {
            "_model_module": "@jupyter-widgets/controls",
            "_model_module_version": "1.5.0",
            "_model_name": "ProgressStyleModel",
            "_view_count": null,
            "_view_module": "@jupyter-widgets/base",
            "_view_module_version": "1.2.0",
            "_view_name": "StyleView",
            "bar_color": null,
            "description_width": ""
          }
        },
        "0826fe3998244bc0a4754e5690813856": {
          "model_module": "@jupyter-widgets/base",
          "model_name": "LayoutModel",
          "model_module_version": "1.2.0",
          "state": {
            "_model_module": "@jupyter-widgets/base",
            "_model_module_version": "1.2.0",
            "_model_name": "LayoutModel",
            "_view_count": null,
            "_view_module": "@jupyter-widgets/base",
            "_view_module_version": "1.2.0",
            "_view_name": "LayoutView",
            "align_content": null,
            "align_items": null,
            "align_self": null,
            "border": null,
            "bottom": null,
            "display": null,
            "flex": null,
            "flex_flow": null,
            "grid_area": null,
            "grid_auto_columns": null,
            "grid_auto_flow": null,
            "grid_auto_rows": null,
            "grid_column": null,
            "grid_gap": null,
            "grid_row": null,
            "grid_template_areas": null,
            "grid_template_columns": null,
            "grid_template_rows": null,
            "height": null,
            "justify_content": null,
            "justify_items": null,
            "left": null,
            "margin": null,
            "max_height": null,
            "max_width": null,
            "min_height": null,
            "min_width": null,
            "object_fit": null,
            "object_position": null,
            "order": null,
            "overflow": null,
            "overflow_x": null,
            "overflow_y": null,
            "padding": null,
            "right": null,
            "top": null,
            "visibility": null,
            "width": null
          }
        },
        "0535f787644f487187c679d1e8b30997": {
          "model_module": "@jupyter-widgets/controls",
          "model_name": "DescriptionStyleModel",
          "model_module_version": "1.5.0",
          "state": {
            "_model_module": "@jupyter-widgets/controls",
            "_model_module_version": "1.5.0",
            "_model_name": "DescriptionStyleModel",
            "_view_count": null,
            "_view_module": "@jupyter-widgets/base",
            "_view_module_version": "1.2.0",
            "_view_name": "StyleView",
            "description_width": ""
          }
        }
      }
    }
  },
  "cells": [
    {
      "cell_type": "code",
      "execution_count": 1,
      "metadata": {
        "colab": {
          "base_uri": "https://localhost:8080/"
        },
        "id": "lkCeDj8vmxMt",
        "outputId": "0d6ffc4f-89ad-4404-8558-32105e7b662e"
      },
      "outputs": [
        {
          "output_type": "stream",
          "name": "stdout",
          "text": [
            "Looking in indexes: https://pypi.org/simple, https://us-python.pkg.dev/colab-wheels/public/simple/\n",
            "Requirement already satisfied: pymorphy2 in /usr/local/lib/python3.7/dist-packages (0.9.1)\n",
            "Requirement already satisfied: docopt>=0.6 in /usr/local/lib/python3.7/dist-packages (from pymorphy2) (0.6.2)\n",
            "Requirement already satisfied: dawg-python>=0.7.1 in /usr/local/lib/python3.7/dist-packages (from pymorphy2) (0.7.2)\n",
            "Requirement already satisfied: pymorphy2-dicts-ru<3.0,>=2.4 in /usr/local/lib/python3.7/dist-packages (from pymorphy2) (2.4.417127.4579844)\n"
          ]
        }
      ],
      "source": [
        "!pip install pymorphy2"
      ]
    },
    {
      "cell_type": "code",
      "source": [
        "!pip install stop_words"
      ],
      "metadata": {
        "colab": {
          "base_uri": "https://localhost:8080/"
        },
        "id": "9abEuKxvoGQu",
        "outputId": "2a708608-cc74-4e94-ea77-55fec01bde77"
      },
      "execution_count": 2,
      "outputs": [
        {
          "output_type": "stream",
          "name": "stdout",
          "text": [
            "Looking in indexes: https://pypi.org/simple, https://us-python.pkg.dev/colab-wheels/public/simple/\n",
            "Requirement already satisfied: stop_words in /usr/local/lib/python3.7/dist-packages (2018.7.23)\n"
          ]
        }
      ]
    },
    {
      "cell_type": "code",
      "source": [
        "!pip install annoy"
      ],
      "metadata": {
        "colab": {
          "base_uri": "https://localhost:8080/"
        },
        "id": "wFTKJVVDoRAV",
        "outputId": "01564912-6b1e-48ab-bc97-d74a7cab31ca"
      },
      "execution_count": 3,
      "outputs": [
        {
          "output_type": "stream",
          "name": "stdout",
          "text": [
            "Looking in indexes: https://pypi.org/simple, https://us-python.pkg.dev/colab-wheels/public/simple/\n",
            "Requirement already satisfied: annoy in /usr/local/lib/python3.7/dist-packages (1.17.0)\n"
          ]
        }
      ]
    },
    {
      "cell_type": "markdown",
      "source": [
        "## Урок 3. Embedding word2vec fasttext"
      ],
      "metadata": {
        "id": "HZ91Qp87m7tw"
      }
    },
    {
      "cell_type": "markdown",
      "source": [
        "Задача поиск похожих по эмбеддингам\n",
        "\n",
        "Скачиваем датасет (источник): положительные, отрицательные.\n",
        "\n",
        "или можно через ноутбук\n",
        "\n",
        "!wget https://www.dropbox.com/s/fnpq3z4bcnoktiv/positive.csv\n",
        "!wget https://www.dropbox.com/s/r6u59ljhhjdg6j0/negative.csv\n",
        "\n",
        "что надо сделать\n",
        "1. объединить в одну выборку"
      ],
      "metadata": {
        "id": "Ic2a75Qjm-r5"
      }
    },
    {
      "cell_type": "code",
      "source": [
        "!wget https://www.dropbox.com/s/fnpq3z4bcnoktiv/positive.csv\n",
        "!wget https://www.dropbox.com/s/r6u59ljhhjdg6j0/negative.csv"
      ],
      "metadata": {
        "colab": {
          "base_uri": "https://localhost:8080/"
        },
        "id": "maV4_GtRm-CH",
        "outputId": "374d7fe3-f66a-47ac-827d-819150eee091"
      },
      "execution_count": 4,
      "outputs": [
        {
          "output_type": "stream",
          "name": "stdout",
          "text": [
            "--2022-06-09 14:49:47--  https://www.dropbox.com/s/fnpq3z4bcnoktiv/positive.csv\n",
            "Resolving www.dropbox.com (www.dropbox.com)... 162.125.65.18, 2620:100:6022:18::a27d:4212\n",
            "Connecting to www.dropbox.com (www.dropbox.com)|162.125.65.18|:443... connected.\n",
            "HTTP request sent, awaiting response... 301 Moved Permanently\n",
            "Location: /s/raw/fnpq3z4bcnoktiv/positive.csv [following]\n",
            "--2022-06-09 14:49:47--  https://www.dropbox.com/s/raw/fnpq3z4bcnoktiv/positive.csv\n",
            "Reusing existing connection to www.dropbox.com:443.\n",
            "HTTP request sent, awaiting response... 302 Found\n",
            "Location: https://ucd5d974f479f26199fb17bedc12.dl.dropboxusercontent.com/cd/0/inline/Bm4DFp8Tw6RFDhFYZtCYUcivmvU72Tz1SS4CaNnrHqUrGrykIn0hBe6AyXcv_9hC4r3zlLD6kP2clqBaMg99qjrXEzIjRt1eVTskS6OlvFLK4jqHiXL_2TwJglO4kmJ-OE6aBXDXMipAFXSK_1WjXPpU4VljVppw8a1qMexib6CQRg/file# [following]\n",
            "--2022-06-09 14:49:47--  https://ucd5d974f479f26199fb17bedc12.dl.dropboxusercontent.com/cd/0/inline/Bm4DFp8Tw6RFDhFYZtCYUcivmvU72Tz1SS4CaNnrHqUrGrykIn0hBe6AyXcv_9hC4r3zlLD6kP2clqBaMg99qjrXEzIjRt1eVTskS6OlvFLK4jqHiXL_2TwJglO4kmJ-OE6aBXDXMipAFXSK_1WjXPpU4VljVppw8a1qMexib6CQRg/file\n",
            "Resolving ucd5d974f479f26199fb17bedc12.dl.dropboxusercontent.com (ucd5d974f479f26199fb17bedc12.dl.dropboxusercontent.com)... 162.125.65.15, 2620:100:6027:15::a27d:480f\n",
            "Connecting to ucd5d974f479f26199fb17bedc12.dl.dropboxusercontent.com (ucd5d974f479f26199fb17bedc12.dl.dropboxusercontent.com)|162.125.65.15|:443... connected.\n",
            "HTTP request sent, awaiting response... 200 OK\n",
            "Length: 26233379 (25M) [text/plain]\n",
            "Saving to: ‘positive.csv.3’\n",
            "\n",
            "positive.csv.3      100%[===================>]  25.02M  18.0MB/s    in 1.4s    \n",
            "\n",
            "2022-06-09 14:49:49 (18.0 MB/s) - ‘positive.csv.3’ saved [26233379/26233379]\n",
            "\n",
            "--2022-06-09 14:49:49--  https://www.dropbox.com/s/r6u59ljhhjdg6j0/negative.csv\n",
            "Resolving www.dropbox.com (www.dropbox.com)... 162.125.65.18, 2620:100:6022:18::a27d:4212\n",
            "Connecting to www.dropbox.com (www.dropbox.com)|162.125.65.18|:443... connected.\n",
            "HTTP request sent, awaiting response... 301 Moved Permanently\n",
            "Location: /s/raw/r6u59ljhhjdg6j0/negative.csv [following]\n",
            "--2022-06-09 14:49:50--  https://www.dropbox.com/s/raw/r6u59ljhhjdg6j0/negative.csv\n",
            "Reusing existing connection to www.dropbox.com:443.\n",
            "HTTP request sent, awaiting response... 302 Found\n",
            "Location: https://uce61694823641a445e3c5f2251c.dl.dropboxusercontent.com/cd/0/inline/Bm6BiL31c-HYeCIRrKXsjLvcHVFogqYmWaK0zlUX2vkN4mC1jrugIzRDo80e4V602Y3GeNC5Dqm5WFj-H6MJNQQ_Cb9N13BvB5W1pnn2wEBM0R0lVqfWF6s37OaNMBDVWEJXhdqlQb2uoaKj9vXRwCrXyz7cf3FkOgD0N3m_QO_sFA/file# [following]\n",
            "--2022-06-09 14:49:50--  https://uce61694823641a445e3c5f2251c.dl.dropboxusercontent.com/cd/0/inline/Bm6BiL31c-HYeCIRrKXsjLvcHVFogqYmWaK0zlUX2vkN4mC1jrugIzRDo80e4V602Y3GeNC5Dqm5WFj-H6MJNQQ_Cb9N13BvB5W1pnn2wEBM0R0lVqfWF6s37OaNMBDVWEJXhdqlQb2uoaKj9vXRwCrXyz7cf3FkOgD0N3m_QO_sFA/file\n",
            "Resolving uce61694823641a445e3c5f2251c.dl.dropboxusercontent.com (uce61694823641a445e3c5f2251c.dl.dropboxusercontent.com)... 162.125.65.15, 2620:100:6021:15::a27d:410f\n",
            "Connecting to uce61694823641a445e3c5f2251c.dl.dropboxusercontent.com (uce61694823641a445e3c5f2251c.dl.dropboxusercontent.com)|162.125.65.15|:443... connected.\n",
            "HTTP request sent, awaiting response... 200 OK\n",
            "Length: 24450101 (23M) [text/plain]\n",
            "Saving to: ‘negative.csv.3’\n",
            "\n",
            "negative.csv.3      100%[===================>]  23.32M  23.2MB/s    in 1.0s    \n",
            "\n",
            "2022-06-09 14:49:51 (23.2 MB/s) - ‘negative.csv.3’ saved [24450101/24450101]\n",
            "\n"
          ]
        }
      ]
    },
    {
      "cell_type": "code",
      "source": [
        "import string\n",
        "from pymorphy2 import MorphAnalyzer\n",
        "from stop_words import get_stop_words\n",
        "import annoy\n",
        "from gensim.models import Word2Vec, FastText\n",
        "import pickle\n",
        "import numpy as np\n",
        "from tqdm import tqdm_notebook\n",
        "\n",
        "import pandas as pd\n",
        "from sklearn.metrics import *\n",
        "from sklearn.model_selection import train_test_split"
      ],
      "metadata": {
        "id": "ONmrED42nuBm"
      },
      "execution_count": 5,
      "outputs": []
    },
    {
      "cell_type": "code",
      "source": [
        "positive = pd.read_csv('positive.csv', sep=';', usecols=[3], names=['text'])\n",
        "\n",
        "negative = pd.read_csv('negative.csv', sep=';', usecols=[3], names=['text'])\n",
        "\n",
        "df = positive.append(negative)\n",
        "\n",
        "df = df.reset_index().drop('index', axis=1)"
      ],
      "metadata": {
        "id": "ybxJMH0JnSc1"
      },
      "execution_count": 6,
      "outputs": []
    },
    {
      "cell_type": "code",
      "source": [
        "df.head()"
      ],
      "metadata": {
        "colab": {
          "base_uri": "https://localhost:8080/",
          "height": 206
        },
        "id": "dH7rqEcaonN_",
        "outputId": "0269d85f-d9d6-4a2e-f469-b9a97437c776"
      },
      "execution_count": 7,
      "outputs": [
        {
          "output_type": "execute_result",
          "data": {
            "text/plain": [
              "                                                text\n",
              "0  @first_timee хоть я и школота, но поверь, у на...\n",
              "1  Да, все-таки он немного похож на него. Но мой ...\n",
              "2  RT @KatiaCheh: Ну ты идиотка) я испугалась за ...\n",
              "3  RT @digger2912: \"Кто то в углу сидит и погибае...\n",
              "4  @irina_dyshkant Вот что значит страшилка :D\\nН..."
            ],
            "text/html": [
              "\n",
              "  <div id=\"df-e21d430d-e1f2-4bbf-81dc-4742c1af378f\">\n",
              "    <div class=\"colab-df-container\">\n",
              "      <div>\n",
              "<style scoped>\n",
              "    .dataframe tbody tr th:only-of-type {\n",
              "        vertical-align: middle;\n",
              "    }\n",
              "\n",
              "    .dataframe tbody tr th {\n",
              "        vertical-align: top;\n",
              "    }\n",
              "\n",
              "    .dataframe thead th {\n",
              "        text-align: right;\n",
              "    }\n",
              "</style>\n",
              "<table border=\"1\" class=\"dataframe\">\n",
              "  <thead>\n",
              "    <tr style=\"text-align: right;\">\n",
              "      <th></th>\n",
              "      <th>text</th>\n",
              "    </tr>\n",
              "  </thead>\n",
              "  <tbody>\n",
              "    <tr>\n",
              "      <th>0</th>\n",
              "      <td>@first_timee хоть я и школота, но поверь, у на...</td>\n",
              "    </tr>\n",
              "    <tr>\n",
              "      <th>1</th>\n",
              "      <td>Да, все-таки он немного похож на него. Но мой ...</td>\n",
              "    </tr>\n",
              "    <tr>\n",
              "      <th>2</th>\n",
              "      <td>RT @KatiaCheh: Ну ты идиотка) я испугалась за ...</td>\n",
              "    </tr>\n",
              "    <tr>\n",
              "      <th>3</th>\n",
              "      <td>RT @digger2912: \"Кто то в углу сидит и погибае...</td>\n",
              "    </tr>\n",
              "    <tr>\n",
              "      <th>4</th>\n",
              "      <td>@irina_dyshkant Вот что значит страшилка :D\\nН...</td>\n",
              "    </tr>\n",
              "  </tbody>\n",
              "</table>\n",
              "</div>\n",
              "      <button class=\"colab-df-convert\" onclick=\"convertToInteractive('df-e21d430d-e1f2-4bbf-81dc-4742c1af378f')\"\n",
              "              title=\"Convert this dataframe to an interactive table.\"\n",
              "              style=\"display:none;\">\n",
              "        \n",
              "  <svg xmlns=\"http://www.w3.org/2000/svg\" height=\"24px\"viewBox=\"0 0 24 24\"\n",
              "       width=\"24px\">\n",
              "    <path d=\"M0 0h24v24H0V0z\" fill=\"none\"/>\n",
              "    <path d=\"M18.56 5.44l.94 2.06.94-2.06 2.06-.94-2.06-.94-.94-2.06-.94 2.06-2.06.94zm-11 1L8.5 8.5l.94-2.06 2.06-.94-2.06-.94L8.5 2.5l-.94 2.06-2.06.94zm10 10l.94 2.06.94-2.06 2.06-.94-2.06-.94-.94-2.06-.94 2.06-2.06.94z\"/><path d=\"M17.41 7.96l-1.37-1.37c-.4-.4-.92-.59-1.43-.59-.52 0-1.04.2-1.43.59L10.3 9.45l-7.72 7.72c-.78.78-.78 2.05 0 2.83L4 21.41c.39.39.9.59 1.41.59.51 0 1.02-.2 1.41-.59l7.78-7.78 2.81-2.81c.8-.78.8-2.07 0-2.86zM5.41 20L4 18.59l7.72-7.72 1.47 1.35L5.41 20z\"/>\n",
              "  </svg>\n",
              "      </button>\n",
              "      \n",
              "  <style>\n",
              "    .colab-df-container {\n",
              "      display:flex;\n",
              "      flex-wrap:wrap;\n",
              "      gap: 12px;\n",
              "    }\n",
              "\n",
              "    .colab-df-convert {\n",
              "      background-color: #E8F0FE;\n",
              "      border: none;\n",
              "      border-radius: 50%;\n",
              "      cursor: pointer;\n",
              "      display: none;\n",
              "      fill: #1967D2;\n",
              "      height: 32px;\n",
              "      padding: 0 0 0 0;\n",
              "      width: 32px;\n",
              "    }\n",
              "\n",
              "    .colab-df-convert:hover {\n",
              "      background-color: #E2EBFA;\n",
              "      box-shadow: 0px 1px 2px rgba(60, 64, 67, 0.3), 0px 1px 3px 1px rgba(60, 64, 67, 0.15);\n",
              "      fill: #174EA6;\n",
              "    }\n",
              "\n",
              "    [theme=dark] .colab-df-convert {\n",
              "      background-color: #3B4455;\n",
              "      fill: #D2E3FC;\n",
              "    }\n",
              "\n",
              "    [theme=dark] .colab-df-convert:hover {\n",
              "      background-color: #434B5C;\n",
              "      box-shadow: 0px 1px 3px 1px rgba(0, 0, 0, 0.15);\n",
              "      filter: drop-shadow(0px 1px 2px rgba(0, 0, 0, 0.3));\n",
              "      fill: #FFFFFF;\n",
              "    }\n",
              "  </style>\n",
              "\n",
              "      <script>\n",
              "        const buttonEl =\n",
              "          document.querySelector('#df-e21d430d-e1f2-4bbf-81dc-4742c1af378f button.colab-df-convert');\n",
              "        buttonEl.style.display =\n",
              "          google.colab.kernel.accessAllowed ? 'block' : 'none';\n",
              "\n",
              "        async function convertToInteractive(key) {\n",
              "          const element = document.querySelector('#df-e21d430d-e1f2-4bbf-81dc-4742c1af378f');\n",
              "          const dataTable =\n",
              "            await google.colab.kernel.invokeFunction('convertToInteractive',\n",
              "                                                     [key], {});\n",
              "          if (!dataTable) return;\n",
              "\n",
              "          const docLinkHtml = 'Like what you see? Visit the ' +\n",
              "            '<a target=\"_blank\" href=https://colab.research.google.com/notebooks/data_table.ipynb>data table notebook</a>'\n",
              "            + ' to learn more about interactive tables.';\n",
              "          element.innerHTML = '';\n",
              "          dataTable['output_type'] = 'display_data';\n",
              "          await google.colab.output.renderOutput(dataTable, element);\n",
              "          const docLink = document.createElement('div');\n",
              "          docLink.innerHTML = docLinkHtml;\n",
              "          element.appendChild(docLink);\n",
              "        }\n",
              "      </script>\n",
              "    </div>\n",
              "  </div>\n",
              "  "
            ]
          },
          "metadata": {},
          "execution_count": 7
        }
      ]
    },
    {
      "cell_type": "markdown",
      "source": [
        "2. на основе word2vec/fasttext/glove/слоя Embedding реализовать метод поиска ближайших твитов\n",
        "(на вход метода должен приходить запрос (какой-то твит, вопрос) и количество вариантов вывода к примеру 5-ть, ваш метод должен возвращать 5-ть ближайших твитов к этому запросу)"
      ],
      "metadata": {
        "id": "pizHvpd7oynl"
      }
    },
    {
      "cell_type": "code",
      "source": [
        "def preprocess_txt(line):\n",
        "    spls = \"\".join(i for i in line.strip() if i not in exclude).split()\n",
        "    spls = [morpher.parse(i.lower())[0].normal_form for i in spls]\n",
        "    spls = [i for i in spls if i not in sw and i != \"\"]\n",
        "    return spls"
      ],
      "metadata": {
        "id": "RV31dnzIoxLm"
      },
      "execution_count": 8,
      "outputs": []
    },
    {
      "cell_type": "code",
      "source": [
        "sentences = []\n",
        "\n",
        "morpher = MorphAnalyzer()\n",
        "sw = set(get_stop_words(\"ru\"))\n",
        "exclude = set(string.punctuation)\n",
        "c = 0\n",
        "\n",
        "\n",
        "for line in df['text']:\n",
        "    spls = preprocess_txt(line)\n",
        "    sentences.append(spls)"
      ],
      "metadata": {
        "id": "6nRuYLjJt9Jk"
      },
      "execution_count": 9,
      "outputs": []
    },
    {
      "cell_type": "code",
      "source": [
        "sentences = [i for i in sentences if len(i) > 2]"
      ],
      "metadata": {
        "id": "yT3v7Cgtu-_j"
      },
      "execution_count": 10,
      "outputs": []
    },
    {
      "cell_type": "code",
      "source": [
        "modelW2V = Word2Vec(sentences=sentences, size=300, window=5, min_count=1)"
      ],
      "metadata": {
        "id": "PHYO8o1evaSG"
      },
      "execution_count": 11,
      "outputs": []
    },
    {
      "cell_type": "code",
      "source": [
        "modelFT = FastText(sentences=sentences, size=300, min_count=1, window=5, workers=8)"
      ],
      "metadata": {
        "id": "IC0Nn-XyveHf"
      },
      "execution_count": 12,
      "outputs": []
    },
    {
      "cell_type": "code",
      "source": [
        "w2v_index = annoy.AnnoyIndex(300 ,'angular')\n",
        "ft_index = annoy.AnnoyIndex(300 ,'angular')\n",
        "\n",
        "index_map = {}\n",
        "counter = 0\n",
        "\n",
        "for line in tqdm_notebook(df['text']):\n",
        "    n_w2v = 0\n",
        "    n_ft = 0\n",
        "    spls = line.split(\"\\t\")\n",
        "    #index_map[counter] = spls[1]\n",
        "    question = preprocess_txt(spls[0])\n",
        "    \n",
        "    vector_w2v = np.zeros(300)\n",
        "    vector_ft = np.zeros(300)\n",
        "    for word in question:\n",
        "        if word in modelW2V.wv:\n",
        "            vector_w2v += modelW2V.wv[word]\n",
        "            n_w2v += 1\n",
        "        if word in modelFT.wv:\n",
        "            vector_ft += modelFT.wv[word]\n",
        "            n_ft += 1\n",
        "    if n_w2v > 0:\n",
        "        vector_w2v = vector_w2v / n_w2v\n",
        "    if n_ft > 0:\n",
        "        vector_ft = vector_ft / n_ft\n",
        "    w2v_index.add_item(counter, vector_w2v)\n",
        "    ft_index.add_item(counter, vector_ft)\n",
        "\n",
        "    counter += 1\n",
        "\n",
        "w2v_index.build(10)\n",
        "ft_index.build(10)"
      ],
      "metadata": {
        "colab": {
          "base_uri": "https://localhost:8080/",
          "height": 121,
          "referenced_widgets": [
            "b79640b3f73946bf98c87a92ee41a0bd",
            "779578a6bff14a0b9cd923b1221fd46d",
            "6ab720ab3dbb4164b5bd35824d528836",
            "a5d24b35c54b4065b77d60db9ff3a8d7",
            "cca0a7732c204136a00eb46df63627b1",
            "9be9733c557a442aa25422b59d0c8384",
            "6de927ea09f147c98967de3c0db76787",
            "ca6ca905b9f7417ea376a67d3ad014dd",
            "3ac8f989fcac4d6583bc219f61ab3395",
            "0826fe3998244bc0a4754e5690813856",
            "0535f787644f487187c679d1e8b30997"
          ]
        },
        "id": "5afXQzYtvpU4",
        "outputId": "de7f436a-8060-458a-d60e-9d5c23565ec0"
      },
      "execution_count": 13,
      "outputs": [
        {
          "output_type": "stream",
          "name": "stderr",
          "text": [
            "/usr/local/lib/python3.7/dist-packages/ipykernel_launcher.py:7: TqdmDeprecationWarning: This function will be removed in tqdm==5.0.0\n",
            "Please use `tqdm.notebook.tqdm` instead of `tqdm.tqdm_notebook`\n",
            "  import sys\n"
          ]
        },
        {
          "output_type": "display_data",
          "data": {
            "text/plain": [
              "  0%|          | 0/226834 [00:00<?, ?it/s]"
            ],
            "application/vnd.jupyter.widget-view+json": {
              "version_major": 2,
              "version_minor": 0,
              "model_id": "b79640b3f73946bf98c87a92ee41a0bd"
            }
          },
          "metadata": {}
        },
        {
          "output_type": "execute_result",
          "data": {
            "text/plain": [
              "True"
            ]
          },
          "metadata": {},
          "execution_count": 13
        }
      ]
    },
    {
      "cell_type": "code",
      "source": [
        "def get_response(question, index, model):\n",
        "    question = preprocess_txt(question)\n",
        "    vector = np.zeros(300)\n",
        "    norm = 0\n",
        "    for word in question:\n",
        "        if word in model.wv:\n",
        "            vector += model.wv[word]\n",
        "            norm += 1\n",
        "    if norm > 0:\n",
        "        vector = vector / norm\n",
        "    answers = index.get_nns_by_vector(vector, 5 )\n",
        "    return answers"
      ],
      "metadata": {
        "id": "qTPCqEIJ3Anr"
      },
      "execution_count": 21,
      "outputs": []
    },
    {
      "cell_type": "code",
      "source": [
        "df['text'][0]"
      ],
      "metadata": {
        "colab": {
          "base_uri": "https://localhost:8080/",
          "height": 35
        },
        "id": "oiYB5lZf4qDh",
        "outputId": "3a172df6-0ddb-40a1-9150-65601201984b"
      },
      "execution_count": 22,
      "outputs": [
        {
          "output_type": "execute_result",
          "data": {
            "text/plain": [
              "'@first_timee хоть я и школота, но поверь, у нас то же самое :D общество профилирующий предмет типа)'"
            ],
            "application/vnd.google.colaboratory.intrinsic+json": {
              "type": "string"
            }
          },
          "metadata": {},
          "execution_count": 22
        }
      ]
    },
    {
      "cell_type": "code",
      "source": [
        "get_response(df['text'][0], w2v_index, modelW2V)"
      ],
      "metadata": {
        "colab": {
          "base_uri": "https://localhost:8080/"
        },
        "id": "NSxZAC7B5m3B",
        "outputId": "3b65207e-4b2d-4676-c2dd-20e0feb2b4a8"
      },
      "execution_count": 27,
      "outputs": [
        {
          "output_type": "execute_result",
          "data": {
            "text/plain": [
              "[0, 87109, 161595, 37404, 7704]"
            ]
          },
          "metadata": {},
          "execution_count": 27
        }
      ]
    },
    {
      "cell_type": "code",
      "source": [
        "df.loc[get_response(df['text'][0], w2v_index, modelW2V), 'text']"
      ],
      "metadata": {
        "colab": {
          "base_uri": "https://localhost:8080/"
        },
        "id": "RPmWLGSHC1QF",
        "outputId": "284a5a30-7301-4023-ecdb-ca863f929a02"
      },
      "execution_count": 26,
      "outputs": [
        {
          "output_type": "execute_result",
          "data": {
            "text/plain": [
              "0         @first_timee хоть я и школота, но поверь, у на...\n",
              "87109     @mad_bad_bitch чё там то самое оно? ты их случ...\n",
              "161595     @ushikovaa @victoria75132 о_О тот самый сок? :-D\n",
              "37404     всего самая первая фраза, которую мы узнали на...\n",
              "7704      только Алла могла за время игры выдать фразу \"...\n",
              "Name: text, dtype: object"
            ]
          },
          "metadata": {},
          "execution_count": 26
        }
      ]
    },
    {
      "cell_type": "code",
      "source": [
        "df.loc[get_response(df['text'][0], w2v_index, modelFT), 'text']"
      ],
      "metadata": {
        "colab": {
          "base_uri": "https://localhost:8080/"
        },
        "id": "BEy2JXu8De2V",
        "outputId": "a27bbcd0-2678-4b36-d11d-9ea950c9aeef"
      },
      "execution_count": 29,
      "outputs": [
        {
          "output_type": "execute_result",
          "data": {
            "text/plain": [
              "174222        RT @motherfuckersgo: @11DoctorAreCool нубля((\n",
              "66883     RT @Katrina0298: @Antil_opa @Wahnsinn_Ww @oksa...\n",
              "115448    RT @linapanova0: @VMeysters ну итж издивательс...\n",
              "158803    RT @raduznazebra: @orange_tie тысячник зажравш...\n",
              "176879       RT @H_A_P_P_I_L_Y: @XA33_HA_XA33E почиму?(((((\n",
              "Name: text, dtype: object"
            ]
          },
          "metadata": {},
          "execution_count": 29
        }
      ]
    }
  ]
}