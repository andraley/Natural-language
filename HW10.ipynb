{
  "nbformat": 4,
  "nbformat_minor": 0,
  "metadata": {
    "colab": {
      "name": "HW10.ipynb",
      "provenance": [],
      "collapsed_sections": []
    },
    "kernelspec": {
      "name": "python3",
      "display_name": "Python 3"
    },
    "language_info": {
      "name": "python"
    },
    "accelerator": "GPU",
    "gpuClass": "standard"
  },
  "cells": [
    {
      "cell_type": "code",
      "execution_count": null,
      "metadata": {
        "id": "MRl0z9TBjIfU"
      },
      "outputs": [],
      "source": [
        ""
      ]
    },
    {
      "cell_type": "markdown",
      "source": [
        "#### Урок 10. Машинный перевод. Модель seq2seq и механизм внимания"
      ],
      "metadata": {
        "id": "Vw8eA5PIjQgJ"
      }
    },
    {
      "cell_type": "markdown",
      "source": [
        "Разобраться с моделькой перевода как она устроена\n",
        "запустить для перевода с русского на английский (при желании можно взять другие пары языков) два варианта с вниманием и без внимания\n",
        "оценить качество насколько корректно переводит (для теста отобрать примеры с увеличением длины текста) (так как оценка визуальная достаточно 20-ти примеров в тестовой выборке)"
      ],
      "metadata": {
        "id": "xZn69w33jKx1"
      }
    },
    {
      "cell_type": "code",
      "source": [
        "import tensorflow as tf\n",
        "\n",
        "import matplotlib.pyplot as plt\n",
        "import matplotlib.ticker as ticker\n",
        "from sklearn.model_selection import train_test_split\n",
        "\n",
        "import pathlib\n",
        "import unicodedata\n",
        "import re\n",
        "import numpy as np\n",
        "import os\n",
        "import io\n",
        "import time"
      ],
      "metadata": {
        "id": "5gaoGvi4jPlC"
      },
      "execution_count": 1,
      "outputs": []
    },
    {
      "cell_type": "code",
      "source": [
        "path_to_zip = tf.keras.utils.get_file(\n",
        "    'spa-eng.zip', origin='http://storage.googleapis.com/download.tensorflow.org/data/spa-eng.zip',\n",
        "    extract=True)\n",
        "\n",
        "path_to_file = pathlib.Path(path_to_zip).parent/'spa-eng/spa.txt'"
      ],
      "metadata": {
        "colab": {
          "base_uri": "https://localhost:8080/"
        },
        "id": "frUMTtaDuVb7",
        "outputId": "4ce2566b-f980-4c15-cc94-3a4e716f1c8b"
      },
      "execution_count": 2,
      "outputs": [
        {
          "output_type": "stream",
          "name": "stdout",
          "text": [
            "Downloading data from http://storage.googleapis.com/download.tensorflow.org/data/spa-eng.zip\n",
            "2646016/2638744 [==============================] - 0s 0us/step\n",
            "2654208/2638744 [==============================] - 0s 0us/step\n"
          ]
        }
      ]
    },
    {
      "cell_type": "markdown",
      "source": [
        "Создадим модель перевода без attantion"
      ],
      "metadata": {
        "id": "MGIujwGzxce4"
      }
    },
    {
      "cell_type": "code",
      "source": [
        "def preprocess_sentence(w):\n",
        "  w = w.lower().strip()\n",
        "\n",
        "  w = re.sub(r\"([?.!,])\", r\" \\1 \", w)\n",
        "  w = re.sub(r'[\" \"]+', \" \", w)\n",
        "\n",
        "  w = re.sub(r\"[^a-zA-Zа-яА-Я?.!,']+\", \" \", w)\n",
        "\n",
        "  w = w.strip()\n",
        "\n",
        "  w = '<start> ' + w + ' <end>'\n",
        "  return w"
      ],
      "metadata": {
        "id": "J97t-yUEvbSb"
      },
      "execution_count": 3,
      "outputs": []
    },
    {
      "cell_type": "code",
      "source": [
        "def create_dataset(path, num_examples):\n",
        "  lines = io.open(path, encoding='UTF-8').read().strip().split('\\n')\n",
        "\n",
        "  word_pairs = [[preprocess_sentence(w) for w in l.split('\\t')[:2]]  for l in lines[:num_examples]]\n",
        "\n",
        "  return zip(*word_pairs)"
      ],
      "metadata": {
        "id": "mgQTN3crvnIh"
      },
      "execution_count": 4,
      "outputs": []
    },
    {
      "cell_type": "code",
      "source": [
        "en, spa = create_dataset(path_to_file, None)\n",
        "print(en[4])\n",
        "print(spa[4])"
      ],
      "metadata": {
        "colab": {
          "base_uri": "https://localhost:8080/"
        },
        "id": "9dfNbT_Kv2dz",
        "outputId": "1171a69e-4ca1-4fa9-8f39-5c5489a0c2b0"
      },
      "execution_count": 5,
      "outputs": [
        {
          "output_type": "stream",
          "name": "stdout",
          "text": [
            "<start> hi . <end>\n",
            "<start> hola . <end>\n"
          ]
        }
      ]
    },
    {
      "cell_type": "code",
      "source": [
        "def tokenize(lang):\n",
        "  lang_tokenizer = tf.keras.preprocessing.text.Tokenizer(\n",
        "      filters='')\n",
        "  lang_tokenizer.fit_on_texts(lang)\n",
        "\n",
        "  tensor = lang_tokenizer.texts_to_sequences(lang)\n",
        "\n",
        "  tensor = tf.keras.preprocessing.sequence.pad_sequences(tensor,\n",
        "                                                         padding='post')\n",
        "\n",
        "  return tensor, lang_tokenizer"
      ],
      "metadata": {
        "id": "iP6fUfLvwXWt"
      },
      "execution_count": 6,
      "outputs": []
    },
    {
      "cell_type": "code",
      "source": [
        "def load_dataset(path, num_examples=None):\n",
        "\n",
        "  targ_lang, inp_lang = create_dataset(path, num_examples)\n",
        "\n",
        "  input_tensor, inp_lang_tokenizer = tokenize(inp_lang)\n",
        "  target_tensor, targ_lang_tokenizer = tokenize(targ_lang)\n",
        "\n",
        "  return input_tensor, target_tensor, inp_lang_tokenizer, targ_lang_tokenizer"
      ],
      "metadata": {
        "id": "Hc6WGCIawbJf"
      },
      "execution_count": 7,
      "outputs": []
    },
    {
      "cell_type": "code",
      "source": [
        "num_examples = 100000\n",
        "input_tensor, target_tensor, inp_lang, targ_lang = load_dataset(path_to_file, num_examples)\n",
        "\n",
        "max_length_targ, max_length_inp = target_tensor.shape[1], input_tensor.shape[1]"
      ],
      "metadata": {
        "id": "jsAQzteSwkif"
      },
      "execution_count": 8,
      "outputs": []
    },
    {
      "cell_type": "code",
      "source": [
        "input_tensor_train, input_tensor_val, target_tensor_train, target_tensor_val = train_test_split(input_tensor, target_tensor, test_size=0.2)"
      ],
      "metadata": {
        "id": "6v-qdf_7wofC"
      },
      "execution_count": 9,
      "outputs": []
    },
    {
      "cell_type": "code",
      "source": [
        "def convert(lang, tensor):\n",
        "  for t in tensor:\n",
        "    if t!=0:\n",
        "      print (\"%d ----> %s\" % (t, lang.index_word[t]))"
      ],
      "metadata": {
        "id": "1C1YZm9Zwqpu"
      },
      "execution_count": 10,
      "outputs": []
    },
    {
      "cell_type": "code",
      "source": [
        "print (\"Input Language; index to word mapping\")\n",
        "convert(inp_lang, input_tensor_train[0])\n",
        "print ()\n",
        "print (\"Target Language; index to word mapping\")\n",
        "convert(targ_lang, target_tensor_train[0])"
      ],
      "metadata": {
        "colab": {
          "base_uri": "https://localhost:8080/"
        },
        "id": "1HSVT6rcwyXD",
        "outputId": "c8c8bb7c-bcac-4667-b3c6-2d8178ae34f1"
      },
      "execution_count": 11,
      "outputs": [
        {
          "output_type": "stream",
          "name": "stdout",
          "text": [
            "Input Language; index to word mapping\n",
            "1 ----> <start>\n",
            "100 ----> tienes\n",
            "586 ----> novia\n",
            "151 ----> all\n",
            "14 ----> en\n",
            "43 ----> tu\n",
            "3786 ----> rancho\n",
            "8 ----> ?\n",
            "2 ----> <end>\n",
            "\n",
            "Target Language; index to word mapping\n",
            "1 ----> <start>\n",
            "14 ----> do\n",
            "7 ----> you\n",
            "21 ----> have\n",
            "10 ----> a\n",
            "640 ----> girlfriend\n",
            "115 ----> back\n",
            "104 ----> home\n",
            "9 ----> ?\n",
            "2 ----> <end>\n"
          ]
        }
      ]
    },
    {
      "cell_type": "code",
      "source": [
        "BUFFER_SIZE = len(input_tensor_train)\n",
        "BATCH_SIZE = 64\n",
        "steps_per_epoch = len(input_tensor_train)//BATCH_SIZE\n",
        "embedding_dim = 300\n",
        "units = 1024\n",
        "vocab_inp_size = len(inp_lang.word_index)+1\n",
        "vocab_tar_size = len(targ_lang.word_index)+1\n",
        "\n",
        "dataset = tf.data.Dataset.from_tensor_slices((input_tensor_train, target_tensor_train)).shuffle(BUFFER_SIZE)\n",
        "dataset = dataset.batch(BATCH_SIZE, drop_remainder=True)"
      ],
      "metadata": {
        "id": "rmcnH7t9xOf4"
      },
      "execution_count": 12,
      "outputs": []
    },
    {
      "cell_type": "code",
      "source": [
        "example_input_batch, example_target_batch = next(iter(dataset))\n",
        "example_input_batch.shape, example_target_batch.shape"
      ],
      "metadata": {
        "colab": {
          "base_uri": "https://localhost:8080/"
        },
        "id": "SLXvHFcGxSyV",
        "outputId": "993440a0-5a42-4f61-a1e2-30d19fb70d72"
      },
      "execution_count": 13,
      "outputs": [
        {
          "output_type": "execute_result",
          "data": {
            "text/plain": [
              "(TensorShape([64, 20]), TensorShape([64, 16]))"
            ]
          },
          "metadata": {},
          "execution_count": 13
        }
      ]
    },
    {
      "cell_type": "code",
      "source": [
        "class Encoder(tf.keras.Model):\n",
        "  def __init__(self, vocab_size, embedding_dim, enc_units, batch_sz):\n",
        "    super(Encoder, self).__init__()\n",
        "    self.batch_sz = batch_sz\n",
        "    self.enc_units = enc_units\n",
        "    self.embedding = tf.keras.layers.Embedding(vocab_size, embedding_dim)\n",
        "    self.gru = tf.keras.layers.GRU(self.enc_units,\n",
        "                                   return_sequences=False,\n",
        "                                   return_state=True,\n",
        "                                   recurrent_initializer='glorot_uniform')\n",
        "    \n",
        "\n",
        "  def call(self, x, hidden):\n",
        "    x = self.embedding(x)\n",
        "    output, state = self.gru(x, initial_state = hidden)\n",
        "    return state\n",
        "\n",
        "  def initialize_hidden_state(self):\n",
        "    return tf.zeros((self.batch_sz, self.enc_units))"
      ],
      "metadata": {
        "id": "O7mq_fYlxwLN"
      },
      "execution_count": 14,
      "outputs": []
    },
    {
      "cell_type": "code",
      "source": [
        "encoder = Encoder(vocab_inp_size, embedding_dim, units, BATCH_SIZE)\n",
        "\n",
        "sample_hidden = encoder.initialize_hidden_state()\n",
        "sample_hidden = encoder(example_input_batch, sample_hidden)\n",
        "# print ('Encoder output shape: (batch size, sequence length, units) {}'.format(sample_output.shape))\n",
        "print ('Encoder Hidden state shape: (batch size, units) {}'.format(sample_hidden.shape))"
      ],
      "metadata": {
        "colab": {
          "base_uri": "https://localhost:8080/"
        },
        "id": "3KVu3Rlax9R5",
        "outputId": "17e824bb-2c63-4271-aba2-931c03b513ec"
      },
      "execution_count": 15,
      "outputs": [
        {
          "output_type": "stream",
          "name": "stdout",
          "text": [
            "Encoder Hidden state shape: (batch size, units) (64, 1024)\n"
          ]
        }
      ]
    },
    {
      "cell_type": "code",
      "source": [
        "class Decoder(tf.keras.Model):\n",
        "  def __init__(self, vocab_size, embedding_dim, dec_units, batch_sz):\n",
        "    super(Decoder, self).__init__()\n",
        "    self.batch_sz = batch_sz\n",
        "    self.dec_units = dec_units\n",
        "    self.embedding = tf.keras.layers.Embedding(vocab_size, embedding_dim)\n",
        "    self.gru = tf.keras.layers.GRU(self.dec_units,\n",
        "                                   return_sequences=True,\n",
        "                                   return_state=True,\n",
        "                                   recurrent_initializer='glorot_uniform')\n",
        "    self.fc = tf.keras.layers.Dense(vocab_size)\n",
        "\n",
        "  def call(self, x, hidden):\n",
        "\n",
        "    x = self.embedding(x)\n",
        "\n",
        "    output, state = self.gru(x, initial_state=hidden)\n",
        "    output = tf.reshape(output, (-1, output.shape[2]))\n",
        "\n",
        "    x = self.fc(output)\n",
        "\n",
        "    return x, state"
      ],
      "metadata": {
        "id": "BIfIHgLUyTOg"
      },
      "execution_count": 16,
      "outputs": []
    },
    {
      "cell_type": "code",
      "source": [
        "decoder = Decoder(vocab_tar_size, embedding_dim, units, BATCH_SIZE)\n",
        "\n",
        "decoder_sample_x, decoder_sample_h = decoder(tf.random.uniform((BATCH_SIZE, 1)),\n",
        "                                      sample_hidden)"
      ],
      "metadata": {
        "id": "c_mhsxBjygic"
      },
      "execution_count": 17,
      "outputs": []
    },
    {
      "cell_type": "code",
      "source": [
        "optimizer = tf.keras.optimizers.Adam()\n",
        "\n",
        "loss_object = tf.keras.losses.SparseCategoricalCrossentropy(\n",
        "    from_logits=True, reduction='none')\n",
        "\n",
        "def loss_function(real, pred):\n",
        "  mask = tf.math.logical_not(tf.math.equal(real, 0))\n",
        "  loss_ = loss_object(real, pred)\n",
        "\n",
        "  mask = tf.cast(mask, dtype=loss_.dtype)\n",
        "  loss_ *= mask\n",
        "\n",
        "  return tf.reduce_mean(loss_)"
      ],
      "metadata": {
        "id": "d0l2e00vzCTz"
      },
      "execution_count": 18,
      "outputs": []
    },
    {
      "cell_type": "code",
      "source": [
        "checkpoint_dir = './training_nmt_checkpoints'\n",
        "\n",
        "checkpoint_prefix = os.path.join(checkpoint_dir, \"ckpt\")\n",
        "\n",
        "checkpoint = tf.train.Checkpoint(optimizer=optimizer,\n",
        "                                 encoder=encoder,\n",
        "                                 decoder=decoder)"
      ],
      "metadata": {
        "id": "IkRnXfA4zFu_"
      },
      "execution_count": 19,
      "outputs": []
    },
    {
      "cell_type": "code",
      "source": [
        "@tf.function\n",
        "def train_step(inp, targ, enc_hidden):\n",
        "  loss = 0\n",
        "\n",
        "  with tf.GradientTape() as tape:\n",
        "    enc_hidden = encoder(inp, enc_hidden)\n",
        "\n",
        "    dec_hidden = enc_hidden\n",
        "\n",
        "    dec_input = tf.expand_dims([targ_lang.word_index['<start>']] * BATCH_SIZE, 1)\n",
        "\n",
        "    for t in range(1, targ.shape[1]):\n",
        "\n",
        "      predictions, dec_hidden = decoder(dec_input, dec_hidden)\n",
        "\n",
        "      loss += loss_function(targ[:, t], predictions)\n",
        "\n",
        "      dec_input = tf.expand_dims(targ[:, t], 1)\n",
        "\n",
        "  batch_loss = (loss / int(targ.shape[1]))\n",
        "\n",
        "  variables = encoder.trainable_variables + decoder.trainable_variables\n",
        "\n",
        "  gradients = tape.gradient(loss, variables)\n",
        "\n",
        "  optimizer.apply_gradients(zip(gradients, variables))\n",
        "\n",
        "  return batch_loss"
      ],
      "metadata": {
        "id": "0eMK6v-YzItC"
      },
      "execution_count": 20,
      "outputs": []
    },
    {
      "cell_type": "code",
      "source": [
        "EPOCHS = 20\n",
        "\n",
        "for epoch in range(EPOCHS):\n",
        "  start = time.time()\n",
        "\n",
        "  enc_hidden = encoder.initialize_hidden_state()\n",
        "  total_loss = 0\n",
        "\n",
        "  for (batch, (inp, targ)) in enumerate(dataset.take(steps_per_epoch)):\n",
        "    batch_loss = train_step(inp, targ, enc_hidden)\n",
        "    total_loss += batch_loss\n",
        "\n",
        "    if batch % 100 == 0:\n",
        "      print('Epoch {} Batch {} Loss {:.4f}'.format(epoch + 1,\n",
        "                                                   batch,\n",
        "                                                   batch_loss.numpy()))\n",
        "  # saving (checkpoint) the model every 2 epochs\n",
        "  if (epoch + 1) % 2 == 0:\n",
        "    checkpoint.save(file_prefix = checkpoint_prefix)\n",
        "\n",
        "  print('Epoch {} Loss {:.4f}'.format(epoch + 1,\n",
        "                                      total_loss / steps_per_epoch))\n",
        "  print('Time taken for 1 epoch {} sec\\n'.format(time.time() - start))"
      ],
      "metadata": {
        "colab": {
          "base_uri": "https://localhost:8080/"
        },
        "id": "FVtskNHKzUMj",
        "outputId": "a2a337a9-7fc3-4d66-b20e-0bd690794586"
      },
      "execution_count": 21,
      "outputs": [
        {
          "output_type": "stream",
          "name": "stdout",
          "text": [
            "Epoch 1 Batch 0 Loss 4.3101\n",
            "Epoch 1 Batch 100 Loss 2.2184\n",
            "Epoch 1 Batch 200 Loss 1.9553\n",
            "Epoch 1 Batch 300 Loss 1.8184\n",
            "Epoch 1 Batch 400 Loss 1.8579\n",
            "Epoch 1 Batch 500 Loss 1.6838\n",
            "Epoch 1 Batch 600 Loss 1.4896\n",
            "Epoch 1 Batch 700 Loss 1.4887\n",
            "Epoch 1 Batch 800 Loss 1.6048\n",
            "Epoch 1 Batch 900 Loss 1.4803\n",
            "Epoch 1 Batch 1000 Loss 1.3819\n",
            "Epoch 1 Batch 1100 Loss 1.3711\n",
            "Epoch 1 Batch 1200 Loss 1.2806\n",
            "Epoch 1 Loss 1.6648\n",
            "Time taken for 1 epoch 104.51911783218384 sec\n",
            "\n",
            "Epoch 2 Batch 0 Loss 1.1318\n",
            "Epoch 2 Batch 100 Loss 1.1108\n",
            "Epoch 2 Batch 200 Loss 1.0092\n",
            "Epoch 2 Batch 300 Loss 1.0148\n",
            "Epoch 2 Batch 400 Loss 0.9985\n",
            "Epoch 2 Batch 500 Loss 0.9759\n",
            "Epoch 2 Batch 600 Loss 0.7887\n",
            "Epoch 2 Batch 700 Loss 0.8487\n",
            "Epoch 2 Batch 800 Loss 0.7208\n",
            "Epoch 2 Batch 900 Loss 0.8514\n",
            "Epoch 2 Batch 1000 Loss 0.8922\n",
            "Epoch 2 Batch 1100 Loss 0.7893\n",
            "Epoch 2 Batch 1200 Loss 0.8755\n",
            "Epoch 2 Loss 0.9221\n",
            "Time taken for 1 epoch 90.77771830558777 sec\n",
            "\n",
            "Epoch 3 Batch 0 Loss 0.5061\n",
            "Epoch 3 Batch 100 Loss 0.5090\n",
            "Epoch 3 Batch 200 Loss 0.5122\n",
            "Epoch 3 Batch 300 Loss 0.5406\n",
            "Epoch 3 Batch 400 Loss 0.5973\n",
            "Epoch 3 Batch 500 Loss 0.5631\n",
            "Epoch 3 Batch 600 Loss 0.6587\n",
            "Epoch 3 Batch 700 Loss 0.6864\n",
            "Epoch 3 Batch 800 Loss 0.4712\n",
            "Epoch 3 Batch 900 Loss 0.5203\n",
            "Epoch 3 Batch 1000 Loss 0.4389\n",
            "Epoch 3 Batch 1100 Loss 0.4730\n",
            "Epoch 3 Batch 1200 Loss 0.5889\n",
            "Epoch 3 Loss 0.5462\n",
            "Time taken for 1 epoch 89.51347374916077 sec\n",
            "\n",
            "Epoch 4 Batch 0 Loss 0.3015\n",
            "Epoch 4 Batch 100 Loss 0.3260\n",
            "Epoch 4 Batch 200 Loss 0.2799\n",
            "Epoch 4 Batch 300 Loss 0.3450\n",
            "Epoch 4 Batch 400 Loss 0.2713\n",
            "Epoch 4 Batch 500 Loss 0.3010\n",
            "Epoch 4 Batch 600 Loss 0.3625\n",
            "Epoch 4 Batch 700 Loss 0.3213\n",
            "Epoch 4 Batch 800 Loss 0.3682\n",
            "Epoch 4 Batch 900 Loss 0.3462\n",
            "Epoch 4 Batch 1000 Loss 0.4435\n",
            "Epoch 4 Batch 1100 Loss 0.3773\n",
            "Epoch 4 Batch 1200 Loss 0.3656\n",
            "Epoch 4 Loss 0.3270\n",
            "Time taken for 1 epoch 90.5729627609253 sec\n",
            "\n",
            "Epoch 5 Batch 0 Loss 0.1671\n",
            "Epoch 5 Batch 100 Loss 0.1739\n",
            "Epoch 5 Batch 200 Loss 0.1884\n",
            "Epoch 5 Batch 300 Loss 0.1857\n",
            "Epoch 5 Batch 400 Loss 0.1757\n",
            "Epoch 5 Batch 500 Loss 0.1443\n",
            "Epoch 5 Batch 600 Loss 0.1780\n",
            "Epoch 5 Batch 700 Loss 0.2279\n",
            "Epoch 5 Batch 800 Loss 0.2234\n",
            "Epoch 5 Batch 900 Loss 0.1865\n",
            "Epoch 5 Batch 1000 Loss 0.2793\n",
            "Epoch 5 Batch 1100 Loss 0.2201\n",
            "Epoch 5 Batch 1200 Loss 0.2181\n",
            "Epoch 5 Loss 0.2064\n",
            "Time taken for 1 epoch 89.80728554725647 sec\n",
            "\n",
            "Epoch 6 Batch 0 Loss 0.1483\n",
            "Epoch 6 Batch 100 Loss 0.1151\n",
            "Epoch 6 Batch 200 Loss 0.1140\n",
            "Epoch 6 Batch 300 Loss 0.1287\n",
            "Epoch 6 Batch 400 Loss 0.1181\n",
            "Epoch 6 Batch 500 Loss 0.1345\n",
            "Epoch 6 Batch 600 Loss 0.1625\n",
            "Epoch 6 Batch 700 Loss 0.1284\n",
            "Epoch 6 Batch 800 Loss 0.1444\n",
            "Epoch 6 Batch 900 Loss 0.1516\n",
            "Epoch 6 Batch 1000 Loss 0.2032\n",
            "Epoch 6 Batch 1100 Loss 0.1524\n",
            "Epoch 6 Batch 1200 Loss 0.1748\n",
            "Epoch 6 Loss 0.1431\n",
            "Time taken for 1 epoch 90.6133143901825 sec\n",
            "\n",
            "Epoch 7 Batch 0 Loss 0.0933\n",
            "Epoch 7 Batch 100 Loss 0.1058\n",
            "Epoch 7 Batch 200 Loss 0.0973\n",
            "Epoch 7 Batch 300 Loss 0.0892\n",
            "Epoch 7 Batch 400 Loss 0.1056\n",
            "Epoch 7 Batch 500 Loss 0.1103\n",
            "Epoch 7 Batch 600 Loss 0.1168\n",
            "Epoch 7 Batch 700 Loss 0.0812\n",
            "Epoch 7 Batch 800 Loss 0.1123\n",
            "Epoch 7 Batch 900 Loss 0.1264\n",
            "Epoch 7 Batch 1000 Loss 0.1564\n",
            "Epoch 7 Batch 1100 Loss 0.1097\n",
            "Epoch 7 Batch 1200 Loss 0.1070\n",
            "Epoch 7 Loss 0.1101\n",
            "Time taken for 1 epoch 89.69817423820496 sec\n",
            "\n",
            "Epoch 8 Batch 0 Loss 0.0907\n",
            "Epoch 8 Batch 100 Loss 0.0799\n",
            "Epoch 8 Batch 200 Loss 0.0698\n",
            "Epoch 8 Batch 300 Loss 0.0739\n",
            "Epoch 8 Batch 400 Loss 0.0717\n",
            "Epoch 8 Batch 500 Loss 0.0856\n",
            "Epoch 8 Batch 600 Loss 0.0628\n",
            "Epoch 8 Batch 700 Loss 0.0694\n",
            "Epoch 8 Batch 800 Loss 0.0785\n",
            "Epoch 8 Batch 900 Loss 0.0887\n",
            "Epoch 8 Batch 1000 Loss 0.1061\n",
            "Epoch 8 Batch 1100 Loss 0.0908\n",
            "Epoch 8 Batch 1200 Loss 0.1749\n",
            "Epoch 8 Loss 0.0934\n",
            "Time taken for 1 epoch 90.51472973823547 sec\n",
            "\n",
            "Epoch 9 Batch 0 Loss 0.0863\n",
            "Epoch 9 Batch 100 Loss 0.0508\n",
            "Epoch 9 Batch 200 Loss 0.0547\n",
            "Epoch 9 Batch 300 Loss 0.0711\n",
            "Epoch 9 Batch 400 Loss 0.0660\n",
            "Epoch 9 Batch 500 Loss 0.0767\n",
            "Epoch 9 Batch 600 Loss 0.1058\n",
            "Epoch 9 Batch 700 Loss 0.0726\n",
            "Epoch 9 Batch 800 Loss 0.0626\n",
            "Epoch 9 Batch 900 Loss 0.0799\n",
            "Epoch 9 Batch 1000 Loss 0.1074\n",
            "Epoch 9 Batch 1100 Loss 0.0861\n",
            "Epoch 9 Batch 1200 Loss 0.0986\n",
            "Epoch 9 Loss 0.0832\n",
            "Time taken for 1 epoch 89.62978482246399 sec\n",
            "\n",
            "Epoch 10 Batch 0 Loss 0.0514\n",
            "Epoch 10 Batch 100 Loss 0.0813\n",
            "Epoch 10 Batch 200 Loss 0.0516\n",
            "Epoch 10 Batch 300 Loss 0.0685\n",
            "Epoch 10 Batch 400 Loss 0.0551\n",
            "Epoch 10 Batch 500 Loss 0.0747\n",
            "Epoch 10 Batch 600 Loss 0.0571\n",
            "Epoch 10 Batch 700 Loss 0.0842\n",
            "Epoch 10 Batch 800 Loss 0.0868\n",
            "Epoch 10 Batch 900 Loss 0.0615\n",
            "Epoch 10 Batch 1000 Loss 0.0888\n",
            "Epoch 10 Batch 1100 Loss 0.0832\n",
            "Epoch 10 Batch 1200 Loss 0.1283\n",
            "Epoch 10 Loss 0.0770\n",
            "Time taken for 1 epoch 90.18322134017944 sec\n",
            "\n",
            "Epoch 11 Batch 0 Loss 0.0602\n",
            "Epoch 11 Batch 100 Loss 0.0569\n",
            "Epoch 11 Batch 200 Loss 0.0604\n",
            "Epoch 11 Batch 300 Loss 0.0605\n",
            "Epoch 11 Batch 400 Loss 0.0578\n",
            "Epoch 11 Batch 500 Loss 0.0575\n",
            "Epoch 11 Batch 600 Loss 0.0707\n",
            "Epoch 11 Batch 700 Loss 0.0623\n",
            "Epoch 11 Batch 800 Loss 0.0625\n",
            "Epoch 11 Batch 900 Loss 0.0805\n",
            "Epoch 11 Batch 1000 Loss 0.0742\n",
            "Epoch 11 Batch 1100 Loss 0.0897\n",
            "Epoch 11 Batch 1200 Loss 0.0838\n",
            "Epoch 11 Loss 0.0714\n",
            "Time taken for 1 epoch 89.64812684059143 sec\n",
            "\n",
            "Epoch 12 Batch 0 Loss 0.0574\n",
            "Epoch 12 Batch 100 Loss 0.0447\n",
            "Epoch 12 Batch 200 Loss 0.0590\n",
            "Epoch 12 Batch 300 Loss 0.0645\n",
            "Epoch 12 Batch 400 Loss 0.0597\n",
            "Epoch 12 Batch 500 Loss 0.0893\n",
            "Epoch 12 Batch 600 Loss 0.0395\n",
            "Epoch 12 Batch 700 Loss 0.0827\n",
            "Epoch 12 Batch 800 Loss 0.0715\n",
            "Epoch 12 Batch 900 Loss 0.0945\n",
            "Epoch 12 Batch 1000 Loss 0.0797\n",
            "Epoch 12 Batch 1100 Loss 0.0867\n",
            "Epoch 12 Batch 1200 Loss 0.0768\n",
            "Epoch 12 Loss 0.0696\n",
            "Time taken for 1 epoch 90.33509993553162 sec\n",
            "\n",
            "Epoch 13 Batch 0 Loss 0.0576\n",
            "Epoch 13 Batch 100 Loss 0.0379\n",
            "Epoch 13 Batch 200 Loss 0.1096\n",
            "Epoch 13 Batch 300 Loss 0.0729\n",
            "Epoch 13 Batch 400 Loss 0.0573\n",
            "Epoch 13 Batch 500 Loss 0.0541\n",
            "Epoch 13 Batch 600 Loss 0.0722\n",
            "Epoch 13 Batch 700 Loss 0.0654\n",
            "Epoch 13 Batch 800 Loss 0.0719\n",
            "Epoch 13 Batch 900 Loss 0.0593\n",
            "Epoch 13 Batch 1000 Loss 0.0888\n",
            "Epoch 13 Batch 1100 Loss 0.0788\n",
            "Epoch 13 Batch 1200 Loss 0.0728\n",
            "Epoch 13 Loss 0.0671\n",
            "Time taken for 1 epoch 89.69077110290527 sec\n",
            "\n",
            "Epoch 14 Batch 0 Loss 0.0558\n",
            "Epoch 14 Batch 100 Loss 0.0241\n",
            "Epoch 14 Batch 200 Loss 0.0788\n",
            "Epoch 14 Batch 300 Loss 0.0387\n",
            "Epoch 14 Batch 400 Loss 0.0517\n",
            "Epoch 14 Batch 500 Loss 0.0584\n",
            "Epoch 14 Batch 600 Loss 0.0828\n",
            "Epoch 14 Batch 700 Loss 0.0641\n",
            "Epoch 14 Batch 800 Loss 0.0964\n",
            "Epoch 14 Batch 900 Loss 0.0733\n",
            "Epoch 14 Batch 1000 Loss 0.0709\n",
            "Epoch 14 Batch 1100 Loss 0.1180\n",
            "Epoch 14 Batch 1200 Loss 0.0883\n",
            "Epoch 14 Loss 0.0664\n",
            "Time taken for 1 epoch 90.5180971622467 sec\n",
            "\n",
            "Epoch 15 Batch 0 Loss 0.0494\n",
            "Epoch 15 Batch 100 Loss 0.0602\n",
            "Epoch 15 Batch 200 Loss 0.0540\n",
            "Epoch 15 Batch 300 Loss 0.0637\n",
            "Epoch 15 Batch 400 Loss 0.0512\n",
            "Epoch 15 Batch 500 Loss 0.0632\n",
            "Epoch 15 Batch 600 Loss 0.0463\n",
            "Epoch 15 Batch 700 Loss 0.0850\n",
            "Epoch 15 Batch 800 Loss 0.0666\n",
            "Epoch 15 Batch 900 Loss 0.0641\n",
            "Epoch 15 Batch 1000 Loss 0.0663\n",
            "Epoch 15 Batch 1100 Loss 0.0897\n",
            "Epoch 15 Batch 1200 Loss 0.0861\n",
            "Epoch 15 Loss 0.0647\n",
            "Time taken for 1 epoch 89.66250419616699 sec\n",
            "\n",
            "Epoch 16 Batch 0 Loss 0.0522\n",
            "Epoch 16 Batch 100 Loss 0.0247\n",
            "Epoch 16 Batch 200 Loss 0.0690\n",
            "Epoch 16 Batch 300 Loss 0.0544\n",
            "Epoch 16 Batch 400 Loss 0.0548\n",
            "Epoch 16 Batch 500 Loss 0.0758\n",
            "Epoch 16 Batch 600 Loss 0.0662\n",
            "Epoch 16 Batch 700 Loss 0.0618\n",
            "Epoch 16 Batch 800 Loss 0.0884\n",
            "Epoch 16 Batch 900 Loss 0.0696\n",
            "Epoch 16 Batch 1000 Loss 0.0760\n",
            "Epoch 16 Batch 1100 Loss 0.0907\n",
            "Epoch 16 Batch 1200 Loss 0.0840\n",
            "Epoch 16 Loss 0.0638\n",
            "Time taken for 1 epoch 90.29577255249023 sec\n",
            "\n",
            "Epoch 17 Batch 0 Loss 0.0524\n",
            "Epoch 17 Batch 100 Loss 0.0293\n",
            "Epoch 17 Batch 200 Loss 0.0648\n",
            "Epoch 17 Batch 300 Loss 0.0662\n",
            "Epoch 17 Batch 400 Loss 0.0550\n",
            "Epoch 17 Batch 500 Loss 0.0487\n",
            "Epoch 17 Batch 600 Loss 0.0526\n",
            "Epoch 17 Batch 700 Loss 0.0641\n",
            "Epoch 17 Batch 800 Loss 0.0602\n",
            "Epoch 17 Batch 900 Loss 0.0758\n",
            "Epoch 17 Batch 1000 Loss 0.0715\n",
            "Epoch 17 Batch 1100 Loss 0.0604\n",
            "Epoch 17 Batch 1200 Loss 0.1002\n",
            "Epoch 17 Loss 0.0641\n",
            "Time taken for 1 epoch 89.61888837814331 sec\n",
            "\n",
            "Epoch 18 Batch 0 Loss 0.0476\n",
            "Epoch 18 Batch 100 Loss 0.0752\n",
            "Epoch 18 Batch 200 Loss 0.0590\n",
            "Epoch 18 Batch 300 Loss 0.0369\n",
            "Epoch 18 Batch 400 Loss 0.0485\n",
            "Epoch 18 Batch 500 Loss 0.0367\n",
            "Epoch 18 Batch 600 Loss 0.0621\n",
            "Epoch 18 Batch 700 Loss 0.0533\n",
            "Epoch 18 Batch 800 Loss 0.0924\n",
            "Epoch 18 Batch 900 Loss 0.0635\n",
            "Epoch 18 Batch 1000 Loss 0.0536\n",
            "Epoch 18 Batch 1100 Loss 0.1134\n",
            "Epoch 18 Batch 1200 Loss 0.1102\n",
            "Epoch 18 Loss 0.0640\n",
            "Time taken for 1 epoch 90.51461505889893 sec\n",
            "\n",
            "Epoch 19 Batch 0 Loss 0.0517\n",
            "Epoch 19 Batch 100 Loss 0.0554\n",
            "Epoch 19 Batch 200 Loss 0.0616\n",
            "Epoch 19 Batch 300 Loss 0.0337\n",
            "Epoch 19 Batch 400 Loss 0.0722\n",
            "Epoch 19 Batch 500 Loss 0.0642\n",
            "Epoch 19 Batch 600 Loss 0.0919\n",
            "Epoch 19 Batch 700 Loss 0.0654\n",
            "Epoch 19 Batch 800 Loss 0.0793\n",
            "Epoch 19 Batch 900 Loss 0.0899\n",
            "Epoch 19 Batch 1000 Loss 0.0525\n",
            "Epoch 19 Batch 1100 Loss 0.0668\n",
            "Epoch 19 Batch 1200 Loss 0.0924\n",
            "Epoch 19 Loss 0.0642\n",
            "Time taken for 1 epoch 89.63663172721863 sec\n",
            "\n",
            "Epoch 20 Batch 0 Loss 0.0274\n",
            "Epoch 20 Batch 100 Loss 0.0610\n",
            "Epoch 20 Batch 200 Loss 0.0519\n",
            "Epoch 20 Batch 300 Loss 0.0494\n",
            "Epoch 20 Batch 400 Loss 0.0468\n",
            "Epoch 20 Batch 500 Loss 0.0549\n",
            "Epoch 20 Batch 600 Loss 0.0524\n",
            "Epoch 20 Batch 700 Loss 0.0682\n",
            "Epoch 20 Batch 800 Loss 0.0599\n",
            "Epoch 20 Batch 900 Loss 0.0898\n",
            "Epoch 20 Batch 1000 Loss 0.0673\n",
            "Epoch 20 Batch 1100 Loss 0.0624\n",
            "Epoch 20 Batch 1200 Loss 0.0759\n",
            "Epoch 20 Loss 0.0634\n",
            "Time taken for 1 epoch 90.47822117805481 sec\n",
            "\n"
          ]
        }
      ]
    },
    {
      "cell_type": "code",
      "source": [
        "def evaluate(sentence):\n",
        "  attention_plot = np.zeros((max_length_targ, max_length_inp))\n",
        "\n",
        "  sentence = preprocess_sentence(sentence)\n",
        "\n",
        "  inputs = [inp_lang.word_index[i] for i in sentence.split(' ')]\n",
        "  inputs = tf.keras.preprocessing.sequence.pad_sequences([inputs],\n",
        "                                                         maxlen=max_length_inp,\n",
        "                                                         padding='post')\n",
        "  inputs = tf.convert_to_tensor(inputs)\n",
        "\n",
        "  result = ''\n",
        "\n",
        "  hidden = [tf.zeros((1, units))]\n",
        "  enc_hidden = encoder(inputs, hidden)\n",
        "\n",
        "  dec_hidden = enc_hidden\n",
        "  dec_input = tf.expand_dims([targ_lang.word_index['<start>']], 0)\n",
        "\n",
        "  for t in range(max_length_targ):\n",
        "    predictions, dec_hidden = decoder(dec_input, dec_hidden)\n",
        "\n",
        "    # storing the attention weights to plot later on\n",
        "    predicted_id = tf.argmax(predictions[0]).numpy()\n",
        "    result += targ_lang.index_word[predicted_id] + ' '\n",
        "\n",
        "    if targ_lang.index_word[predicted_id] == '<end>':\n",
        "      return result, sentence\n",
        "\n",
        "    # the predicted ID is fed back into the model\n",
        "    dec_input = tf.expand_dims([predicted_id], 0)\n",
        "\n",
        "  return result, sentence"
      ],
      "metadata": {
        "id": "z82SoTYm0KFv"
      },
      "execution_count": 22,
      "outputs": []
    },
    {
      "cell_type": "code",
      "source": [
        "def translate(sentence):\n",
        "  result, sentence = evaluate(sentence)\n",
        "\n",
        "  print('Input: %s' % (sentence))\n",
        "  print('Predicted translation: {}'.format(result))"
      ],
      "metadata": {
        "id": "NJYr8tX80MGM"
      },
      "execution_count": 23,
      "outputs": []
    },
    {
      "cell_type": "code",
      "source": [
        "translate('Me voy a casa.')"
      ],
      "metadata": {
        "id": "vnLE8h9bDHEq",
        "colab": {
          "base_uri": "https://localhost:8080/"
        },
        "outputId": "e8ecbeed-6deb-4f70-fdfa-f9eee5bb6caf"
      },
      "execution_count": 24,
      "outputs": [
        {
          "output_type": "stream",
          "name": "stdout",
          "text": [
            "Input: <start> me voy a casa . <end>\n",
            "Predicted translation: i'm going home . <end> \n"
          ]
        }
      ]
    },
    {
      "cell_type": "markdown",
      "source": [
        "Google translate: I'm going home."
      ],
      "metadata": {
        "id": "aIKQJx1igsMc"
      }
    },
    {
      "cell_type": "code",
      "source": [
        "translate('Necesito dinero.')"
      ],
      "metadata": {
        "id": "YC1Un5gODMRL",
        "colab": {
          "base_uri": "https://localhost:8080/"
        },
        "outputId": "c56f6c0e-2fdd-47cb-8e3c-f7cd3bc33b32"
      },
      "execution_count": 25,
      "outputs": [
        {
          "output_type": "stream",
          "name": "stdout",
          "text": [
            "Input: <start> necesito dinero . <end>\n",
            "Predicted translation: i need money . <end> \n"
          ]
        }
      ]
    },
    {
      "cell_type": "markdown",
      "source": [
        "Google translate: I need money."
      ],
      "metadata": {
        "id": "Csw1Zn2ZhAR_"
      }
    },
    {
      "cell_type": "code",
      "source": [
        "translate('Puedes hacer eso?')"
      ],
      "metadata": {
        "id": "g_C_h8-SDcX7",
        "colab": {
          "base_uri": "https://localhost:8080/"
        },
        "outputId": "9d96c89c-9494-4404-c33d-c83a826b3ede"
      },
      "execution_count": 26,
      "outputs": [
        {
          "output_type": "stream",
          "name": "stdout",
          "text": [
            "Input: <start> puedes hacer eso ? <end>\n",
            "Predicted translation: can you do that ? <end> \n"
          ]
        }
      ]
    },
    {
      "cell_type": "markdown",
      "source": [
        "Google translate: can you do that?"
      ],
      "metadata": {
        "id": "C068vc_ohMm7"
      }
    },
    {
      "cell_type": "code",
      "source": [
        "translate('Hogar, dulce hogar')"
      ],
      "metadata": {
        "id": "sm28sn5s8rc9",
        "colab": {
          "base_uri": "https://localhost:8080/"
        },
        "outputId": "19fd15cf-4367-4faa-9ecb-08cf51aefe5e"
      },
      "execution_count": 27,
      "outputs": [
        {
          "output_type": "stream",
          "name": "stdout",
          "text": [
            "Input: <start> hogar , dulce hogar <end>\n",
            "Predicted translation: hurry , or your house is haunted . <end> \n"
          ]
        }
      ]
    },
    {
      "cell_type": "markdown",
      "source": [
        "Google translate: Home Sweet Home"
      ],
      "metadata": {
        "id": "CKq43zzghN-9"
      }
    },
    {
      "cell_type": "code",
      "source": [
        "translate('¿Qué vas a hacer hoy?')"
      ],
      "metadata": {
        "id": "0zIKgP5u8lAt",
        "colab": {
          "base_uri": "https://localhost:8080/"
        },
        "outputId": "27c78402-708a-47e3-8f5c-ba7b436bbb81"
      },
      "execution_count": 28,
      "outputs": [
        {
          "output_type": "stream",
          "name": "stdout",
          "text": [
            "Input: <start> qu vas a hacer hoy ? <end>\n",
            "Predicted translation: what are you going to do today ? <end> \n"
          ]
        }
      ]
    },
    {
      "cell_type": "markdown",
      "source": [
        "Google translate: What are you going to do today?"
      ],
      "metadata": {
        "id": "9OMRUC0thbdI"
      }
    },
    {
      "cell_type": "code",
      "source": [
        "translate('¿Cuánto cuesta?')"
      ],
      "metadata": {
        "id": "fmF7MAUVDvoW",
        "colab": {
          "base_uri": "https://localhost:8080/"
        },
        "outputId": "0b9e88f2-d9e3-4869-b386-489c07b72e4a"
      },
      "execution_count": 29,
      "outputs": [
        {
          "output_type": "stream",
          "name": "stdout",
          "text": [
            "Input: <start> cu nto cuesta ? <end>\n",
            "Predicted translation: how much does it cost ? <end> \n"
          ]
        }
      ]
    },
    {
      "cell_type": "markdown",
      "source": [
        "Google translate: How much?'"
      ],
      "metadata": {
        "id": "vko1_xBDhPTF"
      }
    },
    {
      "cell_type": "markdown",
      "source": [
        "Google translate: Would you like to spend time with me?"
      ],
      "metadata": {
        "id": "n6O7Gfe3hQWS"
      }
    },
    {
      "cell_type": "markdown",
      "source": [
        "Сделаем модель с attention"
      ],
      "metadata": {
        "id": "fDxV4YcH4qmn"
      }
    },
    {
      "cell_type": "code",
      "source": [
        "class Encoder(tf.keras.Model):\n",
        "  def __init__(self, vocab_size, embedding_dim, enc_units, batch_sz):\n",
        "    super(Encoder, self).__init__()\n",
        "    self.batch_sz = batch_sz\n",
        "    self.enc_units = enc_units\n",
        "    self.embedding = tf.keras.layers.Embedding(vocab_size, embedding_dim)\n",
        "    self.gru = tf.keras.layers.GRU(self.enc_units,\n",
        "                                   return_sequences=True,\n",
        "                                   return_state=True,\n",
        "                                   recurrent_initializer='glorot_uniform')\n",
        "\n",
        "  def call(self, x, hidden):\n",
        "    x = self.embedding(x)\n",
        "    output, state = self.gru(x, initial_state = hidden)\n",
        "    return output, state\n",
        "\n",
        "  def initialize_hidden_state(self):\n",
        "    return tf.zeros((self.batch_sz, self.enc_units))"
      ],
      "metadata": {
        "id": "ObrOXdxk6JGR"
      },
      "execution_count": 31,
      "outputs": []
    },
    {
      "cell_type": "code",
      "source": [
        "encoder = Encoder(vocab_inp_size, embedding_dim, units, BATCH_SIZE)\n",
        "\n",
        "# sample input\n",
        "sample_hidden = encoder.initialize_hidden_state()\n",
        "sample_output, sample_hidden = encoder(example_input_batch, sample_hidden)\n",
        "print ('Encoder output shape: (batch size, sequence length, units) {}'.format(sample_output.shape))\n",
        "print ('Encoder Hidden state shape: (batch size, units) {}'.format(sample_hidden.shape))"
      ],
      "metadata": {
        "id": "93-g-Ujz5_8X",
        "colab": {
          "base_uri": "https://localhost:8080/"
        },
        "outputId": "2e9883e2-7107-4e24-db5c-edc4ab928c84"
      },
      "execution_count": 32,
      "outputs": [
        {
          "output_type": "stream",
          "name": "stdout",
          "text": [
            "Encoder output shape: (batch size, sequence length, units) (64, 20, 1024)\n",
            "Encoder Hidden state shape: (batch size, units) (64, 1024)\n"
          ]
        }
      ]
    },
    {
      "cell_type": "code",
      "source": [
        "class BahdanauAttention(tf.keras.layers.Layer):\n",
        "  def __init__(self, units):\n",
        "    super(BahdanauAttention, self).__init__()\n",
        "    self.W1 = tf.keras.layers.Dense(units)\n",
        "    self.W2 = tf.keras.layers.Dense(units)\n",
        "    self.V = tf.keras.layers.Dense(1)\n",
        "\n",
        "  def call(self, query, values):\n",
        "    # query hidden state shape == (batch_size, hidden size)\n",
        "    # query_with_time_axis shape == (batch_size, 1, hidden size)\n",
        "    # values shape == (batch_size, max_len, hidden size)\n",
        "    # we are doing this to broadcast addition along the time axis to calculate the score\n",
        "    query_with_time_axis = tf.expand_dims(query, 1)\n",
        "\n",
        "    # score shape == (batch_size, max_length, 1)\n",
        "    # we get 1 at the last axis because we are applying score to self.V\n",
        "    # the shape of the tensor before applying self.V is (batch_size, max_length, units)\n",
        "    score = self.V(tf.nn.tanh(\n",
        "        self.W1(query_with_time_axis) + self.W2(values)))\n",
        "\n",
        "    # attention_weights shape == (batch_size, max_length, 1)\n",
        "    attention_weights = tf.nn.softmax(score, axis=1)\n",
        "\n",
        "    # context_vector shape after sum == (batch_size, hidden_size)\n",
        "    context_vector = attention_weights * values\n",
        "    context_vector = tf.reduce_sum(context_vector, axis=1)\n",
        "\n",
        "    return context_vector, attention_weights"
      ],
      "metadata": {
        "id": "aztD27N_4qBU"
      },
      "execution_count": 33,
      "outputs": []
    },
    {
      "cell_type": "code",
      "source": [
        "attention_layer = BahdanauAttention(10)\n",
        "attention_result, attention_weights = attention_layer(sample_hidden, sample_output)\n",
        "\n",
        "print(\"Attention result shape: (batch size, units) {}\".format(attention_result.shape))\n",
        "print(\"Attention weights shape: (batch_size, sequence_length, 1) {}\".format(attention_weights.shape))"
      ],
      "metadata": {
        "id": "mwrp-KKU5mDP",
        "colab": {
          "base_uri": "https://localhost:8080/"
        },
        "outputId": "bc9b8986-6758-41ca-b429-fbe290aa88c3"
      },
      "execution_count": 34,
      "outputs": [
        {
          "output_type": "stream",
          "name": "stdout",
          "text": [
            "Attention result shape: (batch size, units) (64, 1024)\n",
            "Attention weights shape: (batch_size, sequence_length, 1) (64, 20, 1)\n"
          ]
        }
      ]
    },
    {
      "cell_type": "code",
      "source": [
        "class Decoder(tf.keras.Model):\n",
        "  def __init__(self, vocab_size, embedding_dim, dec_units, batch_sz):\n",
        "    super(Decoder, self).__init__()\n",
        "    self.batch_sz = batch_sz\n",
        "    self.dec_units = dec_units\n",
        "    self.embedding = tf.keras.layers.Embedding(vocab_size, embedding_dim)\n",
        "    self.gru = tf.keras.layers.GRU(self.dec_units,\n",
        "                                   return_sequences=True,\n",
        "                                   return_state=True,\n",
        "                                   recurrent_initializer='glorot_uniform')\n",
        "    self.fc = tf.keras.layers.Dense(vocab_size)\n",
        "\n",
        "    # used for attention\n",
        "    self.attention = BahdanauAttention(self.dec_units)\n",
        "\n",
        "  def call(self, x, hidden, enc_output):\n",
        "    # enc_output shape == (batch_size, max_length, hidden_size)\n",
        "    context_vector, attention_weights = self.attention(hidden, enc_output)\n",
        "\n",
        "    # x shape after passing through embedding == (batch_size, 1, embedding_dim)\n",
        "    x = self.embedding(x)\n",
        "\n",
        "    # x shape after concatenation == (batch_size, 1, embedding_dim + hidden_size)\n",
        "    x = tf.concat([tf.expand_dims(context_vector, 1), x], axis=-1)\n",
        "\n",
        "    # passing the concatenated vector to the GRU\n",
        "    output, state = self.gru(x)\n",
        "\n",
        "    # output shape == (batch_size * 1, hidden_size)\n",
        "    output = tf.reshape(output, (-1, output.shape[2]))\n",
        "\n",
        "    # output shape == (batch_size, vocab)\n",
        "    x = self.fc(output)\n",
        "\n",
        "    return x, state, attention_weights"
      ],
      "metadata": {
        "id": "CFQskkKI5ohS"
      },
      "execution_count": 35,
      "outputs": []
    },
    {
      "cell_type": "code",
      "source": [
        "decoder = Decoder(vocab_tar_size, embedding_dim, units, BATCH_SIZE)\n",
        "\n",
        "sample_decoder_output, _, _ = decoder(tf.random.uniform((BATCH_SIZE, 1)),\n",
        "                                      sample_hidden, sample_output)\n",
        "\n",
        "print ('Decoder output shape: (batch_size, vocab size) {}'.format(sample_decoder_output.shape))"
      ],
      "metadata": {
        "id": "v1DLMSVW6SNX",
        "colab": {
          "base_uri": "https://localhost:8080/"
        },
        "outputId": "c0c4018d-39ce-4e31-bf30-ea891b6a42eb"
      },
      "execution_count": 36,
      "outputs": [
        {
          "output_type": "stream",
          "name": "stdout",
          "text": [
            "Decoder output shape: (batch_size, vocab size) (64, 11066)\n"
          ]
        }
      ]
    },
    {
      "cell_type": "code",
      "source": [
        "optimizer = tf.keras.optimizers.Adam()\n",
        "loss_object = tf.keras.losses.SparseCategoricalCrossentropy(\n",
        "    from_logits=True, reduction='none')\n",
        "\n",
        "def loss_function(real, pred):\n",
        "  mask = tf.math.logical_not(tf.math.equal(real, 0))\n",
        "  loss_ = loss_object(real, pred)\n",
        "\n",
        "  mask = tf.cast(mask, dtype=loss_.dtype)\n",
        "  loss_ *= mask\n",
        "\n",
        "  return tf.reduce_mean(loss_)"
      ],
      "metadata": {
        "id": "DqU_va4n6Wl4"
      },
      "execution_count": 37,
      "outputs": []
    },
    {
      "cell_type": "code",
      "source": [
        "checkpoint_dir = './training_attention_checkpoints'\n",
        "checkpoint_prefix = os.path.join(checkpoint_dir, \"ckpt\")\n",
        "checkpoint = tf.train.Checkpoint(optimizer=optimizer,\n",
        "                                 encoder=encoder,\n",
        "                                 decoder=decoder)"
      ],
      "metadata": {
        "id": "4AO0jmpZ6W11"
      },
      "execution_count": 38,
      "outputs": []
    },
    {
      "cell_type": "code",
      "source": [
        "@tf.function\n",
        "def train_step(inp, targ, enc_hidden):\n",
        "  loss = 0\n",
        "\n",
        "  with tf.GradientTape() as tape:\n",
        "    enc_output, enc_hidden = encoder(inp, enc_hidden)\n",
        "\n",
        "    dec_hidden = enc_hidden\n",
        "\n",
        "    dec_input = tf.expand_dims([targ_lang.word_index['<start>']] * BATCH_SIZE, 1)\n",
        "\n",
        "    # Teacher forcing - feeding the target as the next input\n",
        "    for t in range(1, targ.shape[1]):\n",
        "      # passing enc_output to the decoder\n",
        "      predictions, dec_hidden, _ = decoder(dec_input, dec_hidden, enc_output)\n",
        "\n",
        "      loss += loss_function(targ[:, t], predictions)\n",
        "\n",
        "      # using teacher forcing\n",
        "      dec_input = tf.expand_dims(targ[:, t], 1)\n",
        "\n",
        "  batch_loss = (loss / int(targ.shape[1]))\n",
        "\n",
        "  variables = encoder.trainable_variables + decoder.trainable_variables\n",
        "\n",
        "  gradients = tape.gradient(loss, variables)\n",
        "\n",
        "  optimizer.apply_gradients(zip(gradients, variables))\n",
        "\n",
        "  return batch_loss"
      ],
      "metadata": {
        "id": "tDUDd0LY6b-1"
      },
      "execution_count": 39,
      "outputs": []
    },
    {
      "cell_type": "code",
      "source": [
        "EPOCHS = 20\n",
        "\n",
        "for epoch in range(EPOCHS):\n",
        "  start = time.time()\n",
        "\n",
        "  enc_hidden = encoder.initialize_hidden_state()\n",
        "  total_loss = 0\n",
        "\n",
        "  for (batch, (inp, targ)) in enumerate(dataset.take(steps_per_epoch)):\n",
        "    batch_loss = train_step(inp, targ, enc_hidden)\n",
        "    total_loss += batch_loss\n",
        "\n",
        "    if batch % 100 == 0:\n",
        "      print('Epoch {} Batch {} Loss {:.4f}'.format(epoch + 1,\n",
        "                                                   batch,\n",
        "                                                   batch_loss.numpy()))\n",
        "  # saving (checkpoint) the model every 2 epochs\n",
        "  if (epoch + 1) % 2 == 0:\n",
        "    checkpoint.save(file_prefix = checkpoint_prefix)\n",
        "\n",
        "  print('Epoch {} Loss {:.4f}'.format(epoch + 1,\n",
        "                                      total_loss / steps_per_epoch))\n",
        "  print('Time taken for 1 epoch {} sec\\n'.format(time.time() - start))"
      ],
      "metadata": {
        "id": "J2K-QgH46gs6",
        "colab": {
          "base_uri": "https://localhost:8080/"
        },
        "outputId": "f1a4503b-7dab-474d-e3ae-b59e0576015a"
      },
      "execution_count": 40,
      "outputs": [
        {
          "output_type": "stream",
          "name": "stdout",
          "text": [
            "Epoch 1 Batch 0 Loss 4.2012\n",
            "Epoch 1 Batch 100 Loss 2.2427\n",
            "Epoch 1 Batch 200 Loss 2.1989\n",
            "Epoch 1 Batch 300 Loss 2.0554\n",
            "Epoch 1 Batch 400 Loss 1.9612\n",
            "Epoch 1 Batch 500 Loss 1.7752\n",
            "Epoch 1 Batch 600 Loss 1.7830\n",
            "Epoch 1 Batch 700 Loss 1.6297\n",
            "Epoch 1 Batch 800 Loss 1.6237\n",
            "Epoch 1 Batch 900 Loss 1.5704\n",
            "Epoch 1 Batch 1000 Loss 1.3700\n",
            "Epoch 1 Batch 1100 Loss 1.3971\n",
            "Epoch 1 Batch 1200 Loss 1.3139\n",
            "Epoch 1 Loss 1.7557\n",
            "Time taken for 1 epoch 177.55028676986694 sec\n",
            "\n",
            "Epoch 2 Batch 0 Loss 1.0865\n",
            "Epoch 2 Batch 100 Loss 1.2025\n",
            "Epoch 2 Batch 200 Loss 1.1611\n",
            "Epoch 2 Batch 300 Loss 1.0758\n",
            "Epoch 2 Batch 400 Loss 1.2032\n",
            "Epoch 2 Batch 500 Loss 0.8881\n",
            "Epoch 2 Batch 600 Loss 0.9730\n",
            "Epoch 2 Batch 700 Loss 0.8962\n",
            "Epoch 2 Batch 800 Loss 0.7953\n",
            "Epoch 2 Batch 900 Loss 0.8532\n",
            "Epoch 2 Batch 1000 Loss 0.7507\n",
            "Epoch 2 Batch 1100 Loss 0.9006\n",
            "Epoch 2 Batch 1200 Loss 0.8231\n",
            "Epoch 2 Loss 0.9643\n",
            "Time taken for 1 epoch 161.034832239151 sec\n",
            "\n",
            "Epoch 3 Batch 0 Loss 0.6664\n",
            "Epoch 3 Batch 100 Loss 0.7155\n",
            "Epoch 3 Batch 200 Loss 0.7574\n",
            "Epoch 3 Batch 300 Loss 0.7510\n",
            "Epoch 3 Batch 400 Loss 0.6792\n",
            "Epoch 3 Batch 500 Loss 0.5730\n",
            "Epoch 3 Batch 600 Loss 0.5389\n",
            "Epoch 3 Batch 700 Loss 0.6102\n",
            "Epoch 3 Batch 800 Loss 0.6137\n",
            "Epoch 3 Batch 900 Loss 0.5175\n",
            "Epoch 3 Batch 1000 Loss 0.5194\n",
            "Epoch 3 Batch 1100 Loss 0.4618\n",
            "Epoch 3 Batch 1200 Loss 0.5868\n",
            "Epoch 3 Loss 0.5989\n",
            "Time taken for 1 epoch 159.9472222328186 sec\n",
            "\n",
            "Epoch 4 Batch 0 Loss 0.3668\n",
            "Epoch 4 Batch 100 Loss 0.3559\n",
            "Epoch 4 Batch 200 Loss 0.2874\n",
            "Epoch 4 Batch 300 Loss 0.4490\n",
            "Epoch 4 Batch 400 Loss 0.4486\n",
            "Epoch 4 Batch 500 Loss 0.4285\n",
            "Epoch 4 Batch 600 Loss 0.4874\n",
            "Epoch 4 Batch 700 Loss 0.3882\n",
            "Epoch 4 Batch 800 Loss 0.3414\n",
            "Epoch 4 Batch 900 Loss 0.4511\n",
            "Epoch 4 Batch 1000 Loss 0.3589\n",
            "Epoch 4 Batch 1100 Loss 0.3338\n",
            "Epoch 4 Batch 1200 Loss 0.4337\n",
            "Epoch 4 Loss 0.4083\n",
            "Time taken for 1 epoch 161.21020078659058 sec\n",
            "\n",
            "Epoch 5 Batch 0 Loss 0.2602\n",
            "Epoch 5 Batch 100 Loss 0.2584\n",
            "Epoch 5 Batch 200 Loss 0.2885\n",
            "Epoch 5 Batch 300 Loss 0.2981\n",
            "Epoch 5 Batch 400 Loss 0.2146\n",
            "Epoch 5 Batch 500 Loss 0.2966\n",
            "Epoch 5 Batch 600 Loss 0.3367\n",
            "Epoch 5 Batch 700 Loss 0.3261\n",
            "Epoch 5 Batch 800 Loss 0.3068\n",
            "Epoch 5 Batch 900 Loss 0.2714\n",
            "Epoch 5 Batch 1000 Loss 0.3095\n",
            "Epoch 5 Batch 1100 Loss 0.3583\n",
            "Epoch 5 Batch 1200 Loss 0.3579\n",
            "Epoch 5 Loss 0.2936\n",
            "Time taken for 1 epoch 160.0186517238617 sec\n",
            "\n",
            "Epoch 6 Batch 0 Loss 0.1556\n",
            "Epoch 6 Batch 100 Loss 0.1897\n",
            "Epoch 6 Batch 200 Loss 0.1632\n",
            "Epoch 6 Batch 300 Loss 0.1906\n",
            "Epoch 6 Batch 400 Loss 0.1748\n",
            "Epoch 6 Batch 500 Loss 0.1824\n",
            "Epoch 6 Batch 600 Loss 0.2391\n",
            "Epoch 6 Batch 700 Loss 0.2139\n",
            "Epoch 6 Batch 800 Loss 0.3001\n",
            "Epoch 6 Batch 900 Loss 0.2499\n",
            "Epoch 6 Batch 1000 Loss 0.2009\n",
            "Epoch 6 Batch 1100 Loss 0.2650\n",
            "Epoch 6 Batch 1200 Loss 0.1996\n",
            "Epoch 6 Loss 0.2209\n",
            "Time taken for 1 epoch 160.96525025367737 sec\n",
            "\n",
            "Epoch 7 Batch 0 Loss 0.1666\n",
            "Epoch 7 Batch 100 Loss 0.1276\n",
            "Epoch 7 Batch 200 Loss 0.1720\n",
            "Epoch 7 Batch 300 Loss 0.1978\n",
            "Epoch 7 Batch 400 Loss 0.1625\n",
            "Epoch 7 Batch 500 Loss 0.1569\n",
            "Epoch 7 Batch 600 Loss 0.1948\n",
            "Epoch 7 Batch 700 Loss 0.1240\n",
            "Epoch 7 Batch 800 Loss 0.1515\n",
            "Epoch 7 Batch 900 Loss 0.2190\n",
            "Epoch 7 Batch 1000 Loss 0.2098\n",
            "Epoch 7 Batch 1100 Loss 0.1777\n",
            "Epoch 7 Batch 1200 Loss 0.2020\n",
            "Epoch 7 Loss 0.1722\n",
            "Time taken for 1 epoch 159.96692943572998 sec\n",
            "\n",
            "Epoch 8 Batch 0 Loss 0.1128\n",
            "Epoch 8 Batch 100 Loss 0.1135\n",
            "Epoch 8 Batch 200 Loss 0.0911\n",
            "Epoch 8 Batch 300 Loss 0.1250\n",
            "Epoch 8 Batch 400 Loss 0.1696\n",
            "Epoch 8 Batch 500 Loss 0.1225\n",
            "Epoch 8 Batch 600 Loss 0.1463\n",
            "Epoch 8 Batch 700 Loss 0.1249\n",
            "Epoch 8 Batch 800 Loss 0.1661\n",
            "Epoch 8 Batch 900 Loss 0.1019\n",
            "Epoch 8 Batch 1000 Loss 0.1100\n",
            "Epoch 8 Batch 1100 Loss 0.1549\n",
            "Epoch 8 Batch 1200 Loss 0.1360\n",
            "Epoch 8 Loss 0.1376\n",
            "Time taken for 1 epoch 161.0949501991272 sec\n",
            "\n",
            "Epoch 9 Batch 0 Loss 0.0872\n",
            "Epoch 9 Batch 100 Loss 0.0770\n",
            "Epoch 9 Batch 200 Loss 0.1001\n",
            "Epoch 9 Batch 300 Loss 0.0740\n",
            "Epoch 9 Batch 400 Loss 0.1027\n",
            "Epoch 9 Batch 500 Loss 0.1396\n",
            "Epoch 9 Batch 600 Loss 0.0834\n",
            "Epoch 9 Batch 700 Loss 0.1156\n",
            "Epoch 9 Batch 800 Loss 0.0938\n",
            "Epoch 9 Batch 900 Loss 0.1629\n",
            "Epoch 9 Batch 1000 Loss 0.1194\n",
            "Epoch 9 Batch 1100 Loss 0.1052\n",
            "Epoch 9 Batch 1200 Loss 0.1135\n",
            "Epoch 9 Loss 0.1127\n",
            "Time taken for 1 epoch 159.99557900428772 sec\n",
            "\n",
            "Epoch 10 Batch 0 Loss 0.1060\n",
            "Epoch 10 Batch 100 Loss 0.1023\n",
            "Epoch 10 Batch 200 Loss 0.0679\n",
            "Epoch 10 Batch 300 Loss 0.0648\n",
            "Epoch 10 Batch 400 Loss 0.0871\n",
            "Epoch 10 Batch 500 Loss 0.0954\n",
            "Epoch 10 Batch 600 Loss 0.0862\n",
            "Epoch 10 Batch 700 Loss 0.0652\n",
            "Epoch 10 Batch 800 Loss 0.0815\n",
            "Epoch 10 Batch 900 Loss 0.0653\n",
            "Epoch 10 Batch 1000 Loss 0.0955\n",
            "Epoch 10 Batch 1100 Loss 0.1227\n",
            "Epoch 10 Batch 1200 Loss 0.1427\n",
            "Epoch 10 Loss 0.0963\n",
            "Time taken for 1 epoch 161.083172082901 sec\n",
            "\n",
            "Epoch 11 Batch 0 Loss 0.0573\n",
            "Epoch 11 Batch 100 Loss 0.0784\n",
            "Epoch 11 Batch 200 Loss 0.0852\n",
            "Epoch 11 Batch 300 Loss 0.0670\n",
            "Epoch 11 Batch 400 Loss 0.1023\n",
            "Epoch 11 Batch 500 Loss 0.0730\n",
            "Epoch 11 Batch 600 Loss 0.0521\n",
            "Epoch 11 Batch 700 Loss 0.1173\n",
            "Epoch 11 Batch 800 Loss 0.1055\n",
            "Epoch 11 Batch 900 Loss 0.0858\n",
            "Epoch 11 Batch 1000 Loss 0.1028\n",
            "Epoch 11 Batch 1100 Loss 0.0910\n",
            "Epoch 11 Batch 1200 Loss 0.0904\n",
            "Epoch 11 Loss 0.0827\n",
            "Time taken for 1 epoch 159.88245725631714 sec\n",
            "\n",
            "Epoch 12 Batch 0 Loss 0.0508\n",
            "Epoch 12 Batch 100 Loss 0.0516\n",
            "Epoch 12 Batch 200 Loss 0.0751\n",
            "Epoch 12 Batch 300 Loss 0.0556\n",
            "Epoch 12 Batch 400 Loss 0.0846\n",
            "Epoch 12 Batch 500 Loss 0.0988\n",
            "Epoch 12 Batch 600 Loss 0.0741\n",
            "Epoch 12 Batch 700 Loss 0.0713\n",
            "Epoch 12 Batch 800 Loss 0.1241\n",
            "Epoch 12 Batch 900 Loss 0.0869\n",
            "Epoch 12 Batch 1000 Loss 0.0810\n",
            "Epoch 12 Batch 1100 Loss 0.0633\n",
            "Epoch 12 Batch 1200 Loss 0.0928\n",
            "Epoch 12 Loss 0.0741\n",
            "Time taken for 1 epoch 160.9845428466797 sec\n",
            "\n",
            "Epoch 13 Batch 0 Loss 0.0508\n",
            "Epoch 13 Batch 100 Loss 0.0555\n",
            "Epoch 13 Batch 200 Loss 0.0459\n",
            "Epoch 13 Batch 300 Loss 0.0496\n",
            "Epoch 13 Batch 400 Loss 0.0460\n",
            "Epoch 13 Batch 500 Loss 0.0577\n",
            "Epoch 13 Batch 600 Loss 0.0611\n",
            "Epoch 13 Batch 700 Loss 0.0769\n",
            "Epoch 13 Batch 800 Loss 0.0774\n",
            "Epoch 13 Batch 900 Loss 0.0728\n",
            "Epoch 13 Batch 1000 Loss 0.0834\n",
            "Epoch 13 Batch 1100 Loss 0.0520\n",
            "Epoch 13 Batch 1200 Loss 0.1033\n",
            "Epoch 13 Loss 0.0667\n",
            "Time taken for 1 epoch 159.7949149608612 sec\n",
            "\n",
            "Epoch 14 Batch 0 Loss 0.0412\n",
            "Epoch 14 Batch 100 Loss 0.0406\n",
            "Epoch 14 Batch 200 Loss 0.0343\n",
            "Epoch 14 Batch 300 Loss 0.0446\n",
            "Epoch 14 Batch 400 Loss 0.0596\n",
            "Epoch 14 Batch 500 Loss 0.0520\n",
            "Epoch 14 Batch 600 Loss 0.0604\n",
            "Epoch 14 Batch 700 Loss 0.0506\n",
            "Epoch 14 Batch 800 Loss 0.0619\n",
            "Epoch 14 Batch 900 Loss 0.0783\n",
            "Epoch 14 Batch 1000 Loss 0.0742\n",
            "Epoch 14 Batch 1100 Loss 0.0887\n",
            "Epoch 14 Batch 1200 Loss 0.1027\n",
            "Epoch 14 Loss 0.0606\n",
            "Time taken for 1 epoch 160.90792989730835 sec\n",
            "\n",
            "Epoch 15 Batch 0 Loss 0.0463\n",
            "Epoch 15 Batch 100 Loss 0.0488\n",
            "Epoch 15 Batch 200 Loss 0.0488\n",
            "Epoch 15 Batch 300 Loss 0.0595\n",
            "Epoch 15 Batch 400 Loss 0.0460\n",
            "Epoch 15 Batch 500 Loss 0.0425\n",
            "Epoch 15 Batch 600 Loss 0.0425\n",
            "Epoch 15 Batch 700 Loss 0.0545\n",
            "Epoch 15 Batch 800 Loss 0.0508\n",
            "Epoch 15 Batch 900 Loss 0.0648\n",
            "Epoch 15 Batch 1000 Loss 0.0587\n",
            "Epoch 15 Batch 1100 Loss 0.0453\n",
            "Epoch 15 Batch 1200 Loss 0.0628\n",
            "Epoch 15 Loss 0.0577\n",
            "Time taken for 1 epoch 159.8769974708557 sec\n",
            "\n",
            "Epoch 16 Batch 0 Loss 0.0348\n",
            "Epoch 16 Batch 100 Loss 0.0253\n",
            "Epoch 16 Batch 200 Loss 0.0630\n",
            "Epoch 16 Batch 300 Loss 0.0749\n",
            "Epoch 16 Batch 400 Loss 0.0508\n",
            "Epoch 16 Batch 500 Loss 0.0400\n",
            "Epoch 16 Batch 600 Loss 0.0323\n",
            "Epoch 16 Batch 700 Loss 0.0633\n",
            "Epoch 16 Batch 800 Loss 0.0544\n",
            "Epoch 16 Batch 900 Loss 0.0499\n",
            "Epoch 16 Batch 1000 Loss 0.0519\n",
            "Epoch 16 Batch 1100 Loss 0.0677\n",
            "Epoch 16 Batch 1200 Loss 0.0605\n",
            "Epoch 16 Loss 0.0539\n",
            "Time taken for 1 epoch 160.6381537914276 sec\n",
            "\n",
            "Epoch 17 Batch 0 Loss 0.0500\n",
            "Epoch 17 Batch 100 Loss 0.0532\n",
            "Epoch 17 Batch 200 Loss 0.0285\n",
            "Epoch 17 Batch 300 Loss 0.0316\n",
            "Epoch 17 Batch 400 Loss 0.0404\n",
            "Epoch 17 Batch 500 Loss 0.0383\n",
            "Epoch 17 Batch 600 Loss 0.0368\n",
            "Epoch 17 Batch 700 Loss 0.0495\n",
            "Epoch 17 Batch 800 Loss 0.0552\n",
            "Epoch 17 Batch 900 Loss 0.0504\n",
            "Epoch 17 Batch 1000 Loss 0.0576\n",
            "Epoch 17 Batch 1100 Loss 0.0594\n",
            "Epoch 17 Batch 1200 Loss 0.0724\n",
            "Epoch 17 Loss 0.0514\n",
            "Time taken for 1 epoch 159.68469405174255 sec\n",
            "\n",
            "Epoch 18 Batch 0 Loss 0.0331\n",
            "Epoch 18 Batch 100 Loss 0.0225\n",
            "Epoch 18 Batch 200 Loss 0.0466\n",
            "Epoch 18 Batch 300 Loss 0.0255\n",
            "Epoch 18 Batch 400 Loss 0.0427\n",
            "Epoch 18 Batch 500 Loss 0.0499\n",
            "Epoch 18 Batch 600 Loss 0.0526\n",
            "Epoch 18 Batch 700 Loss 0.0609\n",
            "Epoch 18 Batch 800 Loss 0.0413\n",
            "Epoch 18 Batch 900 Loss 0.0273\n",
            "Epoch 18 Batch 1000 Loss 0.0578\n",
            "Epoch 18 Batch 1100 Loss 0.0489\n",
            "Epoch 18 Batch 1200 Loss 0.0386\n",
            "Epoch 18 Loss 0.0479\n",
            "Time taken for 1 epoch 160.7399263381958 sec\n",
            "\n",
            "Epoch 19 Batch 0 Loss 0.0361\n",
            "Epoch 19 Batch 100 Loss 0.0332\n",
            "Epoch 19 Batch 200 Loss 0.0312\n",
            "Epoch 19 Batch 300 Loss 0.0307\n",
            "Epoch 19 Batch 400 Loss 0.0407\n",
            "Epoch 19 Batch 500 Loss 0.0577\n",
            "Epoch 19 Batch 600 Loss 0.0496\n",
            "Epoch 19 Batch 700 Loss 0.0587\n",
            "Epoch 19 Batch 800 Loss 0.0463\n",
            "Epoch 19 Batch 900 Loss 0.0314\n",
            "Epoch 19 Batch 1000 Loss 0.0531\n",
            "Epoch 19 Batch 1100 Loss 0.0626\n",
            "Epoch 19 Batch 1200 Loss 0.0470\n",
            "Epoch 19 Loss 0.0475\n",
            "Time taken for 1 epoch 159.76063561439514 sec\n",
            "\n",
            "Epoch 20 Batch 0 Loss 0.0430\n",
            "Epoch 20 Batch 100 Loss 0.0302\n",
            "Epoch 20 Batch 200 Loss 0.0228\n",
            "Epoch 20 Batch 300 Loss 0.0327\n",
            "Epoch 20 Batch 400 Loss 0.0522\n",
            "Epoch 20 Batch 500 Loss 0.0381\n",
            "Epoch 20 Batch 600 Loss 0.0276\n",
            "Epoch 20 Batch 700 Loss 0.0376\n",
            "Epoch 20 Batch 800 Loss 0.0413\n",
            "Epoch 20 Batch 900 Loss 0.0505\n",
            "Epoch 20 Batch 1000 Loss 0.0455\n",
            "Epoch 20 Batch 1100 Loss 0.0720\n",
            "Epoch 20 Batch 1200 Loss 0.0577\n",
            "Epoch 20 Loss 0.0459\n",
            "Time taken for 1 epoch 160.65184903144836 sec\n",
            "\n"
          ]
        }
      ]
    },
    {
      "cell_type": "code",
      "source": [
        "def evaluate(sentence):\n",
        "  attention_plot = np.zeros((max_length_targ, max_length_inp))\n",
        "\n",
        "  sentence = preprocess_sentence(sentence)\n",
        "\n",
        "  inputs = [inp_lang.word_index[i] for i in sentence.split(' ')]\n",
        "  inputs = tf.keras.preprocessing.sequence.pad_sequences([inputs],\n",
        "                                                         maxlen=max_length_inp,\n",
        "                                                         padding='post')\n",
        "  inputs = tf.convert_to_tensor(inputs)\n",
        "\n",
        "  result = ''\n",
        "\n",
        "  hidden = [tf.zeros((1, units))]\n",
        "  enc_out, enc_hidden = encoder(inputs, hidden)\n",
        "\n",
        "  dec_hidden = enc_hidden\n",
        "  dec_input = tf.expand_dims([targ_lang.word_index['<start>']], 0)\n",
        "\n",
        "  for t in range(max_length_targ):\n",
        "    predictions, dec_hidden, attention_weights = decoder(dec_input,\n",
        "                                                         dec_hidden,\n",
        "                                                         enc_out)\n",
        "\n",
        "    # storing the attention weights to plot later on\n",
        "    attention_weights = tf.reshape(attention_weights, (-1, ))\n",
        "    attention_plot[t] = attention_weights.numpy()\n",
        "\n",
        "    predicted_id = tf.argmax(predictions[0]).numpy()\n",
        "\n",
        "    result += targ_lang.index_word[predicted_id] + ' '\n",
        "\n",
        "    if targ_lang.index_word[predicted_id] == '<end>':\n",
        "      return result, sentence, attention_plot\n",
        "\n",
        "    # the predicted ID is fed back into the model\n",
        "    dec_input = tf.expand_dims([predicted_id], 0)\n",
        "\n",
        "  return result, sentence, attention_plot"
      ],
      "metadata": {
        "id": "AhzoVY4A6m8a"
      },
      "execution_count": 41,
      "outputs": []
    },
    {
      "cell_type": "code",
      "source": [
        "# function for plotting the attention weights\n",
        "def plot_attention(attention, sentence, predicted_sentence):\n",
        "  fig = plt.figure(figsize=(10,10))\n",
        "  ax = fig.add_subplot(1, 1, 1)\n",
        "  ax.matshow(attention, cmap='viridis')\n",
        "\n",
        "  fontdict = {'fontsize': 14}\n",
        "\n",
        "  ax.set_xticklabels([''] + sentence, fontdict=fontdict, rotation=90)\n",
        "  ax.set_yticklabels([''] + predicted_sentence, fontdict=fontdict)\n",
        "\n",
        "  ax.xaxis.set_major_locator(ticker.MultipleLocator(1))\n",
        "  ax.yaxis.set_major_locator(ticker.MultipleLocator(1))\n",
        "\n",
        "  plt.show()"
      ],
      "metadata": {
        "id": "6HTvvfvD6rgH"
      },
      "execution_count": 42,
      "outputs": []
    },
    {
      "cell_type": "code",
      "source": [
        "def translate(sentence):\n",
        "  result, sentence, attention_plot = evaluate(sentence)\n",
        "\n",
        "  print('Input: %s' % (sentence))\n",
        "  print('Predicted translation: {}'.format(result))\n",
        "\n",
        "  attention_plot = attention_plot[:len(result.split(' ')), :len(sentence.split(' '))]\n",
        "  plot_attention(attention_plot, sentence.split(' '), result.split(' '))"
      ],
      "metadata": {
        "id": "vamNqdEZ6wXc"
      },
      "execution_count": 43,
      "outputs": []
    },
    {
      "cell_type": "code",
      "source": [
        "translate('Me voy a casa.')"
      ],
      "metadata": {
        "id": "IKkMm_Pz8whI",
        "colab": {
          "base_uri": "https://localhost:8080/",
          "height": 612
        },
        "outputId": "b6d733d3-7242-4415-cc73-743438b9a5a0"
      },
      "execution_count": 44,
      "outputs": [
        {
          "output_type": "stream",
          "name": "stdout",
          "text": [
            "Input: <start> me voy a casa . <end>\n",
            "Predicted translation: i'm leaving home . <end> \n"
          ]
        },
        {
          "output_type": "display_data",
          "data": {
            "text/plain": [
              "<Figure size 720x720 with 1 Axes>"
            ],
            "image/png": "[encoded data removed]"
          },
          "metadata": {
            "needs_background": "light"
          }
        }
      ]
    },
    {
      "cell_type": "markdown",
      "source": [
        "Google translate: I'm going home."
      ],
      "metadata": {
        "id": "hPEIO7mLh3nV"
      }
    },
    {
      "cell_type": "code",
      "source": [
        "translate('Necesito dinero.')"
      ],
      "metadata": {
        "id": "I_G93bub7FCG",
        "colab": {
          "base_uri": "https://localhost:8080/",
          "height": 680
        },
        "outputId": "f6525bae-fbf4-4ef9-d5b8-386bb5b99db3"
      },
      "execution_count": 45,
      "outputs": [
        {
          "output_type": "stream",
          "name": "stdout",
          "text": [
            "Input: <start> necesito dinero . <end>\n",
            "Predicted translation: i need money . <end> \n"
          ]
        },
        {
          "output_type": "display_data",
          "data": {
            "text/plain": [
              "<Figure size 720x720 with 1 Axes>"
            ],
            "image/png": "[encoded data removed]"
          },
          "metadata": {
            "needs_background": "light"
          }
        }
      ]
    },
    {
      "cell_type": "markdown",
      "source": [
        "Google translate: I need money."
      ],
      "metadata": {
        "id": "YhrTOezAiFWe"
      }
    },
    {
      "cell_type": "code",
      "source": [
        "translate('Puedes hacer eso?')"
      ],
      "metadata": {
        "id": "YgZEB_dG7FCH",
        "colab": {
          "base_uri": "https://localhost:8080/",
          "height": 677
        },
        "outputId": "bcf84693-53d8-4285-94ce-8c9f1a7bc7a9"
      },
      "execution_count": 46,
      "outputs": [
        {
          "output_type": "stream",
          "name": "stdout",
          "text": [
            "Input: <start> puedes hacer eso ? <end>\n",
            "Predicted translation: can you do that ? <end> \n"
          ]
        },
        {
          "output_type": "display_data",
          "data": {
            "text/plain": [
              "<Figure size 720x720 with 1 Axes>"
            ],
            "image/png": "[encoded data removed]"
          },
          "metadata": {
            "needs_background": "light"
          }
        }
      ]
    },
    {
      "cell_type": "markdown",
      "source": [
        "Google translate: can you do that?"
      ],
      "metadata": {
        "id": "A20KSH9wiUAj"
      }
    },
    {
      "cell_type": "code",
      "source": [
        "translate('Hogar, dulce hogar')"
      ],
      "metadata": {
        "id": "i-gw28q98PpV",
        "colab": {
          "base_uri": "https://localhost:8080/",
          "height": 677
        },
        "outputId": "8cb11c14-972c-4bff-9f74-226171a4b893"
      },
      "execution_count": 47,
      "outputs": [
        {
          "output_type": "stream",
          "name": "stdout",
          "text": [
            "Input: <start> hogar , dulce hogar <end>\n",
            "Predicted translation: listen home , listen to work quickly . <end> \n"
          ]
        },
        {
          "output_type": "display_data",
          "data": {
            "text/plain": [
              "<Figure size 720x720 with 1 Axes>"
            ],
            "image/png": "[encoded data removed]"
          },
          "metadata": {
            "needs_background": "light"
          }
        }
      ]
    },
    {
      "cell_type": "markdown",
      "source": [
        "Google translate: Home Sweet Home"
      ],
      "metadata": {
        "id": "m5IMXVAUib3t"
      }
    },
    {
      "cell_type": "code",
      "source": [
        "translate('¿Qué vas a hacer hoy?')"
      ],
      "metadata": {
        "id": "RhaV2TuF70NH",
        "colab": {
          "base_uri": "https://localhost:8080/",
          "height": 677
        },
        "outputId": "24672d60-15cc-4f6f-d27f-8560bbd39899"
      },
      "execution_count": 48,
      "outputs": [
        {
          "output_type": "stream",
          "name": "stdout",
          "text": [
            "Input: <start> qu vas a hacer hoy ? <end>\n",
            "Predicted translation: what are you going to do today ? <end> \n"
          ]
        },
        {
          "output_type": "display_data",
          "data": {
            "text/plain": [
              "<Figure size 720x720 with 1 Axes>"
            ],
            "image/png": "[encoded data removed]"
          },
          "metadata": {
            "needs_background": "light"
          }
        }
      ]
    },
    {
      "cell_type": "markdown",
      "source": [
        "Google translate: What are you going to do today?"
      ],
      "metadata": {
        "id": "o_YAA9TJiliD"
      }
    },
    {
      "cell_type": "code",
      "source": [
        "translate('¿Cuánto cuesta?')"
      ],
      "metadata": {
        "id": "VeFNVpgr7FCJ",
        "colab": {
          "base_uri": "https://localhost:8080/",
          "height": 677
        },
        "outputId": "b02698c3-cd4d-4289-985a-cface52c9f44"
      },
      "execution_count": 49,
      "outputs": [
        {
          "output_type": "stream",
          "name": "stdout",
          "text": [
            "Input: <start> cu nto cuesta ? <end>\n",
            "Predicted translation: how much does it cost ? <end> \n"
          ]
        },
        {
          "output_type": "display_data",
          "data": {
            "text/plain": [
              "<Figure size 720x720 with 1 Axes>"
            ],
            "image/png": "[encoded data removed]"
          },
          "metadata": {
            "needs_background": "light"
          }
        }
      ]
    },
    {
      "cell_type": "markdown",
      "source": [
        "Google translate: How much?'"
      ],
      "metadata": {
        "id": "0P-IP3keiuQ4"
      }
    },
    {
      "cell_type": "code",
      "source": [
        "translate('Te gustaría pasar tiempo conmigo?')"
      ],
      "metadata": {
        "id": "HCP8SQoZ7FCM",
        "colab": {
          "base_uri": "https://localhost:8080/",
          "height": 681
        },
        "outputId": "2139e359-ed83-498d-c7a3-542fa5389580"
      },
      "execution_count": 50,
      "outputs": [
        {
          "output_type": "stream",
          "name": "stdout",
          "text": [
            "Input: <start> te gustar a pasar tiempo conmigo ? <end>\n",
            "Predicted translation: would you like to do some time with me ? <end> \n"
          ]
        },
        {
          "output_type": "display_data",
          "data": {
            "text/plain": [
              "<Figure size 720x720 with 1 Axes>"
            ],
            "image/png": "[encoded data removed]"
          },
          "metadata": {
            "needs_background": "light"
          }
        }
      ]
    },
    {
      "cell_type": "markdown",
      "source": [
        "Google translate: Would you like to spend time with me?"
      ],
      "metadata": {
        "id": "SYhMAF20i7Nm"
      }
    },
    {
      "cell_type": "markdown",
      "source": [
        "Сеть без attention отрабатывает более провильно. Для улучшения машинного перевода вероятно нужно увеличить количество эпох"
      ],
      "metadata": {
        "id": "oUXtuzR9i950"
      }
    },
    {
      "cell_type": "code",
      "source": [
        ""
      ],
      "metadata": {
        "id": "ublSuBj1jNDi"
      },
      "execution_count": null,
      "outputs": []
    }
  ]
}