{
  "nbformat": 4,
  "nbformat_minor": 0,
  "metadata": {
    "colab": {
      "name": "HW8.ipynb",
      "provenance": [],
      "collapsed_sections": []
    },
    "kernelspec": {
      "name": "python3",
      "display_name": "Python 3"
    },
    "language_info": {
      "name": "python"
    }
  },
  "cells": [
    {
      "cell_type": "code",
      "execution_count": 1,
      "metadata": {
        "colab": {
          "base_uri": "https://localhost:8080/"
        },
        "id": "sjudsIN3ci8Y",
        "outputId": "a1fe9bdb-4fed-4150-a64d-7590e328dddc"
      },
      "outputs": [
        {
          "output_type": "stream",
          "name": "stdout",
          "text": [
            "Looking in indexes: https://pypi.org/simple, https://us-python.pkg.dev/colab-wheels/public/simple/\n",
            "Requirement already satisfied: pymorphy2 in /usr/local/lib/python3.7/dist-packages (0.9.1)\n",
            "Requirement already satisfied: pymorphy2-dicts-ru<3.0,>=2.4 in /usr/local/lib/python3.7/dist-packages (from pymorphy2) (2.4.417127.4579844)\n",
            "Requirement already satisfied: docopt>=0.6 in /usr/local/lib/python3.7/dist-packages (from pymorphy2) (0.6.2)\n",
            "Requirement already satisfied: dawg-python>=0.7.1 in /usr/local/lib/python3.7/dist-packages (from pymorphy2) (0.7.2)\n"
          ]
        }
      ],
      "source": [
        "!pip install pymorphy2"
      ]
    },
    {
      "cell_type": "code",
      "source": [
        "!pip install stop_words"
      ],
      "metadata": {
        "colab": {
          "base_uri": "https://localhost:8080/"
        },
        "id": "AugE3so0eWPl",
        "outputId": "ae25c36e-6548-4a36-bd78-47b80004dbc8"
      },
      "execution_count": 2,
      "outputs": [
        {
          "output_type": "stream",
          "name": "stdout",
          "text": [
            "Looking in indexes: https://pypi.org/simple, https://us-python.pkg.dev/colab-wheels/public/simple/\n",
            "Requirement already satisfied: stop_words in /usr/local/lib/python3.7/dist-packages (2018.7.23)\n"
          ]
        }
      ]
    },
    {
      "cell_type": "code",
      "source": [
        "!pip install --upgrade xlrd"
      ],
      "metadata": {
        "colab": {
          "base_uri": "https://localhost:8080/"
        },
        "id": "mgbhmSapeYFV",
        "outputId": "c23bc19e-877d-4ce0-99c3-747c4da00b0f"
      },
      "execution_count": 3,
      "outputs": [
        {
          "output_type": "stream",
          "name": "stdout",
          "text": [
            "Looking in indexes: https://pypi.org/simple, https://us-python.pkg.dev/colab-wheels/public/simple/\n",
            "Requirement already satisfied: xlrd in /usr/local/lib/python3.7/dist-packages (2.0.1)\n"
          ]
        }
      ]
    },
    {
      "cell_type": "markdown",
      "source": [
        "## Урок 8. Рекуррентные нейронные сети RNN LSTM GRU"
      ],
      "metadata": {
        "id": "pVlDlJ5MeG1x"
      }
    },
    {
      "cell_type": "markdown",
      "source": [
        "Задание\n",
        "\n",
        "Данные берем отызывы за лето\n",
        "\n",
        "На вебинаре мы говорили, что долгое время CNN и RNN архитектуры были конурируещими выяснить какая архитектура больше подходит для нашей задачи\n",
        "\n",
        "1. построить свёрточные архитектуры "
      ],
      "metadata": {
        "id": "4DMiiC0peKDJ"
      }
    },
    {
      "cell_type": "code",
      "source": [
        "import pandas as pd\n",
        "\n",
        "from string import punctuation\n",
        "from stop_words import get_stop_words\n",
        "from pymorphy2 import MorphAnalyzer\n",
        "import re\n",
        "from sklearn.model_selection import train_test_split\n",
        "from sklearn.feature_extraction.text import TfidfVectorizer\n",
        "\n",
        "import nltk\n",
        "from nltk.tokenize import word_tokenize\n",
        "nltk.download(\"punkt\")\n",
        "\n",
        "import numpy as np\n",
        "import keras\n",
        "from keras.models import Sequential, Model\n",
        "from keras.layers import Dense, Dropout, Activation, Input, Embedding, Conv1D, GlobalMaxPool1D, SimpleRNN, LSTM, GRU, Masking, MaxPooling1D\n",
        "from keras.preprocessing.text import Tokenizer\n",
        "from keras.preprocessing.sequence import pad_sequences\n",
        "from keras.callbacks import TensorBoard \n",
        "from keras.losses import categorical_crossentropy\n",
        "from keras.callbacks import EarlyStopping\n",
        "from tensorflow.keras import utils as np_utils"
      ],
      "metadata": {
        "colab": {
          "base_uri": "https://localhost:8080/"
        },
        "id": "-54TbfMFeIfY",
        "outputId": "124349b5-3d3a-4d17-8445-6a72b88a1ea4"
      },
      "execution_count": 4,
      "outputs": [
        {
          "output_type": "stream",
          "name": "stderr",
          "text": [
            "[nltk_data] Downloading package punkt to /root/nltk_data...\n",
            "[nltk_data]   Package punkt is already up-to-date!\n"
          ]
        }
      ]
    },
    {
      "cell_type": "code",
      "source": [
        "df = pd.read_excel('отзывы за лето.xls')\n",
        "df.head()"
      ],
      "metadata": {
        "colab": {
          "base_uri": "https://localhost:8080/",
          "height": 206
        },
        "id": "Fb__8utSfBMD",
        "outputId": "f4632ebd-edd9-4fd0-d1ea-89fd87a67259"
      },
      "execution_count": 5,
      "outputs": [
        {
          "output_type": "execute_result",
          "data": {
            "text/plain": [
              "   Rating                                            Content        Date\n",
              "0       5                                     It just works!  2017-08-14\n",
              "1       4  В целом удобноное приложение...из минусов хотя...  2017-08-14\n",
              "2       5                                        Отлично все  2017-08-14\n",
              "3       5  Стал зависать на 1% работы антивируса. Дальше ...  2017-08-14\n",
              "4       5                     Очень удобно, работает быстро.  2017-08-14"
            ],
            "text/html": [
              "\n",
              "  <div id=\"df-ec6fc910-2fbb-47e5-9c2f-eccdb16bcf4e\">\n",
              "    <div class=\"colab-df-container\">\n",
              "      <div>\n",
              "<style scoped>\n",
              "    .dataframe tbody tr th:only-of-type {\n",
              "        vertical-align: middle;\n",
              "    }\n",
              "\n",
              "    .dataframe tbody tr th {\n",
              "        vertical-align: top;\n",
              "    }\n",
              "\n",
              "    .dataframe thead th {\n",
              "        text-align: right;\n",
              "    }\n",
              "</style>\n",
              "<table border=\"1\" class=\"dataframe\">\n",
              "  <thead>\n",
              "    <tr style=\"text-align: right;\">\n",
              "      <th></th>\n",
              "      <th>Rating</th>\n",
              "      <th>Content</th>\n",
              "      <th>Date</th>\n",
              "    </tr>\n",
              "  </thead>\n",
              "  <tbody>\n",
              "    <tr>\n",
              "      <th>0</th>\n",
              "      <td>5</td>\n",
              "      <td>It just works!</td>\n",
              "      <td>2017-08-14</td>\n",
              "    </tr>\n",
              "    <tr>\n",
              "      <th>1</th>\n",
              "      <td>4</td>\n",
              "      <td>В целом удобноное приложение...из минусов хотя...</td>\n",
              "      <td>2017-08-14</td>\n",
              "    </tr>\n",
              "    <tr>\n",
              "      <th>2</th>\n",
              "      <td>5</td>\n",
              "      <td>Отлично все</td>\n",
              "      <td>2017-08-14</td>\n",
              "    </tr>\n",
              "    <tr>\n",
              "      <th>3</th>\n",
              "      <td>5</td>\n",
              "      <td>Стал зависать на 1% работы антивируса. Дальше ...</td>\n",
              "      <td>2017-08-14</td>\n",
              "    </tr>\n",
              "    <tr>\n",
              "      <th>4</th>\n",
              "      <td>5</td>\n",
              "      <td>Очень удобно, работает быстро.</td>\n",
              "      <td>2017-08-14</td>\n",
              "    </tr>\n",
              "  </tbody>\n",
              "</table>\n",
              "</div>\n",
              "      <button class=\"colab-df-convert\" onclick=\"convertToInteractive('df-ec6fc910-2fbb-47e5-9c2f-eccdb16bcf4e')\"\n",
              "              title=\"Convert this dataframe to an interactive table.\"\n",
              "              style=\"display:none;\">\n",
              "        \n",
              "  <svg xmlns=\"http://www.w3.org/2000/svg\" height=\"24px\"viewBox=\"0 0 24 24\"\n",
              "       width=\"24px\">\n",
              "    <path d=\"M0 0h24v24H0V0z\" fill=\"none\"/>\n",
              "    <path d=\"M18.56 5.44l.94 2.06.94-2.06 2.06-.94-2.06-.94-.94-2.06-.94 2.06-2.06.94zm-11 1L8.5 8.5l.94-2.06 2.06-.94-2.06-.94L8.5 2.5l-.94 2.06-2.06.94zm10 10l.94 2.06.94-2.06 2.06-.94-2.06-.94-.94-2.06-.94 2.06-2.06.94z\"/><path d=\"M17.41 7.96l-1.37-1.37c-.4-.4-.92-.59-1.43-.59-.52 0-1.04.2-1.43.59L10.3 9.45l-7.72 7.72c-.78.78-.78 2.05 0 2.83L4 21.41c.39.39.9.59 1.41.59.51 0 1.02-.2 1.41-.59l7.78-7.78 2.81-2.81c.8-.78.8-2.07 0-2.86zM5.41 20L4 18.59l7.72-7.72 1.47 1.35L5.41 20z\"/>\n",
              "  </svg>\n",
              "      </button>\n",
              "      \n",
              "  <style>\n",
              "    .colab-df-container {\n",
              "      display:flex;\n",
              "      flex-wrap:wrap;\n",
              "      gap: 12px;\n",
              "    }\n",
              "\n",
              "    .colab-df-convert {\n",
              "      background-color: #E8F0FE;\n",
              "      border: none;\n",
              "      border-radius: 50%;\n",
              "      cursor: pointer;\n",
              "      display: none;\n",
              "      fill: #1967D2;\n",
              "      height: 32px;\n",
              "      padding: 0 0 0 0;\n",
              "      width: 32px;\n",
              "    }\n",
              "\n",
              "    .colab-df-convert:hover {\n",
              "      background-color: #E2EBFA;\n",
              "      box-shadow: 0px 1px 2px rgba(60, 64, 67, 0.3), 0px 1px 3px 1px rgba(60, 64, 67, 0.15);\n",
              "      fill: #174EA6;\n",
              "    }\n",
              "\n",
              "    [theme=dark] .colab-df-convert {\n",
              "      background-color: #3B4455;\n",
              "      fill: #D2E3FC;\n",
              "    }\n",
              "\n",
              "    [theme=dark] .colab-df-convert:hover {\n",
              "      background-color: #434B5C;\n",
              "      box-shadow: 0px 1px 3px 1px rgba(0, 0, 0, 0.15);\n",
              "      filter: drop-shadow(0px 1px 2px rgba(0, 0, 0, 0.3));\n",
              "      fill: #FFFFFF;\n",
              "    }\n",
              "  </style>\n",
              "\n",
              "      <script>\n",
              "        const buttonEl =\n",
              "          document.querySelector('#df-ec6fc910-2fbb-47e5-9c2f-eccdb16bcf4e button.colab-df-convert');\n",
              "        buttonEl.style.display =\n",
              "          google.colab.kernel.accessAllowed ? 'block' : 'none';\n",
              "\n",
              "        async function convertToInteractive(key) {\n",
              "          const element = document.querySelector('#df-ec6fc910-2fbb-47e5-9c2f-eccdb16bcf4e');\n",
              "          const dataTable =\n",
              "            await google.colab.kernel.invokeFunction('convertToInteractive',\n",
              "                                                     [key], {});\n",
              "          if (!dataTable) return;\n",
              "\n",
              "          const docLinkHtml = 'Like what you see? Visit the ' +\n",
              "            '<a target=\"_blank\" href=https://colab.research.google.com/notebooks/data_table.ipynb>data table notebook</a>'\n",
              "            + ' to learn more about interactive tables.';\n",
              "          element.innerHTML = '';\n",
              "          dataTable['output_type'] = 'display_data';\n",
              "          await google.colab.output.renderOutput(dataTable, element);\n",
              "          const docLink = document.createElement('div');\n",
              "          docLink.innerHTML = docLinkHtml;\n",
              "          element.appendChild(docLink);\n",
              "        }\n",
              "      </script>\n",
              "    </div>\n",
              "  </div>\n",
              "  "
            ]
          },
          "metadata": {},
          "execution_count": 5
        }
      ]
    },
    {
      "cell_type": "code",
      "source": [
        "sw = set(get_stop_words(\"ru\"))\n",
        "exclude = set(punctuation)\n",
        "morpher = MorphAnalyzer()\n",
        "\n",
        "def preprocess_text(txt):\n",
        "    txt = str(txt)\n",
        "    txt = \"\".join(c for c in txt if c not in exclude)\n",
        "    txt = txt.lower()\n",
        "    txt = re.sub(\"\\sне\", \"не\", txt)\n",
        "    txt = [morpher.parse(word)[0].normal_form for word in txt.split() if word not in sw]\n",
        "    return \" \".join(txt)\n",
        "\n",
        "df['prepared_Content'] = df['Content'].apply(preprocess_text)\n",
        "df.head()"
      ],
      "metadata": {
        "colab": {
          "base_uri": "https://localhost:8080/",
          "height": 206
        },
        "id": "uGR5rRE4gEX5",
        "outputId": "b4712438-7a84-4cb2-b2ee-9972b4c09159"
      },
      "execution_count": 6,
      "outputs": [
        {
          "output_type": "execute_result",
          "data": {
            "text/plain": [
              "   Rating                                            Content        Date  \\\n",
              "0       5                                     It just works!  2017-08-14   \n",
              "1       4  В целом удобноное приложение...из минусов хотя...  2017-08-14   \n",
              "2       5                                        Отлично все  2017-08-14   \n",
              "3       5  Стал зависать на 1% работы антивируса. Дальше ...  2017-08-14   \n",
              "4       5                     Очень удобно, работает быстро.  2017-08-14   \n",
              "\n",
              "                                    prepared_Content  \n",
              "0                                      it just works  \n",
              "1  целое удобноной приложениеиз минус хотеть боль...  \n",
              "2                                            отлично  \n",
              "3  зависать 1 работа антивирус ранее пользоваться...  \n",
              "4                             удобно работать быстро  "
            ],
            "text/html": [
              "\n",
              "  <div id=\"df-e7295a0d-c605-49f8-98eb-c0f439fd480c\">\n",
              "    <div class=\"colab-df-container\">\n",
              "      <div>\n",
              "<style scoped>\n",
              "    .dataframe tbody tr th:only-of-type {\n",
              "        vertical-align: middle;\n",
              "    }\n",
              "\n",
              "    .dataframe tbody tr th {\n",
              "        vertical-align: top;\n",
              "    }\n",
              "\n",
              "    .dataframe thead th {\n",
              "        text-align: right;\n",
              "    }\n",
              "</style>\n",
              "<table border=\"1\" class=\"dataframe\">\n",
              "  <thead>\n",
              "    <tr style=\"text-align: right;\">\n",
              "      <th></th>\n",
              "      <th>Rating</th>\n",
              "      <th>Content</th>\n",
              "      <th>Date</th>\n",
              "      <th>prepared_Content</th>\n",
              "    </tr>\n",
              "  </thead>\n",
              "  <tbody>\n",
              "    <tr>\n",
              "      <th>0</th>\n",
              "      <td>5</td>\n",
              "      <td>It just works!</td>\n",
              "      <td>2017-08-14</td>\n",
              "      <td>it just works</td>\n",
              "    </tr>\n",
              "    <tr>\n",
              "      <th>1</th>\n",
              "      <td>4</td>\n",
              "      <td>В целом удобноное приложение...из минусов хотя...</td>\n",
              "      <td>2017-08-14</td>\n",
              "      <td>целое удобноной приложениеиз минус хотеть боль...</td>\n",
              "    </tr>\n",
              "    <tr>\n",
              "      <th>2</th>\n",
              "      <td>5</td>\n",
              "      <td>Отлично все</td>\n",
              "      <td>2017-08-14</td>\n",
              "      <td>отлично</td>\n",
              "    </tr>\n",
              "    <tr>\n",
              "      <th>3</th>\n",
              "      <td>5</td>\n",
              "      <td>Стал зависать на 1% работы антивируса. Дальше ...</td>\n",
              "      <td>2017-08-14</td>\n",
              "      <td>зависать 1 работа антивирус ранее пользоваться...</td>\n",
              "    </tr>\n",
              "    <tr>\n",
              "      <th>4</th>\n",
              "      <td>5</td>\n",
              "      <td>Очень удобно, работает быстро.</td>\n",
              "      <td>2017-08-14</td>\n",
              "      <td>удобно работать быстро</td>\n",
              "    </tr>\n",
              "  </tbody>\n",
              "</table>\n",
              "</div>\n",
              "      <button class=\"colab-df-convert\" onclick=\"convertToInteractive('df-e7295a0d-c605-49f8-98eb-c0f439fd480c')\"\n",
              "              title=\"Convert this dataframe to an interactive table.\"\n",
              "              style=\"display:none;\">\n",
              "        \n",
              "  <svg xmlns=\"http://www.w3.org/2000/svg\" height=\"24px\"viewBox=\"0 0 24 24\"\n",
              "       width=\"24px\">\n",
              "    <path d=\"M0 0h24v24H0V0z\" fill=\"none\"/>\n",
              "    <path d=\"M18.56 5.44l.94 2.06.94-2.06 2.06-.94-2.06-.94-.94-2.06-.94 2.06-2.06.94zm-11 1L8.5 8.5l.94-2.06 2.06-.94-2.06-.94L8.5 2.5l-.94 2.06-2.06.94zm10 10l.94 2.06.94-2.06 2.06-.94-2.06-.94-.94-2.06-.94 2.06-2.06.94z\"/><path d=\"M17.41 7.96l-1.37-1.37c-.4-.4-.92-.59-1.43-.59-.52 0-1.04.2-1.43.59L10.3 9.45l-7.72 7.72c-.78.78-.78 2.05 0 2.83L4 21.41c.39.39.9.59 1.41.59.51 0 1.02-.2 1.41-.59l7.78-7.78 2.81-2.81c.8-.78.8-2.07 0-2.86zM5.41 20L4 18.59l7.72-7.72 1.47 1.35L5.41 20z\"/>\n",
              "  </svg>\n",
              "      </button>\n",
              "      \n",
              "  <style>\n",
              "    .colab-df-container {\n",
              "      display:flex;\n",
              "      flex-wrap:wrap;\n",
              "      gap: 12px;\n",
              "    }\n",
              "\n",
              "    .colab-df-convert {\n",
              "      background-color: #E8F0FE;\n",
              "      border: none;\n",
              "      border-radius: 50%;\n",
              "      cursor: pointer;\n",
              "      display: none;\n",
              "      fill: #1967D2;\n",
              "      height: 32px;\n",
              "      padding: 0 0 0 0;\n",
              "      width: 32px;\n",
              "    }\n",
              "\n",
              "    .colab-df-convert:hover {\n",
              "      background-color: #E2EBFA;\n",
              "      box-shadow: 0px 1px 2px rgba(60, 64, 67, 0.3), 0px 1px 3px 1px rgba(60, 64, 67, 0.15);\n",
              "      fill: #174EA6;\n",
              "    }\n",
              "\n",
              "    [theme=dark] .colab-df-convert {\n",
              "      background-color: #3B4455;\n",
              "      fill: #D2E3FC;\n",
              "    }\n",
              "\n",
              "    [theme=dark] .colab-df-convert:hover {\n",
              "      background-color: #434B5C;\n",
              "      box-shadow: 0px 1px 3px 1px rgba(0, 0, 0, 0.15);\n",
              "      filter: drop-shadow(0px 1px 2px rgba(0, 0, 0, 0.3));\n",
              "      fill: #FFFFFF;\n",
              "    }\n",
              "  </style>\n",
              "\n",
              "      <script>\n",
              "        const buttonEl =\n",
              "          document.querySelector('#df-e7295a0d-c605-49f8-98eb-c0f439fd480c button.colab-df-convert');\n",
              "        buttonEl.style.display =\n",
              "          google.colab.kernel.accessAllowed ? 'block' : 'none';\n",
              "\n",
              "        async function convertToInteractive(key) {\n",
              "          const element = document.querySelector('#df-e7295a0d-c605-49f8-98eb-c0f439fd480c');\n",
              "          const dataTable =\n",
              "            await google.colab.kernel.invokeFunction('convertToInteractive',\n",
              "                                                     [key], {});\n",
              "          if (!dataTable) return;\n",
              "\n",
              "          const docLinkHtml = 'Like what you see? Visit the ' +\n",
              "            '<a target=\"_blank\" href=https://colab.research.google.com/notebooks/data_table.ipynb>data table notebook</a>'\n",
              "            + ' to learn more about interactive tables.';\n",
              "          element.innerHTML = '';\n",
              "          dataTable['output_type'] = 'display_data';\n",
              "          await google.colab.output.renderOutput(dataTable, element);\n",
              "          const docLink = document.createElement('div');\n",
              "          docLink.innerHTML = docLinkHtml;\n",
              "          element.appendChild(docLink);\n",
              "        }\n",
              "      </script>\n",
              "    </div>\n",
              "  </div>\n",
              "  "
            ]
          },
          "metadata": {},
          "execution_count": 6
        }
      ]
    },
    {
      "cell_type": "code",
      "source": [
        "train_corpus = \" \".join(df['prepared_Content'])\n",
        "train_corpus = train_corpus.lower()"
      ],
      "metadata": {
        "id": "A4-lFEewoqJC"
      },
      "execution_count": 7,
      "outputs": []
    },
    {
      "cell_type": "code",
      "source": [
        "tokens = word_tokenize(train_corpus)"
      ],
      "metadata": {
        "id": "NYbEshzxoxFJ"
      },
      "execution_count": 8,
      "outputs": []
    },
    {
      "cell_type": "code",
      "source": [
        "tokens_filtered = [word for word in tokens if word.isalnum()]"
      ],
      "metadata": {
        "id": "g1psYLsno7gK"
      },
      "execution_count": 9,
      "outputs": []
    },
    {
      "cell_type": "code",
      "source": [
        "from nltk.probability import FreqDist\n",
        "dist = FreqDist(tokens_filtered)\n",
        "#tokens_filtered_top = [pair[0] for pair in dist.most_common(max_words-1)]"
      ],
      "metadata": {
        "id": "Y1VXC3kro8du"
      },
      "execution_count": 10,
      "outputs": []
    },
    {
      "cell_type": "code",
      "source": [
        "def text_to_sequence(text, maxlen):\n",
        "    result = []\n",
        "    tokens = word_tokenize(text.lower())\n",
        "    tokens_filtered = [word for word in tokens if word.isalnum()]\n",
        "    for word in tokens_filtered:\n",
        "        if word in vocabulary:\n",
        "            result.append(vocabulary[word])\n",
        "    padding = [0]*(maxlen-len(result))\n",
        "    return padding + result[-maxlen:]\n",
        "\n",
        "\n",
        "#x_train = np.asarray([text_to_sequence(text, max_len) for text in df_train[\"text\"]], dtype=np.int32)"
      ],
      "metadata": {
        "id": "7n8av0uUpPy2"
      },
      "execution_count": 11,
      "outputs": []
    },
    {
      "cell_type": "code",
      "source": [
        "X_train, X_test, y_train, y_test = train_test_split(df['prepared_Content'], df['Rating'], test_size=0.25, random_state=54)"
      ],
      "metadata": {
        "id": "2h68N5F9lEBx"
      },
      "execution_count": 12,
      "outputs": []
    },
    {
      "cell_type": "code",
      "source": [
        "from collections import Counter\n",
        "\n",
        "words_counter = Counter((word for text in X_train for word in text.lower().split()))\n",
        "\n",
        "word2idx = {\n",
        "    '': 0,\n",
        "    '<unk>': 1\n",
        "}\n",
        "for word, count in words_counter.most_common():\n",
        "    if count < 10:\n",
        "        break\n",
        "        \n",
        "    word2idx[word] = len(word2idx)\n",
        "    \n",
        "print('Words count', len(word2idx))"
      ],
      "metadata": {
        "colab": {
          "base_uri": "https://localhost:8080/"
        },
        "id": "qDvFBiY5teku",
        "outputId": "6d39144a-3379-4074-8d4f-f86efd5bbb79"
      },
      "execution_count": 13,
      "outputs": [
        {
          "output_type": "stream",
          "name": "stdout",
          "text": [
            "Words count 965\n"
          ]
        }
      ]
    },
    {
      "cell_type": "code",
      "source": [
        "def convert(texts, word2idx, max_text_len):\n",
        "    data = np.zeros((len(texts), max_text_len), dtype=np.int)\n",
        "    \n",
        "    for inx, text in enumerate(texts):\n",
        "        result = []\n",
        "        for word in text.split():\n",
        "            if word in word2idx:\n",
        "                result.append(word2idx[word])\n",
        "        padding = [0]*(max_text_len - len(result))\n",
        "        data[inx] = np.array(padding + result[-max_text_len:], dtype=np.int)\n",
        "    return data\n",
        "\n",
        "X_train = convert(X_train, word2idx, 1000)\n",
        "X_test = convert(X_test, word2idx, 1000)"
      ],
      "metadata": {
        "colab": {
          "base_uri": "https://localhost:8080/"
        },
        "id": "7U-qmFoAzLhC",
        "outputId": "893972b0-a5e9-4f95-82e8-2dfb64432cfe"
      },
      "execution_count": 14,
      "outputs": [
        {
          "output_type": "stream",
          "name": "stderr",
          "text": [
            "/usr/local/lib/python3.7/dist-packages/ipykernel_launcher.py:2: DeprecationWarning: `np.int` is a deprecated alias for the builtin `int`. To silence this warning, use `int` by itself. Doing this will not modify any behavior and is safe. When replacing `np.int`, you may wish to use e.g. `np.int64` or `np.int32` to specify the precision. If you wish to review your current use, check the release note link for additional information.\n",
            "Deprecated in NumPy 1.20; for more details and guidance: https://numpy.org/devdocs/release/1.20.0-notes.html#deprecations\n",
            "  \n",
            "/usr/local/lib/python3.7/dist-packages/ipykernel_launcher.py:10: DeprecationWarning: `np.int` is a deprecated alias for the builtin `int`. To silence this warning, use `int` by itself. Doing this will not modify any behavior and is safe. When replacing `np.int`, you may wish to use e.g. `np.int64` or `np.int32` to specify the precision. If you wish to review your current use, check the release note link for additional information.\n",
            "Deprecated in NumPy 1.20; for more details and guidance: https://numpy.org/devdocs/release/1.20.0-notes.html#deprecations\n",
            "  # Remove the CWD from sys.path while we load stuff.\n"
          ]
        }
      ]
    },
    {
      "cell_type": "code",
      "source": [
        "y_train = y_train.apply (lambda x: x-1)\n",
        "y_test = y_test.apply (lambda x: x-1)"
      ],
      "metadata": {
        "id": "vifnLnrJxe8i"
      },
      "execution_count": 15,
      "outputs": []
    },
    {
      "cell_type": "code",
      "source": [
        "num_classes = 5\n",
        "y_train = np_utils.to_categorical(y_train, num_classes)\n",
        "y_test = np_utils.to_categorical(y_test, num_classes)"
      ],
      "metadata": {
        "id": "-5OOyL--lj-s"
      },
      "execution_count": 16,
      "outputs": []
    },
    {
      "cell_type": "code",
      "source": [
        "model_cnn = Sequential()\n",
        "model_cnn.add(Embedding(input_dim=len(word2idx), output_dim=128, input_shape=(X_train.shape[1],)))\n",
        "model_cnn.add(Conv1D(128, 3))\n",
        "model_cnn.add(Activation(\"relu\"))\n",
        "model_cnn.add(GlobalMaxPool1D())\n",
        "model_cnn.add(Dense(10))\n",
        "model_cnn.add(Activation(\"relu\"))\n",
        "model_cnn.add(Dense(num_classes))\n",
        "model_cnn.add(Activation('softmax'))"
      ],
      "metadata": {
        "id": "nS2MJMssgj4L"
      },
      "execution_count": 17,
      "outputs": []
    },
    {
      "cell_type": "code",
      "source": [
        "model_cnn.compile(loss='categorical_crossentropy',\n",
        "              optimizer='adam',\n",
        "              metrics=['accuracy'])"
      ],
      "metadata": {
        "id": "ia4iOvvFgqpu"
      },
      "execution_count": 18,
      "outputs": []
    },
    {
      "cell_type": "code",
      "source": [
        "tensorboard=TensorBoard(log_dir='./logs', write_graph=True, write_images=True)\n",
        "early_stopping=EarlyStopping(monitor='val_loss')  \n",
        "\n",
        "epochs = 10\n",
        "batch_size = 1024\n",
        "print_batch_n = 100\n",
        "\n",
        "history = model_cnn.fit(X_train, y_train,\n",
        "                    batch_size=batch_size,\n",
        "                    epochs=epochs,\n",
        "                    verbose=1,\n",
        "                    validation_split=0.1,\n",
        "                    #callbacks=[tensorboard, early_stopping],\n",
        "                    validation_data=(X_test, y_test))"
      ],
      "metadata": {
        "colab": {
          "base_uri": "https://localhost:8080/"
        },
        "id": "xZ28xofVgtuk",
        "outputId": "df113abb-a0c0-435e-d7c6-b6d1106d823e"
      },
      "execution_count": 19,
      "outputs": [
        {
          "output_type": "stream",
          "name": "stdout",
          "text": [
            "Epoch 1/10\n",
            "14/14 [==============================] - 97s 7s/step - loss: 1.4301 - accuracy: 0.6664 - val_loss: 1.1903 - val_accuracy: 0.7194\n",
            "Epoch 2/10\n",
            "14/14 [==============================] - 96s 7s/step - loss: 1.0634 - accuracy: 0.7084 - val_loss: 0.9301 - val_accuracy: 0.7194\n",
            "Epoch 3/10\n",
            "14/14 [==============================] - 94s 7s/step - loss: 0.9138 - accuracy: 0.7084 - val_loss: 0.8641 - val_accuracy: 0.7200\n",
            "Epoch 4/10\n",
            "14/14 [==============================] - 100s 7s/step - loss: 0.8192 - accuracy: 0.7287 - val_loss: 0.7606 - val_accuracy: 0.7490\n",
            "Epoch 5/10\n",
            "14/14 [==============================] - 94s 7s/step - loss: 0.7230 - accuracy: 0.7622 - val_loss: 0.7017 - val_accuracy: 0.7626\n",
            "Epoch 6/10\n",
            "14/14 [==============================] - 95s 7s/step - loss: 0.6720 - accuracy: 0.7747 - val_loss: 0.6751 - val_accuracy: 0.7645\n",
            "Epoch 7/10\n",
            "14/14 [==============================] - 94s 7s/step - loss: 0.6471 - accuracy: 0.7804 - val_loss: 0.6682 - val_accuracy: 0.7690\n",
            "Epoch 8/10\n",
            "14/14 [==============================] - 94s 7s/step - loss: 0.6325 - accuracy: 0.7846 - val_loss: 0.6629 - val_accuracy: 0.7684\n",
            "Epoch 9/10\n",
            "14/14 [==============================] - 95s 7s/step - loss: 0.6194 - accuracy: 0.7861 - val_loss: 0.6579 - val_accuracy: 0.7690\n",
            "Epoch 10/10\n",
            "14/14 [==============================] - 94s 7s/step - loss: 0.6077 - accuracy: 0.7880 - val_loss: 0.6560 - val_accuracy: 0.7703\n"
          ]
        }
      ]
    },
    {
      "cell_type": "markdown",
      "source": [
        "2. построить различные архитектуры с RNN"
      ],
      "metadata": {
        "id": "WNqzMstRhBSC"
      }
    },
    {
      "cell_type": "code",
      "source": [
        "model_rnn = Sequential()\n",
        "\n",
        "model_rnn.add(Embedding(input_dim=len(word2idx), output_dim=128, input_shape=(X_train.shape[1],),\n",
        "              trainable=True,\n",
        "              mask_zero=True))\n",
        "model_rnn.add(Masking(mask_value=0.0))\n",
        "\n",
        "model_rnn.add(SimpleRNN(64))\n",
        "model_rnn.add(Dense(64, activation='relu'))\n",
        "model_rnn.add(Dropout(0.5))\n",
        "model_rnn.add(Dense(num_classes, activation='sigmoid'))\n",
        "\n",
        "model_rnn.compile(\n",
        "    optimizer='adam', loss='categorical_crossentropy', metrics=['accuracy'])"
      ],
      "metadata": {
        "id": "puh2hEA6hAy7"
      },
      "execution_count": 20,
      "outputs": []
    },
    {
      "cell_type": "code",
      "source": [
        "early_stopping=EarlyStopping(monitor='val_loss')  \n",
        "\n",
        "\n",
        "history = model_rnn.fit(X_train, y_train,\n",
        "                    batch_size=batch_size,\n",
        "                    epochs=epochs,\n",
        "                    verbose=1,\n",
        "                    validation_split=0.1,\n",
        "                    #callbacks=[tensorboard, early_stopping],\n",
        "                    validation_data=(X_test, y_test))"
      ],
      "metadata": {
        "colab": {
          "base_uri": "https://localhost:8080/"
        },
        "id": "NK6Jsd-eiA2t",
        "outputId": "1c162da6-33c5-47fb-f1e0-c5abd6be3d8f"
      },
      "execution_count": 21,
      "outputs": [
        {
          "output_type": "stream",
          "name": "stdout",
          "text": [
            "Epoch 1/10\n",
            "14/14 [==============================] - 107s 7s/step - loss: 1.1266 - accuracy: 0.6711 - val_loss: 0.9054 - val_accuracy: 0.7194\n",
            "Epoch 2/10\n",
            "14/14 [==============================] - 85s 6s/step - loss: 0.9223 - accuracy: 0.7133 - val_loss: 0.8169 - val_accuracy: 0.7206\n",
            "Epoch 3/10\n",
            "14/14 [==============================] - 79s 6s/step - loss: 0.8267 - accuracy: 0.7285 - val_loss: 0.7604 - val_accuracy: 0.7297\n",
            "Epoch 4/10\n",
            "14/14 [==============================] - 81s 6s/step - loss: 0.7634 - accuracy: 0.7488 - val_loss: 0.7229 - val_accuracy: 0.7413\n",
            "Epoch 5/10\n",
            "14/14 [==============================] - 82s 6s/step - loss: 0.7146 - accuracy: 0.7642 - val_loss: 0.6926 - val_accuracy: 0.7561\n",
            "Epoch 6/10\n",
            "14/14 [==============================] - 81s 6s/step - loss: 0.6705 - accuracy: 0.7761 - val_loss: 0.6716 - val_accuracy: 0.7594\n",
            "Epoch 7/10\n",
            "14/14 [==============================] - 80s 6s/step - loss: 0.6379 - accuracy: 0.7863 - val_loss: 0.6668 - val_accuracy: 0.7645\n",
            "Epoch 8/10\n",
            "14/14 [==============================] - 88s 6s/step - loss: 0.6138 - accuracy: 0.7953 - val_loss: 0.6618 - val_accuracy: 0.7639\n",
            "Epoch 9/10\n",
            "14/14 [==============================] - 82s 6s/step - loss: 0.5881 - accuracy: 0.8036 - val_loss: 0.6639 - val_accuracy: 0.7652\n",
            "Epoch 10/10\n",
            "14/14 [==============================] - 82s 6s/step - loss: 0.5597 - accuracy: 0.8124 - val_loss: 0.6780 - val_accuracy: 0.7658\n"
          ]
        }
      ]
    },
    {
      "cell_type": "code",
      "source": [
        "model_lstm = Sequential()\n",
        "\n",
        "model_lstm.add(Embedding(input_dim=len(word2idx), output_dim=128, input_shape=(X_train.shape[1],),\n",
        "              trainable=True,\n",
        "              mask_zero=True))\n",
        "model_lstm.add(Masking(mask_value=0.0))\n",
        "model_lstm.add(LSTM(64, recurrent_dropout=0.2))\n",
        "model_lstm.add(Dense(64, activation='relu'))\n",
        "model_lstm.add(Dropout(0.5))\n",
        "model_lstm.add(Dense(num_classes, activation='sigmoid'))\n",
        "\n",
        "model_lstm.compile(\n",
        "    optimizer='adam', loss='categorical_crossentropy', metrics=['accuracy'])\n",
        "\n",
        "early_stopping=EarlyStopping(monitor='val_loss')  "
      ],
      "metadata": {
        "id": "36lrHyxGvOJE"
      },
      "execution_count": 27,
      "outputs": []
    },
    {
      "cell_type": "code",
      "source": [
        "history = model_lstm.fit(X_train, y_train,\n",
        "                    batch_size=batch_size,\n",
        "                    epochs=epochs,\n",
        "                    verbose=1,\n",
        "                    validation_split=0.1,\n",
        "                    #callbacks=[tensorboard, early_stopping],\n",
        "                    validation_data=(X_test, y_test))"
      ],
      "metadata": {
        "colab": {
          "base_uri": "https://localhost:8080/"
        },
        "id": "XfM94f8hvjYh",
        "outputId": "3625b06c-c906-494c-a26a-e85f34465a46"
      },
      "execution_count": 28,
      "outputs": [
        {
          "output_type": "stream",
          "name": "stdout",
          "text": [
            "Epoch 1/10\n",
            "14/14 [==============================] - 290s 19s/step - loss: 1.2735 - accuracy: 0.6904 - val_loss: 0.9740 - val_accuracy: 0.7194\n",
            "Epoch 2/10\n",
            "14/14 [==============================] - 252s 18s/step - loss: 0.9606 - accuracy: 0.7081 - val_loss: 0.8430 - val_accuracy: 0.7194\n",
            "Epoch 3/10\n",
            "14/14 [==============================] - 257s 18s/step - loss: 0.8619 - accuracy: 0.7106 - val_loss: 0.7747 - val_accuracy: 0.7310\n",
            "Epoch 4/10\n",
            "14/14 [==============================] - 251s 18s/step - loss: 0.7931 - accuracy: 0.7369 - val_loss: 0.7258 - val_accuracy: 0.7413\n",
            "Epoch 5/10\n",
            "14/14 [==============================] - 256s 18s/step - loss: 0.7406 - accuracy: 0.7538 - val_loss: 0.6944 - val_accuracy: 0.7490\n",
            "Epoch 6/10\n",
            "14/14 [==============================] - 252s 18s/step - loss: 0.7030 - accuracy: 0.7612 - val_loss: 0.6704 - val_accuracy: 0.7561\n",
            "Epoch 7/10\n",
            "14/14 [==============================] - 254s 18s/step - loss: 0.6744 - accuracy: 0.7694 - val_loss: 0.6594 - val_accuracy: 0.7613\n",
            "Epoch 8/10\n",
            "14/14 [==============================] - 255s 18s/step - loss: 0.6613 - accuracy: 0.7756 - val_loss: 0.6541 - val_accuracy: 0.7639\n",
            "Epoch 9/10\n",
            "14/14 [==============================] - 247s 18s/step - loss: 0.6472 - accuracy: 0.7791 - val_loss: 0.6554 - val_accuracy: 0.7665\n",
            "Epoch 10/10\n",
            "14/14 [==============================] - 260s 19s/step - loss: 0.6391 - accuracy: 0.7828 - val_loss: 0.6533 - val_accuracy: 0.7652\n"
          ]
        }
      ]
    },
    {
      "cell_type": "code",
      "source": [
        "model_gru = Sequential()\n",
        "\n",
        "model_gru.add(Embedding(input_dim=len(word2idx), output_dim=128, input_shape=(X_train.shape[1],),\n",
        "              trainable=True,\n",
        "              mask_zero=True))\n",
        "model_gru.add(Masking(mask_value=0.0))\n",
        "model_gru.add(GRU(64, recurrent_dropout=0.2))\n",
        "model_gru.add(Dense(64, activation='relu'))\n",
        "model_gru.add(Dropout(0.5))\n",
        "model_gru.add(Dense(num_classes, activation='sigmoid'))\n",
        "\n",
        "model_gru.compile(\n",
        "    optimizer='adam', loss='categorical_crossentropy', metrics=['accuracy'])"
      ],
      "metadata": {
        "id": "qOMFZ3UBvrYs"
      },
      "execution_count": 29,
      "outputs": []
    },
    {
      "cell_type": "code",
      "source": [
        "history = model_gru.fit(X_train, y_train,\n",
        "                    batch_size=batch_size,\n",
        "                    epochs=epochs,\n",
        "                    verbose=1,\n",
        "                    validation_split=0.1,\n",
        "                    #callbacks=[tensorboard, early_stopping],\n",
        "                    validation_data=(X_test, y_test))"
      ],
      "metadata": {
        "colab": {
          "base_uri": "https://localhost:8080/"
        },
        "id": "hf4GdOwXvd4b",
        "outputId": "59916404-834f-4bd4-aff5-ee99e2404de7"
      },
      "execution_count": 30,
      "outputs": [
        {
          "output_type": "stream",
          "name": "stdout",
          "text": [
            "Epoch 1/10\n",
            "14/14 [==============================] - 203s 14s/step - loss: 1.4140 - accuracy: 0.6466 - val_loss: 1.0009 - val_accuracy: 0.7194\n",
            "Epoch 2/10\n",
            "14/14 [==============================] - 201s 14s/step - loss: 0.9364 - accuracy: 0.7084 - val_loss: 0.8155 - val_accuracy: 0.7194\n",
            "Epoch 3/10\n",
            "14/14 [==============================] - 211s 15s/step - loss: 0.8230 - accuracy: 0.7148 - val_loss: 0.7509 - val_accuracy: 0.7290\n",
            "Epoch 4/10\n",
            "14/14 [==============================] - 200s 14s/step - loss: 0.7599 - accuracy: 0.7392 - val_loss: 0.7085 - val_accuracy: 0.7452\n",
            "Epoch 5/10\n",
            "14/14 [==============================] - 201s 14s/step - loss: 0.7212 - accuracy: 0.7588 - val_loss: 0.6875 - val_accuracy: 0.7574\n",
            "Epoch 6/10\n",
            "14/14 [==============================] - 206s 15s/step - loss: 0.6900 - accuracy: 0.7668 - val_loss: 0.6727 - val_accuracy: 0.7587\n",
            "Epoch 7/10\n",
            "14/14 [==============================] - 199s 14s/step - loss: 0.6666 - accuracy: 0.7730 - val_loss: 0.6675 - val_accuracy: 0.7606\n",
            "Epoch 8/10\n",
            "14/14 [==============================] - 202s 14s/step - loss: 0.6480 - accuracy: 0.7790 - val_loss: 0.6617 - val_accuracy: 0.7600\n",
            "Epoch 9/10\n",
            "14/14 [==============================] - 205s 15s/step - loss: 0.6341 - accuracy: 0.7829 - val_loss: 0.6604 - val_accuracy: 0.7658\n",
            "Epoch 10/10\n",
            "14/14 [==============================] - 200s 14s/step - loss: 0.6239 - accuracy: 0.7886 - val_loss: 0.6610 - val_accuracy: 0.7665\n"
          ]
        }
      ]
    },
    {
      "cell_type": "markdown",
      "source": [
        "3. построить совместные архитектуры CNN -> RNN или (RNN -> CNN)"
      ],
      "metadata": {
        "id": "KBEcxZZliL4B"
      }
    },
    {
      "cell_type": "code",
      "source": [
        "model_cnn_rnn = Sequential()\n",
        "model_cnn_rnn.add(Embedding(input_dim=len(word2idx), output_dim=128, input_shape=(X_train.shape[1],),\n",
        "              trainable=True,\n",
        "              mask_zero=True))\n",
        "model_cnn_rnn.add(Masking(mask_value=0.0))\n",
        "model_cnn_rnn.add(Conv1D(128, 3))\n",
        "model_cnn_rnn.add(Activation(\"relu\"))\n",
        "model_cnn_rnn.add(MaxPooling1D())\n",
        "model_cnn_rnn.add(Dense(10))\n",
        "model_cnn_rnn.add(Activation(\"relu\"))\n",
        "model_cnn_rnn.add(SimpleRNN(64))\n",
        "model_cnn_rnn.add(Dense(64, activation='relu'))\n",
        "model_cnn_rnn.add(Dropout(0.5))\n",
        "model_cnn_rnn.add(Dense(num_classes))\n",
        "model_cnn_rnn.add(Activation('softmax'))\n",
        "\n",
        "model_cnn_rnn.compile(loss='categorical_crossentropy',\n",
        "              optimizer='adam',\n",
        "              metrics=['accuracy'])"
      ],
      "metadata": {
        "id": "fYLCgJUPiLQc"
      },
      "execution_count": 31,
      "outputs": []
    },
    {
      "cell_type": "code",
      "source": [
        "history = model_cnn_rnn.fit(X_train, y_train,\n",
        "                    batch_size=batch_size,\n",
        "                    epochs=epochs,\n",
        "                    verbose=1,\n",
        "                    validation_split=0.1,\n",
        "                    #callbacks=[tensorboard, early_stopping],\n",
        "                    validation_data=(X_test, y_test))"
      ],
      "metadata": {
        "colab": {
          "base_uri": "https://localhost:8080/"
        },
        "id": "_fZ6skUtlbFo",
        "outputId": "80511118-59f7-4ebd-8506-6a95c98099de"
      },
      "execution_count": 32,
      "outputs": [
        {
          "output_type": "stream",
          "name": "stdout",
          "text": [
            "Epoch 1/10\n",
            "14/14 [==============================] - 123s 8s/step - loss: 1.4438 - accuracy: 0.4291 - val_loss: 1.1554 - val_accuracy: 0.7194\n",
            "Epoch 2/10\n",
            "14/14 [==============================] - 116s 8s/step - loss: 1.0952 - accuracy: 0.7050 - val_loss: 0.9332 - val_accuracy: 0.7194\n",
            "Epoch 3/10\n",
            "14/14 [==============================] - 123s 9s/step - loss: 0.9766 - accuracy: 0.7076 - val_loss: 0.8508 - val_accuracy: 0.7187\n",
            "Epoch 4/10\n",
            "14/14 [==============================] - 118s 8s/step - loss: 0.8816 - accuracy: 0.7139 - val_loss: 0.7757 - val_accuracy: 0.7245\n",
            "Epoch 5/10\n",
            "14/14 [==============================] - 121s 9s/step - loss: 0.7844 - accuracy: 0.7342 - val_loss: 0.6972 - val_accuracy: 0.7523\n",
            "Epoch 6/10\n",
            "14/14 [==============================] - 117s 8s/step - loss: 0.7157 - accuracy: 0.7600 - val_loss: 0.6691 - val_accuracy: 0.7619\n",
            "Epoch 7/10\n",
            "14/14 [==============================] - 118s 8s/step - loss: 0.6828 - accuracy: 0.7697 - val_loss: 0.6629 - val_accuracy: 0.7626\n",
            "Epoch 8/10\n",
            "14/14 [==============================] - 124s 9s/step - loss: 0.6661 - accuracy: 0.7760 - val_loss: 0.6589 - val_accuracy: 0.7639\n",
            "Epoch 9/10\n",
            "14/14 [==============================] - 120s 9s/step - loss: 0.6433 - accuracy: 0.7845 - val_loss: 0.6605 - val_accuracy: 0.7652\n",
            "Epoch 10/10\n",
            "14/14 [==============================] - 119s 8s/step - loss: 0.6329 - accuracy: 0.7869 - val_loss: 0.6663 - val_accuracy: 0.7645\n"
          ]
        }
      ]
    },
    {
      "cell_type": "markdown",
      "source": [
        "Наилучший результат у сверточной сети, из RNN сетей лучший результат показала сеть с SimpleRNN, обединёная сеть показала результат хуже чистых сетей."
      ],
      "metadata": {
        "id": "AJOEbc_xQIJy"
      }
    },
    {
      "cell_type": "code",
      "source": [
        ""
      ],
      "metadata": {
        "id": "Z_hvTbz-kDbU"
      },
      "execution_count": 32,
      "outputs": []
    }
  ]
}